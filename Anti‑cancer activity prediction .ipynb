{
 "cells": [
  {
   "cell_type": "code",
   "execution_count": 1,
   "metadata": {},
   "outputs": [],
   "source": [
    "import warnings\n",
    "warnings.filterwarnings('ignore')"
   ]
  },
  {
   "cell_type": "markdown",
   "metadata": {
    "id": "OnO43ORuJ3R-"
   },
   "source": [
    "## Read SDF format data (structured-data format)\n",
    "\n",
    "Here used a SDF file to save the chemical composition of a molecule\n",
    "\n",
    "In the SDF file we found \n",
    "\n",
    "stored information about position of individual atom\n",
    "\n",
    "each molecules are delimited by $$$$\n",
    "\n",
    "the atom block lines start with '    ' and have information about atoms(C,O,N,Cl..)\n",
    "\n",
    "bond block starts with ' ' and contains info about connection between atoms"
   ]
  },
  {
   "cell_type": "code",
   "execution_count": 2,
   "metadata": {
    "id": "uyLP6iiBJ3SC"
   },
   "outputs": [],
   "source": [
    "import numpy as np\n",
    "from tqdm.notebook import tqdm   # tqdm is a library in Python which is used for creating Progress Meters or Progress Bars.\n",
    "\n",
    "# function to read sdf file\n",
    "def read_sdf(file):\n",
    "    with open(file, 'r') as rf:  # open the file\n",
    "        content = rf.read()      # read contents of the file\n",
    "    samples = content.split('$$$$')  # split the read file by delimiter $$$$ which mean split each molecule in an array\n",
    "    \n",
    "    # function to read each molecule ingredient\n",
    "    def parse_sample(s):\n",
    "        lines = s.splitlines()  # split data to lines\n",
    "        links = []              # array for links\n",
    "        nodes = []              # array for nodes \n",
    "        label = 0\n",
    "        \n",
    "        #loop over each line\n",
    "        for l in lines:         \n",
    "            if l.strip() == '1.0':  \n",
    "                label = 1\n",
    "            if l.strip() == '-1.0':\n",
    "                label = 0\n",
    "            if l.startswith('    '): # for Atom block \n",
    "                feature = l.split()\n",
    "                node = feature[3]   # features of node (atom) as O,C,N,H .\n",
    "                nodes.append(node)\n",
    "            elif l.startswith(' '): # for bond block which tell about connections between atoms (links)\n",
    "                lnk = l.split()\n",
    "                # edge: (from, to,) (1-based index)\n",
    "                if int(lnk[0]) - 1 < len(nodes):\n",
    "                    links.append((\n",
    "                        int(lnk[0])-1, # first atom\n",
    "                        int(lnk[1])-1, # zero-based index\n",
    "                        # int(lnk[2]) ignore edge weight\n",
    "                    ))\n",
    "        return nodes, np.array(links), label  # return nodes, links and label\n",
    "    \n",
    "    return [parse_sample(s) for s in tqdm(samples) if len(s[0]) > 0]   # return parse_sample for each molecule   "
   ]
  },
  {
   "cell_type": "code",
   "execution_count": 3,
   "metadata": {
    "colab": {
     "base_uri": "https://localhost:8080/",
     "height": 49,
     "referenced_widgets": [
      "e1e657115b424f7a9f9c45dace7ed644",
      "7d7ec5e2e2884c06a0a23039ff2bbf07",
      "c5a1d3019ce94c5b8397b416921e08a9",
      "c59e9b98caf54a25b057544e2cc46c91",
      "13e879f1b22643299f085e50ff8cadaf",
      "fb3d162a33bc4eccb0fdf1c49e8131ef",
      "eb4e9e4aeddc41f4b83718f7d32ff505",
      "345b51b4c898477b9108c54b388cd30a",
      "69ea041ebe464ca8ab7700e3a3f9b1cd",
      "d0835e7ab889467ab43d455a544ce38a",
      "ebd6ecfd76e24c08af04e4c7517a27bf"
     ]
    },
    "id": "eYVxVHHyJ3SE",
    "outputId": "a9e7dd01-728d-44d9-ac08-3ce32ba46712"
   },
   "outputs": [
    {
     "data": {
      "application/vnd.jupyter.widget-view+json": {
       "model_id": "71c63dab55e84be69ee2d182026c9c4f",
       "version_major": 2,
       "version_minor": 0
      },
      "text/plain": [
       "  0%|          | 0/25024 [00:00<?, ?it/s]"
      ]
     },
     "metadata": {},
     "output_type": "display_data"
    }
   ],
   "source": [
    "training_set = read_sdf('train.sdf') # read train dataset (train.sdf) file "
   ]
  },
  {
   "cell_type": "code",
   "execution_count": 4,
   "metadata": {
    "colab": {
     "base_uri": "https://localhost:8080/",
     "height": 49,
     "referenced_widgets": [
      "84e92dd8efea4bb188544d49a0398eec",
      "98803d5c496c411a9f49fdc5ff749140",
      "2f078ccd51f9483699ac1934d735b94c",
      "c2b4e234c14c40378f2e5327eb20269f",
      "8a9e7ec2462b4a27b23f6c5391edc166",
      "cb32c707f6fa4e5b8553392ee3ab10a2",
      "21325a895b3f4200badd677bba01dbc3",
      "eb6430813e844894b8ed770ae91a29cd",
      "ddefafb6d61b415686eaadbc97cfe3ef",
      "d06ecadd8cf1407eaa853f66eb880fed",
      "be4b129e72fe48b896f91e0947b73429"
     ]
    },
    "id": "6U_H8-RQJ3SG",
    "outputId": "317ca1ca-502c-495a-9bf0-feaa933f0a89"
   },
   "outputs": [
    {
     "data": {
      "application/vnd.jupyter.widget-view+json": {
       "model_id": "11d45df5409841d79731e5fd79d35ddc",
       "version_major": 2,
       "version_minor": 0
      },
      "text/plain": [
       "  0%|          | 0/12326 [00:00<?, ?it/s]"
      ]
     },
     "metadata": {},
     "output_type": "display_data"
    }
   ],
   "source": [
    "testing_set  = read_sdf('test_x.sdf') # read test dataset (test_x.sdf) file"
   ]
  },
  {
   "cell_type": "markdown",
   "metadata": {
    "id": "F87EtUAy0uDi"
   },
   "source": [
    "# Unbalanced dataset\n",
    "\n",
    "Here I found that our data is very unbalanced, So we need to make it balance by  upsampling the dataset by simply copying records from minority classes, We can do so via the **resample() method** from the sklearn.utils module"
   ]
  },
  {
   "cell_type": "code",
   "execution_count": 5,
   "metadata": {},
   "outputs": [],
   "source": [
    "import pandas as pd\n",
    "train_data = pd.DataFrame(training_set, columns=['node','edge','label']) # convert training_set into DataFrame"
   ]
  },
  {
   "cell_type": "code",
   "execution_count": 6,
   "metadata": {},
   "outputs": [
    {
     "name": "stdout",
     "output_type": "stream",
     "text": [
      "0    23806\n",
      "1     1218\n",
      "Name: label, dtype: int64\n"
     ]
    },
    {
     "data": {
      "text/plain": [
       "<AxesSubplot:ylabel='label'>"
      ]
     },
     "execution_count": 6,
     "metadata": {},
     "output_type": "execute_result"
    },
    {
     "data": {
      "image/png": "[encoded data removed]",
      "text/plain": [
       "<Figure size 432x288 with 1 Axes>"
      ]
     },
     "metadata": {},
     "output_type": "display_data"
    }
   ],
   "source": [
    "# print number of 0,1 in the label column\n",
    "print(train_data['label'].value_counts())\n",
    "train_data.groupby('label').size().plot(kind='pie',label = \"label\",autopct='%5.1f%%') # pie plot to illustate unbalance data"
   ]
  },
  {
   "cell_type": "code",
   "execution_count": 7,
   "metadata": {},
   "outputs": [],
   "source": [
    "class0 = train_data[train_data['label']==0] # save train_data['label']=0 into class0 \n",
    "class1 = train_data[train_data['label']==1] # save train_data['label']=1 into class1"
   ]
  },
  {
   "cell_type": "code",
   "execution_count": 8,
   "metadata": {},
   "outputs": [],
   "source": [
    "from sklearn.utils import resample \n",
    "class1 = resample(class1,replace=True,n_samples=len(class0),random_state=42)  # resample class1"
   ]
  },
  {
   "cell_type": "code",
   "execution_count": 9,
   "metadata": {},
   "outputs": [
    {
     "name": "stdout",
     "output_type": "stream",
     "text": [
      "1    23806\n",
      "0    23806\n",
      "Name: label, dtype: int64\n"
     ]
    },
    {
     "data": {
      "text/plain": [
       "<AxesSubplot:ylabel='label'>"
      ]
     },
     "execution_count": 9,
     "metadata": {},
     "output_type": "execute_result"
    },
    {
     "data": {
      "image/png": "[encoded data removed]",
      "text/plain": [
       "<Figure size 432x288 with 1 Axes>"
      ]
     },
     "metadata": {},
     "output_type": "display_data"
    }
   ],
   "source": [
    "data_upsampled = pd.concat([class1, class0])  # get upsampled data\n",
    "print(data_upsampled[\"label\"].value_counts()) # print no. of 0, 1 in label column\n",
    "data_upsampled.groupby('label').size().plot(kind='pie',label = \"label\",autopct='%1.1f%%') # pie plot to clarify balanced data"
   ]
  },
  {
   "cell_type": "code",
   "execution_count": 10,
   "metadata": {},
   "outputs": [],
   "source": [
    "# convert data_upsampled from DataFram form to an array form to Visualize data\n",
    "data_upsampled_ = data_upsampled.to_numpy()"
   ]
  },
  {
   "cell_type": "code",
   "execution_count": 11,
   "metadata": {},
   "outputs": [],
   "source": [
    "from sklearn.model_selection import train_test_split\n",
    "training_set, validation_set = train_test_split(data_upsampled_, test_size=0.15,)  # split train data into training & validation"
   ]
  },
  {
   "cell_type": "markdown",
   "metadata": {
    "id": "kTfOY788J3SH"
   },
   "source": [
    "## Visualizing/Inspecting a Sample\n",
    "\n",
    "Each sample's data is included in the training set (molecule). There are three elements in each sample array. The first part contains textual information on the atoms, the second element contains information about the connections, and the third element contains information about the labels for each molecule."
   ]
  },
  {
   "cell_type": "code",
   "execution_count": 12,
   "metadata": {
    "id": "giIz-d9MJ3SH"
   },
   "outputs": [],
   "source": [
    "# import libraries to show network of molecule\n",
    "!pip install --quiet networkx\n",
    "\n",
    "import networkx as nx\n",
    "import matplotlib.pyplot as plt\n",
    "from matplotlib import cm\n",
    "\n",
    "colors = cm.rainbow(np.linspace(0, 1, 50))"
   ]
  },
  {
   "cell_type": "code",
   "execution_count": 13,
   "metadata": {
    "id": "U514kc0QJ3SH"
   },
   "outputs": [],
   "source": [
    "# function to visualize the compound graph\n",
    "def visualize(sample):\n",
    "    G=nx.Graph()\n",
    "    nodes = sample[0] # atoms are defined as nodes\n",
    "    edges = sample[1] # connections are defined as edges\n",
    "    \n",
    "    labeldict={}    # define dictionary for the nodes\n",
    "    node_color=[]\n",
    "    for i,n in enumerate(nodes):  # for each node in the sample\n",
    "        G.add_node(i)   # add node to the graph each node such as (0,1,2,3, 4..)\n",
    "        labeldict[i]=n  # building the dictionary  with [key,value] as [0:'N',1:'C']\n",
    "        node_color.append(colors[hash(n)%len(colors)]) # for color \n",
    "\n",
    "    # a list of nodes:\n",
    "    for e in edges:\n",
    "        G.add_edge(e[0], e[1])  # add egdes (connections) to the graph from one connection to other connection\n",
    "\n",
    "    # draw the graph with labels for nodes (atoms) and connections (edges)   \n",
    "    nx.draw(G, labels=labeldict, with_labels = True, node_color = node_color)\n",
    "    plt.show() \n",
    "    \n",
    "    return G   # return gragh"
   ]
  },
  {
   "cell_type": "code",
   "execution_count": 14,
   "metadata": {
    "colab": {
     "base_uri": "https://localhost:8080/",
     "height": 336
    },
    "id": "jM-k6GSXJ3SH",
    "outputId": "c6746d40-54f2-45a8-a8cd-bb093d3d2f39"
   },
   "outputs": [
    {
     "data": {
      "image/png": "[encoded data removed]",
      "text/plain": [
       "<Figure size 432x288 with 1 Axes>"
      ]
     },
     "metadata": {},
     "output_type": "display_data"
    },
    {
     "data": {
      "text/plain": [
       "<networkx.classes.graph.Graph at 0x245c8c0e580>"
      ]
     },
     "execution_count": 14,
     "metadata": {},
     "output_type": "execute_result"
    }
   ],
   "source": [
    "# display the gragh\n",
    "plt.clf()\n",
    "visualize(training_set[10])"
   ]
  },
  {
   "cell_type": "code",
   "execution_count": 15,
   "metadata": {
    "colab": {
     "base_uri": "https://localhost:8080/"
    },
    "id": "zFzDFYK9UXZ1",
    "outputId": "f18e3aa2-f047-421b-8343-5d27611015c2"
   },
   "outputs": [
    {
     "name": "stdout",
     "output_type": "stream",
     "text": [
      "length of training data: 40470\n",
      "Number of labels in train data : 3\n",
      "length of testing data: 12326\n",
      "Number of labels in test data: 3\n"
     ]
    }
   ],
   "source": [
    "# print some details about the data\n",
    "print('length of training data:', len(training_set))\n",
    "print('Number of labels in train data :', len(training_set[0]))\n",
    "print('length of testing data:', len(testing_set))\n",
    "print('Number of labels in test data:', len(testing_set[0]))"
   ]
  },
  {
   "cell_type": "markdown",
   "metadata": {
    "id": "9V8OyfOeJ3SI"
   },
   "source": [
    "## Preprocessing:\n",
    "\n",
    "Tokenizing the nodes(atoms)"
   ]
  },
  {
   "cell_type": "code",
   "execution_count": 16,
   "metadata": {
    "id": "q_CTSSWgJ3SI"
   },
   "outputs": [],
   "source": [
    "# import Tokenizer\n",
    "from tensorflow.keras.preprocessing.text import Tokenizer\n",
    "\n",
    "max_vocab = 500 # size of vocabulary\n",
    "max_len = 100   # maximum length of the tokenized vector\n",
    "\n",
    "# build vocabulary from training set only for nodes characters\n",
    "all_nodes = [s[0] for s in training_set]\n",
    "tokenizer = Tokenizer(num_words=max_vocab)\n",
    "tokenizer.fit_on_texts(all_nodes)"
   ]
  },
  {
   "cell_type": "code",
   "execution_count": 17,
   "metadata": {
    "id": "IsdrXVZ4J3SI"
   },
   "outputs": [],
   "source": [
    "from tensorflow.keras.preprocessing.sequence import pad_sequences\n",
    "import random\n",
    "random.seed(0)\n",
    "\n",
    "# function to prepare single batch set, (samples) represents the batch of data\n",
    "def prepare_single_batch(samples):\n",
    "    sample_nodes = [s[0] for s in samples]      # characters(nodes) array\n",
    "    sample_nodes = tokenizer.texts_to_sequences(sample_nodes) # tokenize the sample nodes\n",
    "    sample_nodes = pad_sequences(sample_nodes, padding='post') # pad_sequences for each sample node with post padding\n",
    "    max_nodes_len = np.shape(sample_nodes)[1]                  #shape: (num of samples, number of nodes)(max length of nodes )\n",
    "    edges = [s[1]+i*max_nodes_len for i,s in enumerate(samples)]  #s[1]: links, i*max_nodes_len: to start indexing from current node not from 0 again\n",
    "    edges = [e for e in edges if len(e) > 0]                          #make sure all elements are non-zero\n",
    "    node_to_graph = [[i]*max_nodes_len for i in range(len(samples))]\n",
    "    \n",
    "    all_nodes = np.reshape(sample_nodes, -1)      #concatenate nodes of all samples together\n",
    "    all_edges = np.concatenate(edges)             #concatenate edges of all samples together (because edge is tuple, doesnt hae reshape, output is 2D)\n",
    "\n",
    "    node_to_graph = np.reshape(node_to_graph, -1)\n",
    "    # return a dictionary of features(data,edges,node2grah) and label\n",
    "    return {\n",
    "        'data': all_nodes,\n",
    "        'edges': all_edges,\n",
    "        'node2grah': node_to_graph,\n",
    "    }, np.array([s[2] for s in samples])\n",
    "\n",
    "\n",
    "# function to generate batch with given batch_size \n",
    "def gen_batch(dataset, batch_size=16, repeat=False, shuffle=True):\n",
    "    while True:\n",
    "        dataset = list(dataset)\n",
    "        if shuffle:\n",
    "            random.shuffle(dataset)\n",
    "        l = len(dataset)  # length of the dataset\n",
    "        for ndx in range(0, l, batch_size): # loop to create batches from the  given dataset \n",
    "            batch_samples = dataset[ndx:min(ndx + batch_size, l)]  # create batch samples with the given batch_size\n",
    " \n",
    "            yield prepare_single_batch(batch_samples) # return a generator with the given batches\n",
    "        if not repeat:\n",
    "            break\n"
   ]
  },
  {
   "cell_type": "code",
   "execution_count": 18,
   "metadata": {
    "colab": {
     "base_uri": "https://localhost:8080/"
    },
    "id": "rNEe_ml6J3SJ",
    "outputId": "3626986b-a84e-4bc8-efcc-90afd66c15a0"
   },
   "outputs": [
    {
     "name": "stdout",
     "output_type": "stream",
     "text": [
      "data\n",
      "[2 2 2 2 2 3 3 3 1 1 1 1 1 1 1 1 1 1 1 1 1 1 1 1 1 1 0 0 0 0 0 0 0 0 8 2 2\n",
      " 2 2 3 3 3 1 1 1 1 1 1 1 1 1 1 1 1 0 0 0 0 0 0 0 0 0 0 0 0 0 0 2 2 2 3 1 1\n",
      " 1 1 1 1 1 1 1 1 1 1 1 1 1 1 1 1 0 0 0 0 0 0 0 0 0 0 0 0 4 2 2 3 3 3 1 1 1\n",
      " 1 1 1 1 1 1 1 1 1 1 1 1 1 1 1 1 1 1 1 1 1 1 1 1 1]\n",
      "edges\n",
      "[[  0   9]\n",
      " [  1  11]\n",
      " [  2  15]\n",
      " [  3   7]\n",
      " [  4   7]\n",
      " [  5   6]\n",
      " [  5   9]\n",
      " [  5  11]\n",
      " [  6  10]\n",
      " [  7  19]\n",
      " [  8   9]\n",
      " [  8  10]\n",
      " [  8  13]\n",
      " [ 10  17]\n",
      " [ 11  12]\n",
      " [ 12  15]\n",
      " [ 12  16]\n",
      " [ 13  14]\n",
      " [ 14  18]\n",
      " [ 14  20]\n",
      " [ 15  21]\n",
      " [ 16  22]\n",
      " [ 18  19]\n",
      " [ 19  23]\n",
      " [ 20  25]\n",
      " [ 21  24]\n",
      " [ 22  24]\n",
      " [ 23  25]\n",
      " [ 34  35]\n",
      " [ 34  36]\n",
      " [ 34  42]\n",
      " [ 35  46]\n",
      " [ 36  47]\n",
      " [ 37  49]\n",
      " [ 37  52]\n",
      " [ 38  52]\n",
      " [ 39  41]\n",
      " [ 39  43]\n",
      " [ 39  44]\n",
      " [ 40  41]\n",
      " [ 40  42]\n",
      " [ 42  43]\n",
      " [ 44  45]\n",
      " [ 45  48]\n",
      " [ 46  50]\n",
      " [ 47  51]\n",
      " [ 48  49]\n",
      " [ 52  53]\n",
      " [ 68  73]\n",
      " [ 68  75]\n",
      " [ 69  72]\n",
      " [ 70  73]\n",
      " [ 71  77]\n",
      " [ 71  83]\n",
      " [ 71  84]\n",
      " [ 72  73]\n",
      " [ 72  74]\n",
      " [ 72  78]\n",
      " [ 74  81]\n",
      " [ 74  82]\n",
      " [ 75  76]\n",
      " [ 75  77]\n",
      " [ 76  79]\n",
      " [ 76  80]\n",
      " [ 78  87]\n",
      " [ 79  83]\n",
      " [ 80  84]\n",
      " [ 81  85]\n",
      " [ 82  86]\n",
      " [ 85  86]\n",
      " [ 87  88]\n",
      " [ 88  89]\n",
      " [102 119]\n",
      " [102 127]\n",
      " [103 110]\n",
      " [104 123]\n",
      " [104 129]\n",
      " [105 108]\n",
      " [105 109]\n",
      " [105 110]\n",
      " [106 108]\n",
      " [106 111]\n",
      " [107 109]\n",
      " [107 113]\n",
      " [108 115]\n",
      " [109 114]\n",
      " [110 111]\n",
      " [111 116]\n",
      " [112 113]\n",
      " [112 114]\n",
      " [112 117]\n",
      " [113 118]\n",
      " [115 120]\n",
      " [115 121]\n",
      " [116 123]\n",
      " [117 119]\n",
      " [118 122]\n",
      " [119 122]\n",
      " [120 124]\n",
      " [121 125]\n",
      " [123 126]\n",
      " [124 128]\n",
      " [125 128]\n",
      " [126 130]\n",
      " [127 131]\n",
      " [127 132]\n",
      " [129 130]\n",
      " [131 133]\n",
      " [132 134]\n",
      " [133 135]\n",
      " [134 135]]\n",
      "node2grah\n",
      "[0 0 0 0 0 0 0 0 0 0 0 0 0 0 0 0 0 0 0 0 0 0 0 0 0 0 0 0 0 0 0 0 0 0 1 1 1\n",
      " 1 1 1 1 1 1 1 1 1 1 1 1 1 1 1 1 1 1 1 1 1 1 1 1 1 1 1 1 1 1 1 2 2 2 2 2 2\n",
      " 2 2 2 2 2 2 2 2 2 2 2 2 2 2 2 2 2 2 2 2 2 2 2 2 2 2 2 2 3 3 3 3 3 3 3 3 3\n",
      " 3 3 3 3 3 3 3 3 3 3 3 3 3 3 3 3 3 3 3 3 3 3 3 3 3]\n",
      "label [1 0 0 0]\n"
     ]
    }
   ],
   "source": [
    "# showing one batch:\n",
    "for train_batch in gen_batch(training_set, batch_size=4):\n",
    "    for k,v in train_batch[0].items():          # k: labels, v: values\n",
    "        print(k)\n",
    "        print(v)\n",
    "        #print(len(v))\n",
    "        pass\n",
    "    print('label', train_batch[1])\n",
    "    break"
   ]
  },
  {
   "cell_type": "markdown",
   "metadata": {},
   "source": [
    "# Function for plotting loss & accuracy"
   ]
  },
  {
   "cell_type": "code",
   "execution_count": 19,
   "metadata": {},
   "outputs": [],
   "source": [
    "def plot_graphs(history, string):\n",
    "    plt.plot(history.history[string])\n",
    "    plt.plot(history.history['val_'+string])\n",
    "    plt.xlabel(\"No. of Epochs\")\n",
    "    plt.ylabel(string)\n",
    "    plt.legend([string, 'val_'+string])\n",
    "    plt.show()"
   ]
  },
  {
   "cell_type": "code",
   "execution_count": 20,
   "metadata": {
    "colab": {
     "base_uri": "https://localhost:8080/"
    },
    "id": "pXVviBKqJ3SJ",
    "outputId": "37fb302d-1397-4585-f12a-471ee358690d"
   },
   "outputs": [],
   "source": [
    "# https://github.com/microsoft/tf2-gnn\n",
    "# https://github.com/microsoft/tf2-gnn/blob/master/tf2_gnn/layers/gnn.py -->\n",
    "!pip install --quiet tf2_gnn\n",
    "\n",
    "# import GNN , GNNInput for deep Graph Neural Network\n",
    "from tf2_gnn.layers.gnn import GNN, GNNInput"
   ]
  },
  {
   "cell_type": "markdown",
   "metadata": {},
   "source": [
    "# The reason why we using GNNs "
   ]
  },
  {
   "cell_type": "markdown",
   "metadata": {},
   "source": [
    "***Graph Neural Networks (GNNs)** are a class of deep learning methods designed to perform inference on data described by graphs. GNNs are neural networks that can be directly applied to graphs, and provide an easy way to do node-level, edge-level, and graph-level prediction tasks. [1]\n",
    "\n",
    "Here our data contain chemical compound  which is represented as a graph, with atoms representing nodes and bonds as edges and we need to make a prediction for anticancer activity.\n",
    "\n",
    "Therefore, the most appropriate method is to use **GNNs** "
   ]
  },
  {
   "cell_type": "markdown",
   "metadata": {},
   "source": [
    "# Trial_1"
   ]
  },
  {
   "cell_type": "markdown",
   "metadata": {},
   "source": [
    "**Thoughts and observations for trial 1, plan for trial 2**\n",
    "\n",
    "**Thoughts**\n",
    "\n",
    "I will build a GNN model to make a prediction based on our data (SDF file) with hyperparamters \n",
    "\n",
    "* params[\"hidden_dim\"] = 32\n",
    "\n",
    "I will build the model by adding Embedding layer to enables us to convert each word into a fixed length vector of defined size and adding a GNN input layer to encode data about the graph's structure. then uses this data to update the node and edge representations that were created at the start , adding dense(1,activation='sigmoid') as here we only output 1 probability and it is a binary classification\n",
    "\n",
    "**Expectation**\n",
    "\n",
    "The model's  performance will be good and the model will learn well as the GNN models are رery well suited to the type of data used (SDF) to develop and evaluate the model in order to achieve the best prediction.\n",
    "\n",
    "**Observation**\n",
    "\n",
    "The model's performance will be good and may not happen overfitting or underfitting.\n",
    "\n",
    "**Plan for Trial_2**\n",
    "\n",
    "I will apply any aggregation mechanisms (aka message_passing mechanisms) used in the graph convolution layer."
   ]
  },
  {
   "cell_type": "code",
   "execution_count": 21,
   "metadata": {
    "colab": {
     "base_uri": "https://localhost:8080/"
    },
    "id": "_VkBsgkCJ3SK",
    "outputId": "e7355d72-d4e2-4686-d333-37366b1a4ac6"
   },
   "outputs": [
    {
     "name": "stdout",
     "output_type": "stream",
     "text": [
      "gnn_out KerasTensor(type_spec=TensorSpec(shape=(None, 32), dtype=tf.float32, name=None), name='gnn/StatefulPartitionedCall:0', description=\"created by layer 'gnn'\")\n",
      "mean: KerasTensor(type_spec=TensorSpec(shape=(None, 32), dtype=tf.float32, name=None), name='tf.math.segment_mean/SegmentMean:0', description=\"created by layer 'tf.math.segment_mean'\")\n",
      "pred: KerasTensor(type_spec=TensorSpec(shape=(None, 1), dtype=tf.float32, name=None), name='dense/Sigmoid:0', description=\"created by layer 'dense'\")\n",
      "Model: \"model\"\n",
      "__________________________________________________________________________________________________\n",
      " Layer (type)                   Output Shape         Param #     Connected to                     \n",
      "==================================================================================================\n",
      " input_3 (InputLayer)           [(None,)]            0           []                               \n",
      "                                                                                                  \n",
      " input_1 (InputLayer)           [(None,)]            0           []                               \n",
      "                                                                                                  \n",
      " tf.math.reduce_max (TFOpLambda  ()                  0           ['input_3[0][0]']                \n",
      " )                                                                                                \n",
      "                                                                                                  \n",
      " embedding (Embedding)          (None, 20)           10000       ['input_1[0][0]']                \n",
      "                                                                                                  \n",
      " input_2 (InputLayer)           [(None, 2)]          0           []                               \n",
      "                                                                                                  \n",
      " tf.__operators__.add (TFOpLamb  ()                  0           ['tf.math.reduce_max[0][0]']     \n",
      " da)                                                                                              \n",
      "                                                                                                  \n",
      " gnn (GNN)                      (None, 32)           22464       ['embedding[0][0]',              \n",
      "                                                                  'input_2[0][0]',                \n",
      "                                                                  'input_3[0][0]',                \n",
      "                                                                  'tf.__operators__.add[0][0]']   \n",
      "                                                                                                  \n",
      " tf.math.segment_mean (TFOpLamb  (None, 32)          0           ['gnn[0][0]',                    \n",
      " da)                                                              'input_3[0][0]']                \n",
      "                                                                                                  \n",
      " dense (Dense)                  (None, 1)            33          ['tf.math.segment_mean[0][0]']   \n",
      "                                                                                                  \n",
      "==================================================================================================\n",
      "Total params: 32,497\n",
      "Trainable params: 32,497\n",
      "Non-trainable params: 0\n",
      "__________________________________________________________________________________________________\n"
     ]
    }
   ],
   "source": [
    "# import libraries needed to build model \n",
    "import tensorflow as tf\n",
    "from tensorflow import keras\n",
    "from tensorflow.keras import Input, Model\n",
    "from tensorflow.keras.layers import Embedding, Dense\n",
    "from tensorflow.keras.optimizers import Adam\n",
    "from tensorflow.math import segment_mean\n",
    "\n",
    " #Input layer for nodes\n",
    "data = keras.Input(batch_shape=(None,))\n",
    "\n",
    "# the first dim is different to the previous one. it is the total number of edges in this batch\n",
    "edge = keras.Input(batch_shape=(None, 2), dtype=tf.int32)     # Input layer for edge data    # edge is 2D \n",
    "node2graph = keras.Input(batch_shape=(None,), dtype=tf.int32) # Input layer for node2graph\n",
    "embeded = Embedding(tokenizer.num_words, 20)(data)            # define embedding layer\n",
    "\n",
    "# number of graphs (number of samples)\n",
    "num_graph = tf.reduce_max(node2graph)+1\n",
    "\n",
    "# gnn_input layer with inputs as defined above\n",
    "gnn_input = GNNInput(\n",
    "    node_features=embeded,\n",
    "    adjacency_lists=(edge,),\n",
    "    node_to_graph_map=node2graph, \n",
    "    num_graphs=num_graph,)\n",
    "\n",
    "# https://github.com/microsoft/tf2-gnn/blob/master/tf2_gnn/layers/gnn.py\n",
    "params = GNN.get_default_hyperparameters()\n",
    "params[\"hidden_dim\"] = 32   # hidden dimension of gnn layer \n",
    "gnn_layer = GNN(params)\n",
    "gnn_out = gnn_layer(gnn_input)  # gnn output layer \n",
    "\n",
    "print('gnn_out', gnn_out)\n",
    "\n",
    "# https://www.tensorflow.org/api_docs/python/tf/math/segment_mean\n",
    "avg = segment_mean(data=gnn_out,segment_ids=node2graph)  #calculating segmented mean based on segment_ids\n",
    "print('mean:', avg)\n",
    "\n",
    "pred = Dense(1, activation='sigmoid')(avg)        #binary classification: Dense(1), here we only output 1 probability\n",
    "print('pred:', pred)\n",
    "\n",
    "\n",
    "\n",
    "model_1 = Model(\n",
    "    #inputs are data,edges and node2graph\n",
    "    inputs={   \n",
    "        'data': data,\n",
    "        'edges': edge,\n",
    "        'node2grah': node2graph,},\n",
    "    #output: prediction value from dense layer\n",
    "    outputs=pred)\n",
    "# print summary of model \n",
    "model_1.summary()"
   ]
  },
  {
   "cell_type": "code",
   "execution_count": 22,
   "metadata": {
    "id": "d_hUA1RJJ3SK"
   },
   "outputs": [],
   "source": [
    "# compile model \n",
    "model_1.compile(loss='BinaryCrossentropy',metrics=['AUC'])"
   ]
  },
  {
   "cell_type": "code",
   "execution_count": 23,
   "metadata": {
    "colab": {
     "base_uri": "https://localhost:8080/"
    },
    "id": "tsihG8O7J3SL",
    "outputId": "7d8e7273-4443-4c8d-e2c9-ff820c6714b8"
   },
   "outputs": [
    {
     "name": "stdout",
     "output_type": "stream",
     "text": [
      "Epoch 1/20\n",
      "1265/1265 [==============================] - 26s 18ms/step - loss: 0.6276 - auc: 0.7038 - val_loss: 0.6028 - val_auc: 0.7412\n",
      "Epoch 2/20\n",
      "1265/1265 [==============================] - 23s 18ms/step - loss: 0.5974 - auc: 0.7427 - val_loss: 0.5995 - val_auc: 0.7528\n",
      "Epoch 3/20\n",
      "1265/1265 [==============================] - 23s 18ms/step - loss: 0.5830 - auc: 0.7587 - val_loss: 0.5808 - val_auc: 0.7661\n",
      "Epoch 4/20\n",
      "1265/1265 [==============================] - 23s 18ms/step - loss: 0.5727 - auc: 0.7720 - val_loss: 0.5658 - val_auc: 0.7788\n",
      "Epoch 5/20\n",
      "1265/1265 [==============================] - 23s 18ms/step - loss: 0.5627 - auc: 0.7812 - val_loss: 0.5598 - val_auc: 0.7901\n",
      "Epoch 6/20\n",
      "1265/1265 [==============================] - 24s 19ms/step - loss: 0.5517 - auc: 0.7929 - val_loss: 0.5623 - val_auc: 0.8016\n",
      "Epoch 7/20\n",
      "1265/1265 [==============================] - 24s 19ms/step - loss: 0.5400 - auc: 0.8030 - val_loss: 0.5394 - val_auc: 0.8086\n",
      "Epoch 8/20\n",
      "1265/1265 [==============================] - 24s 19ms/step - loss: 0.5335 - auc: 0.8095 - val_loss: 0.5326 - val_auc: 0.8157\n",
      "Epoch 9/20\n",
      "1265/1265 [==============================] - 23s 18ms/step - loss: 0.5240 - auc: 0.8176 - val_loss: 0.5116 - val_auc: 0.8306\n",
      "Epoch 10/20\n",
      "1265/1265 [==============================] - 25s 20ms/step - loss: 0.5159 - auc: 0.8249 - val_loss: 0.5180 - val_auc: 0.8281\n",
      "Epoch 11/20\n",
      "1265/1265 [==============================] - 24s 19ms/step - loss: 0.5089 - auc: 0.8314 - val_loss: 0.5010 - val_auc: 0.8404\n",
      "Epoch 12/20\n",
      "1265/1265 [==============================] - 24s 19ms/step - loss: 0.5004 - auc: 0.8382 - val_loss: 0.5018 - val_auc: 0.8450\n",
      "Epoch 13/20\n",
      "1265/1265 [==============================] - 24s 19ms/step - loss: 0.4920 - auc: 0.8441 - val_loss: 0.4854 - val_auc: 0.8521\n",
      "Epoch 14/20\n",
      "1265/1265 [==============================] - 23s 18ms/step - loss: 0.4868 - auc: 0.8479 - val_loss: 0.4856 - val_auc: 0.8528\n",
      "Epoch 15/20\n",
      "1265/1265 [==============================] - 23s 18ms/step - loss: 0.4801 - auc: 0.8528 - val_loss: 0.4732 - val_auc: 0.8626\n",
      "Epoch 16/20\n",
      "1265/1265 [==============================] - 24s 19ms/step - loss: 0.4768 - auc: 0.8550 - val_loss: 0.4803 - val_auc: 0.8584\n",
      "Epoch 17/20\n",
      "1265/1265 [==============================] - 24s 19ms/step - loss: 0.4708 - auc: 0.8594 - val_loss: 0.4830 - val_auc: 0.8569\n",
      "Epoch 18/20\n",
      "1265/1265 [==============================] - 24s 19ms/step - loss: 0.4649 - auc: 0.8631 - val_loss: 0.4524 - val_auc: 0.8720\n",
      "Epoch 19/20\n",
      "1265/1265 [==============================] - 23s 18ms/step - loss: 0.4629 - auc: 0.8644 - val_loss: 0.4476 - val_auc: 0.8764\n",
      "Epoch 20/20\n",
      "1265/1265 [==============================] - 22s 18ms/step - loss: 0.4527 - auc: 0.8709 - val_loss: 0.4451 - val_auc: 0.8771\n"
     ]
    }
   ],
   "source": [
    "import math\n",
    "\n",
    "batch_size = 32\n",
    "num_batchs = math.ceil(len(training_set) / batch_size)               # number of batches for training data\n",
    "num_batchs_validation = math.ceil(len(validation_set) / batch_size)  # number of batches for validation data\n",
    "\n",
    "# fit model \n",
    "model1=model_1.fit(gen_batch(training_set, batch_size=batch_size, repeat=True),\n",
    "    steps_per_epoch=num_batchs,\n",
    "    epochs=20,\n",
    "    validation_data=gen_batch(validation_set, batch_size=32, repeat=True),\n",
    "    validation_steps=num_batchs_validation)"
   ]
  },
  {
   "cell_type": "code",
   "execution_count": 24,
   "metadata": {},
   "outputs": [
    {
     "data": {
      "image/png": "[encoded data removed]",
      "text/plain": [
       "<Figure size 432x288 with 1 Axes>"
      ]
     },
     "metadata": {
      "needs_background": "light"
     },
     "output_type": "display_data"
    },
    {
     "data": {
      "image/png": "[encoded data removed]",
      "text/plain": [
       "<Figure size 432x288 with 1 Axes>"
      ]
     },
     "metadata": {
      "needs_background": "light"
     },
     "output_type": "display_data"
    }
   ],
   "source": [
    "plot_graphs(model1, \"loss\")\n",
    "plot_graphs(model1, \"auc\")"
   ]
  },
  {
   "cell_type": "markdown",
   "metadata": {},
   "source": [
    "**Observation**\n",
    "\n",
    "After running the model I observed that the model's performance was good as I expected the the model learned well as there is no overfitting or underfitting according to the plot of (loss & accuracy) "
   ]
  },
  {
   "cell_type": "code",
   "execution_count": 25,
   "metadata": {
    "colab": {
     "base_uri": "https://localhost:8080/"
    },
    "id": "DScfYdROJ3SL",
    "outputId": "cafed2ef-625d-4157-e3b3-1c275ccb4d31"
   },
   "outputs": [
    {
     "data": {
      "text/plain": [
       "array([0.9734099 , 0.507299  , 0.00925031, ..., 0.0065051 , 0.90272677,\n",
       "       0.11652341], dtype=float32)"
      ]
     },
     "execution_count": 25,
     "metadata": {},
     "output_type": "execute_result"
    }
   ],
   "source": [
    "# get the prediction values from predict model \n",
    "y_pred = model_1.predict(gen_batch(testing_set, batch_size=16, shuffle=False))\n",
    "y_pred = np.reshape(y_pred, -1)\n",
    "y_pred"
   ]
  },
  {
   "cell_type": "code",
   "execution_count": 26,
   "metadata": {
    "id": "M0INyZJ7J3SM"
   },
   "outputs": [],
   "source": [
    "import pandas as pd \n",
    "submission = pd.DataFrame({'label':y_pred})\n",
    "submission.index.name = 'id'\n",
    "submission.to_csv('sample_submission_1.csv') # Score: 0.81824"
   ]
  },
  {
   "cell_type": "markdown",
   "metadata": {},
   "source": [
    "# Trial_2"
   ]
  },
  {
   "cell_type": "markdown",
   "metadata": {},
   "source": [
    "**Thoughts and observations for trial 2, plan for trial 3**\n",
    "\n",
    "**Thoughts**\n",
    "\n",
    "I will build a GNN model to make a prediction based on our data (SDF file) with hyperparamters\n",
    "\n",
    "* params[\"hidden_dim\"] = 32\n",
    "\n",
    "* params[\"message_calculation_class\"] = 'GGNN'\n",
    "\n",
    "I will build the model by adding Embedding layer to enables us to convert each word into a fixed length vector of defined size and adding a GNN input layer to encode data about the graph's structure.then uses this data to update the node and edge representations that were created at the start , adding dense(1,activation='sigmoid') as here we only output 1 probability and it is a binary classification\n",
    "\n",
    "Here I used GGNN as an aggregation mechanisms  in the graph convolution layer because GGNN perform well on problems with long-term dependencies.The long-term dependencies are encoded by node and edge gates.  Therefore, Gated Graph Neural Networks improve Recurrent Graph Neural Networks by adding gating mechanisms. These gates are responsible for remembering and forgetting information in different states.[1]\n",
    "\n",
    "**Expectation**\n",
    "\n",
    "The model's performance will be very good and the model will learn well as the GNN with GGNN as an aggregation mechanisms models are very well suited to the type of data used (SDF) to develop and evaluate the model in order to achieve the best prediction.\n",
    "\n",
    "**Observation**\n",
    "\n",
    "The model's performance will be very good and may not happen overfitting or underfitting.\n",
    "\n",
    "**Plan for Trial_3**\n",
    "\n",
    "I will apply other aggregation mechanisms **RGCN** that used in the graph convolution layer To find out  its effect on the model performance."
   ]
  },
  {
   "cell_type": "code",
   "execution_count": 27,
   "metadata": {},
   "outputs": [
    {
     "name": "stdout",
     "output_type": "stream",
     "text": [
      "gnn_out KerasTensor(type_spec=TensorSpec(shape=(None, 32), dtype=tf.float32, name=None), name='gnn_1/StatefulPartitionedCall:0', description=\"created by layer 'gnn_1'\")\n",
      "mean: KerasTensor(type_spec=TensorSpec(shape=(None, 32), dtype=tf.float32, name=None), name='tf.math.segment_mean_1/SegmentMean:0', description=\"created by layer 'tf.math.segment_mean_1'\")\n",
      "pred: KerasTensor(type_spec=TensorSpec(shape=(None, 1), dtype=tf.float32, name=None), name='dense_1/Sigmoid:0', description=\"created by layer 'dense_1'\")\n",
      "Model: \"model_1\"\n",
      "__________________________________________________________________________________________________\n",
      " Layer (type)                   Output Shape         Param #     Connected to                     \n",
      "==================================================================================================\n",
      " input_6 (InputLayer)           [(None,)]            0           []                               \n",
      "                                                                                                  \n",
      " input_4 (InputLayer)           [(None,)]            0           []                               \n",
      "                                                                                                  \n",
      " tf.math.reduce_max_1 (TFOpLamb  ()                  0           ['input_6[0][0]']                \n",
      " da)                                                                                              \n",
      "                                                                                                  \n",
      " embedding_1 (Embedding)        (None, 20)           10000       ['input_4[0][0]']                \n",
      "                                                                                                  \n",
      " input_5 (InputLayer)           [(None, 2)]          0           []                               \n",
      "                                                                                                  \n",
      " tf.__operators__.add_1 (TFOpLa  ()                  0           ['tf.math.reduce_max_1[0][0]']   \n",
      " mbda)                                                                                            \n",
      "                                                                                                  \n",
      " gnn_1 (GNN)                    (None, 32)           47808       ['embedding_1[0][0]',            \n",
      "                                                                  'input_5[0][0]',                \n",
      "                                                                  'input_6[0][0]',                \n",
      "                                                                  'tf.__operators__.add_1[0][0]'] \n",
      "                                                                                                  \n",
      " tf.math.segment_mean_1 (TFOpLa  (None, 32)          0           ['gnn_1[0][0]',                  \n",
      " mbda)                                                            'input_6[0][0]']                \n",
      "                                                                                                  \n",
      " dense_1 (Dense)                (None, 1)            33          ['tf.math.segment_mean_1[0][0]'] \n",
      "                                                                                                  \n",
      "==================================================================================================\n",
      "Total params: 57,841\n",
      "Trainable params: 57,841\n",
      "Non-trainable params: 0\n",
      "__________________________________________________________________________________________________\n"
     ]
    }
   ],
   "source": [
    "# import libraries needed to build model \n",
    "import tensorflow as tf\n",
    "from tensorflow import keras\n",
    "from tensorflow.keras import Input, Model\n",
    "from tensorflow.keras.layers import Embedding, Dense\n",
    "from tensorflow.keras.optimizers import Adam\n",
    "from tensorflow.math import segment_mean\n",
    "\n",
    " #Input layer for nodes\n",
    "data = keras.Input(batch_shape=(None,))\n",
    "\n",
    "# the first dim is different to the previous one. it is the total number of edges in this batch\n",
    "edge = keras.Input(batch_shape=(None, 2), dtype=tf.int32)     # Input layer for edge data    # edge is 2D \n",
    "node2graph = keras.Input(batch_shape=(None,), dtype=tf.int32) # Input layer for node2graph\n",
    "embeded = Embedding(tokenizer.num_words, 20)(data)            # define embedding layer\n",
    "\n",
    "# number of graphs (number of samples)\n",
    "num_graph = tf.reduce_max(node2graph)+1\n",
    "\n",
    "# gnn_input layer with inputs as defined above\n",
    "gnn_input = GNNInput(\n",
    "    node_features=embeded,\n",
    "    adjacency_lists=(edge,),\n",
    "    node_to_graph_map=node2graph, \n",
    "    num_graphs=num_graph,)\n",
    "\n",
    "# https://github.com/microsoft/tf2-gnn/blob/master/tf2_gnn/layers/gnn.py\n",
    "params = GNN.get_default_hyperparameters()\n",
    "params['hidden_dim'] = 32   # hidden dimension of gnn layer \n",
    "params[\"message_calculation_class\"] = 'GGNN' # configures the message passing style using GGNN layer \n",
    "gnn_layer = GNN(params)\n",
    "gnn_out = gnn_layer(gnn_input)  # gnn output layer \n",
    "\n",
    "print('gnn_out', gnn_out)\n",
    "\n",
    "# https://www.tensorflow.org/api_docs/python/tf/math/segment_mean\n",
    "avg = segment_mean(data=gnn_out,segment_ids=node2graph)  #calculating segmented mean based on segment_ids\n",
    "print('mean:', avg)\n",
    "\n",
    "pred = Dense(1, activation='sigmoid')(avg)        #binary classification: Dense(1), but here we only output 1 probability\n",
    "print('pred:', pred)\n",
    "\n",
    "\n",
    "\n",
    "model_2 = Model(\n",
    "    #inputs are data,edges and node2graph\n",
    "    inputs={   \n",
    "        'data': data,\n",
    "        'edges': edge,\n",
    "        'node2grah': node2graph,},\n",
    "    #output: prediction value from dense layer\n",
    "    outputs=pred)\n",
    "# print summary of model \n",
    "model_2.summary()"
   ]
  },
  {
   "cell_type": "code",
   "execution_count": 28,
   "metadata": {},
   "outputs": [],
   "source": [
    "# compile model \n",
    "model_2.compile(loss='BinaryCrossentropy',metrics=['AUC'])"
   ]
  },
  {
   "cell_type": "code",
   "execution_count": 29,
   "metadata": {},
   "outputs": [
    {
     "name": "stdout",
     "output_type": "stream",
     "text": [
      "Epoch 1/30\n",
      "1265/1265 [==============================] - 43s 31ms/step - loss: 0.6262 - auc: 0.6989 - val_loss: 0.6209 - val_auc: 0.7247\n",
      "Epoch 2/30\n",
      "1265/1265 [==============================] - 39s 31ms/step - loss: 0.5907 - auc: 0.7450 - val_loss: 0.5939 - val_auc: 0.7670\n",
      "Epoch 3/30\n",
      "1265/1265 [==============================] - 38s 30ms/step - loss: 0.5674 - auc: 0.7706 - val_loss: 0.5574 - val_auc: 0.7864\n",
      "Epoch 4/30\n",
      "1265/1265 [==============================] - 39s 30ms/step - loss: 0.5473 - auc: 0.7909 - val_loss: 0.5402 - val_auc: 0.8102\n",
      "Epoch 5/30\n",
      "1265/1265 [==============================] - 39s 31ms/step - loss: 0.5221 - auc: 0.8160 - val_loss: 0.5067 - val_auc: 0.8391\n",
      "Epoch 6/30\n",
      "1265/1265 [==============================] - 39s 31ms/step - loss: 0.4964 - auc: 0.8381 - val_loss: 0.4756 - val_auc: 0.8542\n",
      "Epoch 7/30\n",
      "1265/1265 [==============================] - 39s 31ms/step - loss: 0.4738 - auc: 0.8548 - val_loss: 0.4600 - val_auc: 0.8705\n",
      "Epoch 8/30\n",
      "1265/1265 [==============================] - 38s 30ms/step - loss: 0.4487 - auc: 0.8714 - val_loss: 0.4411 - val_auc: 0.8773\n",
      "Epoch 9/30\n",
      "1265/1265 [==============================] - 38s 30ms/step - loss: 0.4303 - auc: 0.8828 - val_loss: 0.4410 - val_auc: 0.8924\n",
      "Epoch 10/30\n",
      "1265/1265 [==============================] - 39s 30ms/step - loss: 0.4143 - auc: 0.8920 - val_loss: 0.3964 - val_auc: 0.9032\n",
      "Epoch 11/30\n",
      "1265/1265 [==============================] - 39s 31ms/step - loss: 0.3979 - auc: 0.9013 - val_loss: 0.3845 - val_auc: 0.9087\n",
      "Epoch 12/30\n",
      "1265/1265 [==============================] - 39s 31ms/step - loss: 0.3877 - auc: 0.9064 - val_loss: 0.3682 - val_auc: 0.9168\n",
      "Epoch 13/30\n",
      "1265/1265 [==============================] - 39s 31ms/step - loss: 0.3761 - auc: 0.9121 - val_loss: 0.3654 - val_auc: 0.9231\n",
      "Epoch 14/30\n",
      "1265/1265 [==============================] - 40s 31ms/step - loss: 0.3641 - auc: 0.9178 - val_loss: 0.3759 - val_auc: 0.9264\n",
      "Epoch 15/30\n",
      "1265/1265 [==============================] - 39s 31ms/step - loss: 0.3525 - auc: 0.9230 - val_loss: 0.3466 - val_auc: 0.9264\n",
      "Epoch 16/30\n",
      "1265/1265 [==============================] - 43s 34ms/step - loss: 0.3465 - auc: 0.9254 - val_loss: 0.3297 - val_auc: 0.9322\n",
      "Epoch 17/30\n",
      "1265/1265 [==============================] - 44s 34ms/step - loss: 0.3357 - auc: 0.9299 - val_loss: 0.3401 - val_auc: 0.9392\n",
      "Epoch 18/30\n",
      "1265/1265 [==============================] - 43s 34ms/step - loss: 0.3255 - auc: 0.9341 - val_loss: 0.3100 - val_auc: 0.9410\n",
      "Epoch 19/30\n",
      "1265/1265 [==============================] - 44s 35ms/step - loss: 0.3197 - auc: 0.9363 - val_loss: 0.3104 - val_auc: 0.9413\n",
      "Epoch 20/30\n",
      "1265/1265 [==============================] - 42s 34ms/step - loss: 0.3075 - auc: 0.9410 - val_loss: 0.2981 - val_auc: 0.9451\n",
      "Epoch 21/30\n",
      "1265/1265 [==============================] - 42s 33ms/step - loss: 0.3019 - auc: 0.9427 - val_loss: 0.2938 - val_auc: 0.9494\n",
      "Epoch 22/30\n",
      "1265/1265 [==============================] - 43s 34ms/step - loss: 0.2957 - auc: 0.9450 - val_loss: 0.2964 - val_auc: 0.9507\n",
      "Epoch 23/30\n",
      "1265/1265 [==============================] - 45s 35ms/step - loss: 0.2881 - auc: 0.9477 - val_loss: 0.2892 - val_auc: 0.9540\n",
      "Epoch 24/30\n",
      "1265/1265 [==============================] - 47s 37ms/step - loss: 0.2799 - auc: 0.9504 - val_loss: 0.2867 - val_auc: 0.9509\n",
      "Epoch 25/30\n",
      "1265/1265 [==============================] - 46s 36ms/step - loss: 0.2743 - auc: 0.9519 - val_loss: 0.2715 - val_auc: 0.9567\n",
      "Epoch 26/30\n",
      "1265/1265 [==============================] - 42s 33ms/step - loss: 0.2687 - auc: 0.9538 - val_loss: 0.3169 - val_auc: 0.9564\n",
      "Epoch 27/30\n",
      "1265/1265 [==============================] - 42s 33ms/step - loss: 0.2638 - auc: 0.9555 - val_loss: 0.2517 - val_auc: 0.9617\n",
      "Epoch 28/30\n",
      "1265/1265 [==============================] - 40s 32ms/step - loss: 0.2600 - auc: 0.9566 - val_loss: 0.2967 - val_auc: 0.9536\n",
      "Epoch 29/30\n",
      "1265/1265 [==============================] - 41s 32ms/step - loss: 0.2530 - auc: 0.9589 - val_loss: 0.3501 - val_auc: 0.9581\n",
      "Epoch 30/30\n",
      "1265/1265 [==============================] - 42s 33ms/step - loss: 0.2489 - auc: 0.9598 - val_loss: 0.2586 - val_auc: 0.9626\n"
     ]
    }
   ],
   "source": [
    "import math\n",
    "\n",
    "batch_size = 32\n",
    "num_batchs = math.ceil(len(training_set) / batch_size)               # number of batches for training data\n",
    "num_batchs_validation = math.ceil(len(validation_set) / batch_size)  # number of batches for validation data\n",
    "\n",
    "# fit model \n",
    "model2=model_2.fit(gen_batch(training_set, batch_size=batch_size, repeat=True),\n",
    "    steps_per_epoch=num_batchs,\n",
    "    epochs=30,\n",
    "    validation_data=gen_batch(validation_set, batch_size=32, repeat=True),\n",
    "    validation_steps=num_batchs_validation)"
   ]
  },
  {
   "cell_type": "code",
   "execution_count": 30,
   "metadata": {},
   "outputs": [
    {
     "data": {
      "image/png": "[encoded data removed]",
      "text/plain": [
       "<Figure size 432x288 with 1 Axes>"
      ]
     },
     "metadata": {
      "needs_background": "light"
     },
     "output_type": "display_data"
    },
    {
     "data": {
      "image/png": "[encoded data removed]",
      "text/plain": [
       "<Figure size 432x288 with 1 Axes>"
      ]
     },
     "metadata": {
      "needs_background": "light"
     },
     "output_type": "display_data"
    }
   ],
   "source": [
    "plot_graphs(model2, \"loss\")\n",
    "plot_graphs(model2, \"auc\")"
   ]
  },
  {
   "cell_type": "markdown",
   "metadata": {},
   "source": [
    "**Observation**\n",
    "\n",
    "After running the model I observed that the model's performance was very good as I expected the the model learned well as there is no overfitting or underfitting according to the plot of (loss & accuracy) \n",
    "which mean using GGNN aggregation mechanisms has a good effect on the model's performance."
   ]
  },
  {
   "cell_type": "code",
   "execution_count": 32,
   "metadata": {},
   "outputs": [
    {
     "data": {
      "text/plain": [
       "array([9.5013392e-01, 5.1426125e-01, 8.1446767e-04, ..., 6.1817467e-03,\n",
       "       3.5528807e-05, 9.9883080e-01], dtype=float32)"
      ]
     },
     "execution_count": 32,
     "metadata": {},
     "output_type": "execute_result"
    }
   ],
   "source": [
    "# get the prediction values from predict model \n",
    "y_pred = model_2.predict(gen_batch(testing_set, batch_size=16, shuffle=False))\n",
    "y_pred = np.reshape(y_pred, -1)\n",
    "y_pred"
   ]
  },
  {
   "cell_type": "code",
   "execution_count": 33,
   "metadata": {},
   "outputs": [],
   "source": [
    "import pandas as pd \n",
    "\n",
    "submission = pd.DataFrame({'label':y_pred})\n",
    "submission.index.name = 'id'\n",
    "submission.to_csv('sample_submission_2.csv') # Score: 0.87567"
   ]
  },
  {
   "cell_type": "markdown",
   "metadata": {},
   "source": [
    "# Trial_3"
   ]
  },
  {
   "cell_type": "markdown",
   "metadata": {},
   "source": [
    "**Thoughts and observations for trial 3, plan for trial 4**\n",
    "\n",
    "**Thoughts**\n",
    "\n",
    "I will build a GNN model to make a prediction based on our data (SDF file) with hyperparamters\n",
    "\n",
    "* params[\"hidden_dim\"] = 32\n",
    "\n",
    "* params[\"message_calculation_class\"] = 'RGCN'\n",
    "\n",
    "I will build the model by adding Embedding layer to enables us to convert each word into a fixed length vector of defined size and adding a GNN input layer to encode data about the graph's structure.then uses this data to update the node and edge representations that were created at the start , adding dense(1,activation='sigmoid') as here we only output 1 probability and it is a binary classification\n",
    "\n",
    "Here I used RGCN as an aggregation mechanisms in the graph convolution layer \n",
    "\n",
    "R-GCN has been proposed as a multi-relational version of the GCN architecture and has shown state-of-the-art performance on standard knowledge graph completion tasks including entity classification and link prediction.[2]\n",
    "\n",
    "**Expectation**\n",
    "\n",
    "The model's performance will be very good and the model will learn well as the GNN with RGCN as an aggregation mechanisms models are very well suited to the type of data as R-GCN is defined over the multimodal graphs and it will appropiate to develop and evaluate the model in order to achieve the best prediction.\n",
    "\n",
    "**Observation**\n",
    "\n",
    "The model will learn and perform well and get high accuracy and may not happen overfitting or underfitting.\n",
    "\n",
    "**Plan for Trial_4**\n",
    "\n",
    "I will apply other aggregation mechanisms **RGAT** that used in the graph convolution layer To find out its effect on the model performance."
   ]
  },
  {
   "cell_type": "code",
   "execution_count": 70,
   "metadata": {},
   "outputs": [
    {
     "name": "stdout",
     "output_type": "stream",
     "text": [
      "gnn_out KerasTensor(type_spec=TensorSpec(shape=(None, 32), dtype=tf.float32, name=None), name='gnn_8/StatefulPartitionedCall:0', description=\"created by layer 'gnn_8'\")\n",
      "mean: KerasTensor(type_spec=TensorSpec(shape=(None, 32), dtype=tf.float32, name=None), name='tf.math.segment_mean_8/SegmentMean:0', description=\"created by layer 'tf.math.segment_mean_8'\")\n",
      "pred: KerasTensor(type_spec=TensorSpec(shape=(None, 1), dtype=tf.float32, name=None), name='dense_8/Sigmoid:0', description=\"created by layer 'dense_8'\")\n",
      "Model: \"model_8\"\n",
      "__________________________________________________________________________________________________\n",
      " Layer (type)                   Output Shape         Param #     Connected to                     \n",
      "==================================================================================================\n",
      " input_27 (InputLayer)          [(None,)]            0           []                               \n",
      "                                                                                                  \n",
      " input_25 (InputLayer)          [(None,)]            0           []                               \n",
      "                                                                                                  \n",
      " tf.math.reduce_max_8 (TFOpLamb  ()                  0           ['input_27[0][0]']               \n",
      " da)                                                                                              \n",
      "                                                                                                  \n",
      " embedding_8 (Embedding)        (None, 20)           10000       ['input_25[0][0]']               \n",
      "                                                                                                  \n",
      " input_26 (InputLayer)          [(None, 2)]          0           []                               \n",
      "                                                                                                  \n",
      " tf.__operators__.add_8 (TFOpLa  ()                  0           ['tf.math.reduce_max_8[0][0]']   \n",
      " mbda)                                                                                            \n",
      "                                                                                                  \n",
      " gnn_8 (GNN)                    (None, 32)           22464       ['embedding_8[0][0]',            \n",
      "                                                                  'input_26[0][0]',               \n",
      "                                                                  'input_27[0][0]',               \n",
      "                                                                  'tf.__operators__.add_8[0][0]'] \n",
      "                                                                                                  \n",
      " tf.math.segment_mean_8 (TFOpLa  (None, 32)          0           ['gnn_8[0][0]',                  \n",
      " mbda)                                                            'input_27[0][0]']               \n",
      "                                                                                                  \n",
      " dense_8 (Dense)                (None, 1)            33          ['tf.math.segment_mean_8[0][0]'] \n",
      "                                                                                                  \n",
      "==================================================================================================\n",
      "Total params: 32,497\n",
      "Trainable params: 32,497\n",
      "Non-trainable params: 0\n",
      "__________________________________________________________________________________________________\n"
     ]
    }
   ],
   "source": [
    "# import libraries needed to build model \n",
    "import tensorflow as tf\n",
    "from tensorflow import keras\n",
    "from tensorflow.keras import Input, Model\n",
    "from tensorflow.keras.layers import Embedding, Dense\n",
    "from tensorflow.keras.optimizers import Adam\n",
    "from tensorflow.math import segment_mean\n",
    "\n",
    " #Input layer for nodes\n",
    "data = keras.Input(batch_shape=(None,))\n",
    "\n",
    "# the first dim is different to the previous one. it is the total number of edges in this batch\n",
    "edge = keras.Input(batch_shape=(None, 2), dtype=tf.int32)     # Input layer for edge data    # edge is 2D \n",
    "node2graph = keras.Input(batch_shape=(None,), dtype=tf.int32) # Input layer for node2graph\n",
    "embeded = Embedding(tokenizer.num_words, 20)(data)            # define embedding layer with each token embedded as size vector\n",
    "\n",
    "# number of graphs (number of samples)\n",
    "num_graph = tf.reduce_max(node2graph)+1\n",
    "\n",
    "# gnn_input layer with inputs as defined above\n",
    "gnn_input = GNNInput(\n",
    "    node_features=embeded,\n",
    "    adjacency_lists=(edge,),\n",
    "    node_to_graph_map=node2graph, \n",
    "    num_graphs=num_graph,)\n",
    "\n",
    "# https://github.com/microsoft/tf2-gnn/blob/master/tf2_gnn/layers/gnn.py\n",
    "params = GNN.get_default_hyperparameters()\n",
    "params['hidden_dim'] = 32   # hidden dimension of gnn layer \n",
    "params[\"message_calculation_class\"] = 'RGCN' # configures the message passing style using RGCN layer \n",
    "gnn_layer = GNN(params)\n",
    "gnn_out = gnn_layer(gnn_input)  # gnn output layer \n",
    "\n",
    "print('gnn_out', gnn_out)\n",
    "\n",
    "# https://www.tensorflow.org/api_docs/python/tf/math/segment_mean\n",
    "avg = segment_mean(data=gnn_out,segment_ids=node2graph)  #calculating segmented mean based on segment_ids\n",
    "print('mean:', avg)\n",
    "\n",
    "pred = Dense(1, activation='sigmoid')(avg)        #binary classification: Dense(1), but here we only output 1 probability\n",
    "print('pred:', pred)\n",
    "\n",
    "\n",
    "\n",
    "model_3 = Model(\n",
    "    #inputs are data,edges and node2graph\n",
    "    inputs={   \n",
    "        'data': data,\n",
    "        'edges': edge,\n",
    "        'node2grah': node2graph,},\n",
    "    #output: prediction value from dense layer\n",
    "    outputs=pred)\n",
    "# print summary of model \n",
    "model_3.summary()"
   ]
  },
  {
   "cell_type": "code",
   "execution_count": 71,
   "metadata": {},
   "outputs": [],
   "source": [
    "# compile model \n",
    "model_3.compile(loss='BinaryCrossentropy',metrics=['AUC'])"
   ]
  },
  {
   "cell_type": "code",
   "execution_count": 72,
   "metadata": {},
   "outputs": [
    {
     "name": "stdout",
     "output_type": "stream",
     "text": [
      "Epoch 1/30\n",
      "1265/1265 [==============================] - 32s 23ms/step - loss: 0.6311 - auc: 0.6961 - val_loss: 0.6300 - val_auc: 0.7216\n",
      "Epoch 2/30\n",
      "1265/1265 [==============================] - 30s 24ms/step - loss: 0.6056 - auc: 0.7285 - val_loss: 0.6026 - val_auc: 0.7432\n",
      "Epoch 3/30\n",
      "1265/1265 [==============================] - 28s 22ms/step - loss: 0.5916 - auc: 0.7460 - val_loss: 0.5837 - val_auc: 0.7625\n",
      "Epoch 4/30\n",
      "1265/1265 [==============================] - 28s 22ms/step - loss: 0.5753 - auc: 0.7664 - val_loss: 0.5596 - val_auc: 0.7891\n",
      "Epoch 5/30\n",
      "1265/1265 [==============================] - 28s 22ms/step - loss: 0.5590 - auc: 0.7834 - val_loss: 0.5503 - val_auc: 0.8020\n",
      "Epoch 6/30\n",
      "1265/1265 [==============================] - 29s 23ms/step - loss: 0.5547 - auc: 0.7889 - val_loss: 0.5436 - val_auc: 0.8060\n",
      "Epoch 7/30\n",
      "1265/1265 [==============================] - 28s 23ms/step - loss: 0.5382 - auc: 0.8046 - val_loss: 0.5346 - val_auc: 0.8185\n",
      "Epoch 8/30\n",
      "1265/1265 [==============================] - 29s 23ms/step - loss: 0.5278 - auc: 0.8142 - val_loss: 0.5199 - val_auc: 0.8247\n",
      "Epoch 9/30\n",
      "1265/1265 [==============================] - 27s 22ms/step - loss: 0.5159 - auc: 0.8245 - val_loss: 0.5008 - val_auc: 0.8393\n",
      "Epoch 10/30\n",
      "1265/1265 [==============================] - 28s 23ms/step - loss: 0.5051 - auc: 0.8334 - val_loss: 0.4934 - val_auc: 0.8450\n",
      "Epoch 11/30\n",
      "1265/1265 [==============================] - 27s 21ms/step - loss: 0.4965 - auc: 0.8398 - val_loss: 0.4847 - val_auc: 0.8502\n",
      "Epoch 12/30\n",
      "1265/1265 [==============================] - 27s 21ms/step - loss: 0.4893 - auc: 0.8451 - val_loss: 0.4730 - val_auc: 0.8574\n",
      "Epoch 13/30\n",
      "1265/1265 [==============================] - 29s 23ms/step - loss: 0.4835 - auc: 0.8496 - val_loss: 0.5040 - val_auc: 0.8510\n",
      "Epoch 14/30\n",
      "1265/1265 [==============================] - 27s 22ms/step - loss: 0.4755 - auc: 0.8552 - val_loss: 0.4785 - val_auc: 0.8556\n",
      "Epoch 15/30\n",
      "1265/1265 [==============================] - 28s 22ms/step - loss: 0.4722 - auc: 0.8572 - val_loss: 0.4643 - val_auc: 0.8665\n",
      "Epoch 16/30\n",
      "1265/1265 [==============================] - 29s 23ms/step - loss: 0.4648 - auc: 0.8623 - val_loss: 0.4599 - val_auc: 0.8685\n",
      "Epoch 17/30\n",
      "1265/1265 [==============================] - 29s 23ms/step - loss: 0.4601 - auc: 0.8653 - val_loss: 0.4505 - val_auc: 0.8742\n",
      "Epoch 18/30\n",
      "1265/1265 [==============================] - 29s 23ms/step - loss: 0.4547 - auc: 0.8689 - val_loss: 0.4382 - val_auc: 0.8801\n",
      "Epoch 19/30\n",
      "1265/1265 [==============================] - 27s 22ms/step - loss: 0.4506 - auc: 0.8716 - val_loss: 0.4398 - val_auc: 0.8819\n",
      "Epoch 20/30\n",
      "1265/1265 [==============================] - 28s 22ms/step - loss: 0.4460 - auc: 0.8745 - val_loss: 0.4352 - val_auc: 0.8816\n",
      "Epoch 21/30\n",
      "1265/1265 [==============================] - 28s 22ms/step - loss: 0.4396 - auc: 0.8783 - val_loss: 0.4380 - val_auc: 0.8831\n",
      "Epoch 22/30\n",
      "1265/1265 [==============================] - 28s 22ms/step - loss: 0.4339 - auc: 0.8818 - val_loss: 0.4210 - val_auc: 0.8913\n",
      "Epoch 23/30\n",
      "1265/1265 [==============================] - 28s 22ms/step - loss: 0.4330 - auc: 0.8828 - val_loss: 0.4096 - val_auc: 0.8973\n",
      "Epoch 24/30\n",
      "1265/1265 [==============================] - 29s 23ms/step - loss: 0.4268 - auc: 0.8862 - val_loss: 0.4186 - val_auc: 0.8926\n",
      "Epoch 25/30\n",
      "1265/1265 [==============================] - 29s 23ms/step - loss: 0.4226 - auc: 0.8885 - val_loss: 0.4262 - val_auc: 0.8911\n",
      "Epoch 26/30\n",
      "1265/1265 [==============================] - 29s 23ms/step - loss: 0.4194 - auc: 0.8903 - val_loss: 0.4059 - val_auc: 0.8983\n",
      "Epoch 27/30\n",
      "1265/1265 [==============================] - 29s 23ms/step - loss: 0.4158 - auc: 0.8926 - val_loss: 0.3987 - val_auc: 0.9034\n",
      "Epoch 28/30\n",
      "1265/1265 [==============================] - 29s 23ms/step - loss: 0.4141 - auc: 0.8936 - val_loss: 0.4147 - val_auc: 0.8992\n",
      "Epoch 29/30\n",
      "1265/1265 [==============================] - 29s 23ms/step - loss: 0.4086 - auc: 0.8965 - val_loss: 0.4028 - val_auc: 0.9037\n",
      "Epoch 30/30\n",
      "1265/1265 [==============================] - 29s 23ms/step - loss: 0.4047 - auc: 0.8988 - val_loss: 0.3997 - val_auc: 0.9035\n"
     ]
    }
   ],
   "source": [
    "import math\n",
    "\n",
    "batch_size = 32\n",
    "num_batchs = math.ceil(len(training_set) / batch_size)               # number of batches for training data\n",
    "num_batchs_validation = math.ceil(len(validation_set) / batch_size)  # number of batches for validation data\n",
    "\n",
    "# fit model \n",
    "model3=model_3.fit(gen_batch(training_set, batch_size=batch_size, repeat=True),\n",
    "    steps_per_epoch=num_batchs,\n",
    "    epochs=30,\n",
    "    validation_data=gen_batch(validation_set, batch_size=32, repeat=True),\n",
    "    validation_steps=num_batchs_validation)"
   ]
  },
  {
   "cell_type": "code",
   "execution_count": 73,
   "metadata": {},
   "outputs": [
    {
     "data": {
      "image/png": "[encoded data removed]",
      "text/plain": [
       "<Figure size 432x288 with 1 Axes>"
      ]
     },
     "metadata": {
      "needs_background": "light"
     },
     "output_type": "display_data"
    },
    {
     "data": {
      "image/png": "[encoded data removed]",
      "text/plain": [
       "<Figure size 432x288 with 1 Axes>"
      ]
     },
     "metadata": {
      "needs_background": "light"
     },
     "output_type": "display_data"
    }
   ],
   "source": [
    "plot_graphs(model3, \"loss\")\n",
    "plot_graphs(model3, \"auc\")"
   ]
  },
  {
   "cell_type": "markdown",
   "metadata": {},
   "source": [
    "**Observation**\n",
    "\n",
    "After running the model I observed that the model's performance was good as I expected the the model learned well as there is no overfitting or underfitting according to the plot of (loss & accuracy) which mean using RGCN aggregation mechanisms has a good effect on the model's performance because R-GCN is defined over the multimodal graphs and our data is (SDF) and we use graghical dataset consist of nodes and links."
   ]
  },
  {
   "cell_type": "code",
   "execution_count": 74,
   "metadata": {},
   "outputs": [
    {
     "data": {
      "text/plain": [
       "array([0.9334045 , 0.03878155, 0.03476074, ..., 0.05058426, 0.5389121 ,\n",
       "       0.15806216], dtype=float32)"
      ]
     },
     "execution_count": 74,
     "metadata": {},
     "output_type": "execute_result"
    }
   ],
   "source": [
    "# get the prediction values from predict model \n",
    "y_pred = model_3.predict(gen_batch(testing_set, batch_size=16, shuffle=False))\n",
    "y_pred = np.reshape(y_pred, -1)\n",
    "y_pred"
   ]
  },
  {
   "cell_type": "code",
   "execution_count": 42,
   "metadata": {},
   "outputs": [],
   "source": [
    "import pandas as pd \n",
    "\n",
    "submission = pd.DataFrame({'label':y_pred})\n",
    "submission.index.name = 'id'\n",
    "submission.to_csv('sample_submission_3.csv') # Score: 0.81466"
   ]
  },
  {
   "cell_type": "markdown",
   "metadata": {},
   "source": [
    "# Trial_4"
   ]
  },
  {
   "cell_type": "markdown",
   "metadata": {},
   "source": [
    "**Thoughts and observations for trial 4, plan for trial 5**\n",
    "\n",
    "**Thoughts**\n",
    "\n",
    "I will build a GNN model to make a prediction based on our data (SDF file) with hyperparamters\n",
    "\n",
    "* params[\"hidden_dim\"] = 12\n",
    "\n",
    "* params[\"message_calculation_class\"] = 'RGAT'\n",
    "\n",
    "* params[\"num_heads\"] = 3\n",
    "\n",
    "I will build the model by adding Embedding layer to enables us to convert each word into a fixed length vector of defined size and adding a GNN input layer to encode data about the graph's structure.then uses this data to update the node and edge representations that were created at the start , adding dense(1,activation='sigmoid') as here we only output 1 probability and it is a binary classification\n",
    "\n",
    "Here I used RGAt as an aggregation mechanisms in the graph convolution layer\n",
    "\n",
    "Graph Attention Network (GAT) focuses on modelling simple undirected and single relational graph data only. This limits its ability to deal with more general and complex multi-relational graphs that contain entities with directed links of different labels (e.g., knowledge graphs).[3]\n",
    "\n",
    "**Expectation**\n",
    "\n",
    "The model may perform and learn well with  the GNN with RGAT as an aggregation mechanisms models as RGAT focuses on modelling simple undirected and single relational graph data.\n",
    "\n",
    "**Observation**\n",
    "\n",
    "The model may learn and perform well and may get high accuracy and may not happen overfitting or underfitting.\n",
    "\n",
    "**Plan for Trial_5**\n",
    "\n",
    "I will apply other aggregation mechanisms **RGIN** that used in the graph convolution layer To find out its effect on the model performance."
   ]
  },
  {
   "cell_type": "code",
   "execution_count": 43,
   "metadata": {},
   "outputs": [
    {
     "name": "stdout",
     "output_type": "stream",
     "text": [
      "gnn_out KerasTensor(type_spec=TensorSpec(shape=(None, 12), dtype=tf.float32, name=None), name='gnn_3/StatefulPartitionedCall:0', description=\"created by layer 'gnn_3'\")\n",
      "mean: KerasTensor(type_spec=TensorSpec(shape=(None, 12), dtype=tf.float32, name=None), name='tf.math.segment_mean_3/SegmentMean:0', description=\"created by layer 'tf.math.segment_mean_3'\")\n",
      "pred: KerasTensor(type_spec=TensorSpec(shape=(None, 1), dtype=tf.float32, name=None), name='dense_3/Sigmoid:0', description=\"created by layer 'dense_3'\")\n",
      "Model: \"model_3\"\n",
      "__________________________________________________________________________________________________\n",
      " Layer (type)                   Output Shape         Param #     Connected to                     \n",
      "==================================================================================================\n",
      " input_12 (InputLayer)          [(None,)]            0           []                               \n",
      "                                                                                                  \n",
      " input_10 (InputLayer)          [(None,)]            0           []                               \n",
      "                                                                                                  \n",
      " tf.math.reduce_max_3 (TFOpLamb  ()                  0           ['input_12[0][0]']               \n",
      " da)                                                                                              \n",
      "                                                                                                  \n",
      " embedding_3 (Embedding)        (None, 20)           10000       ['input_10[0][0]']               \n",
      "                                                                                                  \n",
      " input_11 (InputLayer)          [(None, 2)]          0           []                               \n",
      "                                                                                                  \n",
      " tf.__operators__.add_3 (TFOpLa  ()                  0           ['tf.math.reduce_max_3[0][0]']   \n",
      " mbda)                                                                                            \n",
      "                                                                                                  \n",
      " gnn_3 (GNN)                    (None, 12)           5400        ['embedding_3[0][0]',            \n",
      "                                                                  'input_11[0][0]',               \n",
      "                                                                  'input_12[0][0]',               \n",
      "                                                                  'tf.__operators__.add_3[0][0]'] \n",
      "                                                                                                  \n",
      " tf.math.segment_mean_3 (TFOpLa  (None, 12)          0           ['gnn_3[0][0]',                  \n",
      " mbda)                                                            'input_12[0][0]']               \n",
      "                                                                                                  \n",
      " dense_3 (Dense)                (None, 1)            13          ['tf.math.segment_mean_3[0][0]'] \n",
      "                                                                                                  \n",
      "==================================================================================================\n",
      "Total params: 15,413\n",
      "Trainable params: 15,413\n",
      "Non-trainable params: 0\n",
      "__________________________________________________________________________________________________\n"
     ]
    }
   ],
   "source": [
    "# import libraries needed to build model \n",
    "import tensorflow as tf\n",
    "from tensorflow import keras\n",
    "from tensorflow.keras import Input, Model\n",
    "from tensorflow.keras.layers import Embedding, Dense\n",
    "from tensorflow.keras.optimizers import Adam\n",
    "from tensorflow.math import segment_mean\n",
    "from  tf2_gnn.layers.message_passing import RGAT,  MessagePassing, MessagePassingInput\n",
    "\n",
    " #Input layer for nodes\n",
    "data = keras.Input(batch_shape=(None,))  \n",
    "\n",
    "# the first dim is different to the previous one. it is the total number of edges in this batch\n",
    "edge = keras.Input(batch_shape=(None, 2), dtype=tf.int32)        # Input layer for edge data    # edge is 2D \n",
    "node2graph = keras.Input(batch_shape=(None,), dtype=tf.int32)    # Input layer for node2graph\n",
    "\n",
    "embeded = Embedding(tokenizer.num_words, 20)(data)              # define embedding layer\n",
    "\n",
    "\n",
    "# number of graphs (number of samples)\n",
    "num_graph = tf.reduce_max(node2graph)+1  \n",
    "\n",
    "#gnn_input layer with inputs as defined above\n",
    "gnn_input = GNNInput(\n",
    "    node_features=embeded,\n",
    "    adjacency_lists=(edge,),\n",
    "    node_to_graph_map=node2graph, \n",
    "    num_graphs=num_graph,)\n",
    "\n",
    "# https://github.com/microsoft/tf2-gnn/blob/master/tf2_gnn/layers/gnn.py\n",
    "params = GNN.get_default_hyperparameters()\n",
    "params[\"hidden_dim\"] = 12                     # hidden dimension of gnn layer (size of the output of all message passing layers)\n",
    "params[\"message_calculation_class\"] = 'RGAT'  # configures the message passing style using RGAT layer \n",
    "params[\"num_heads\"] = 3\n",
    "gnn_layer = GNN(params)  \n",
    "\n",
    "\n",
    "gnn_out = gnn_layer(gnn_input)   # gnn output layer \n",
    "print('gnn_out', gnn_out)           \n",
    "\n",
    "# https://www.tensorflow.org/api_docs/python/tf/math/segment_mean\n",
    "avg = segment_mean(data=gnn_out,segment_ids=node2graph)  #calculating segmented mean based on segment_ids\n",
    "print('mean:', avg)\n",
    "\n",
    "\n",
    "pred = Dense(1, activation='sigmoid')(avg)   #binary classification: Dense(1), but here we only output 1 probability\n",
    "print('pred:', pred)\n",
    "\n",
    "\n",
    "model_4 = Model(\n",
    "    #inputs are data,edges and node2graph\n",
    "    inputs={\n",
    "        'data': data, \n",
    "        'edges': edge,\n",
    "        'node2grah': node2graph,},\n",
    "    #output: prediction value from dense layer\n",
    "    outputs=pred\n",
    ")\n",
    "\n",
    "# print summary of the model\n",
    "model_4.summary()"
   ]
  },
  {
   "cell_type": "code",
   "execution_count": 44,
   "metadata": {},
   "outputs": [],
   "source": [
    "# compile model \n",
    "model_4.compile(loss='BinaryCrossentropy',metrics=['AUC'])"
   ]
  },
  {
   "cell_type": "code",
   "execution_count": 45,
   "metadata": {},
   "outputs": [
    {
     "name": "stdout",
     "output_type": "stream",
     "text": [
      "Epoch 1/30\n",
      "1265/1265 [==============================] - 24s 16ms/step - loss: 0.6397 - auc: 0.6774 - val_loss: 0.6316 - val_auc: 0.7006\n",
      "Epoch 2/30\n",
      "1265/1265 [==============================] - 21s 16ms/step - loss: 0.6151 - auc: 0.7164 - val_loss: 0.6176 - val_auc: 0.7207\n",
      "Epoch 3/30\n",
      "1265/1265 [==============================] - 19s 15ms/step - loss: 0.6025 - auc: 0.7342 - val_loss: 0.5975 - val_auc: 0.7486\n",
      "Epoch 4/30\n",
      "1265/1265 [==============================] - 19s 15ms/step - loss: 0.5945 - auc: 0.7459 - val_loss: 0.5972 - val_auc: 0.7518\n",
      "Epoch 5/30\n",
      "1265/1265 [==============================] - 19s 15ms/step - loss: 0.5890 - auc: 0.7521 - val_loss: 0.5924 - val_auc: 0.7572\n",
      "Epoch 6/30\n",
      "1265/1265 [==============================] - 19s 15ms/step - loss: 0.5846 - auc: 0.7602 - val_loss: 0.5805 - val_auc: 0.7694\n",
      "Epoch 7/30\n",
      "1265/1265 [==============================] - 18s 15ms/step - loss: 0.5788 - auc: 0.7671 - val_loss: 0.5840 - val_auc: 0.7690\n",
      "Epoch 8/30\n",
      "1265/1265 [==============================] - 19s 15ms/step - loss: 0.5745 - auc: 0.7721 - val_loss: 0.5789 - val_auc: 0.7751\n",
      "Epoch 9/30\n",
      "1265/1265 [==============================] - 19s 15ms/step - loss: 0.5713 - auc: 0.7762 - val_loss: 0.5765 - val_auc: 0.7776\n",
      "Epoch 10/30\n",
      "1265/1265 [==============================] - 19s 15ms/step - loss: 0.5681 - auc: 0.7797 - val_loss: 0.5764 - val_auc: 0.7811\n",
      "Epoch 11/30\n",
      "1265/1265 [==============================] - 19s 15ms/step - loss: 0.5648 - auc: 0.7841 - val_loss: 0.5665 - val_auc: 0.7898\n",
      "Epoch 12/30\n",
      "1265/1265 [==============================] - 19s 15ms/step - loss: 0.5599 - auc: 0.7883 - val_loss: 0.5704 - val_auc: 0.7867\n",
      "Epoch 13/30\n",
      "1265/1265 [==============================] - 19s 15ms/step - loss: 0.5565 - auc: 0.7919 - val_loss: 0.5527 - val_auc: 0.8023\n",
      "Epoch 14/30\n",
      "1265/1265 [==============================] - 18s 15ms/step - loss: 0.5496 - auc: 0.7979 - val_loss: 0.5685 - val_auc: 0.7965\n",
      "Epoch 15/30\n",
      "1265/1265 [==============================] - 18s 15ms/step - loss: 0.5482 - auc: 0.7996 - val_loss: 0.5445 - val_auc: 0.8087\n",
      "Epoch 16/30\n",
      "1265/1265 [==============================] - 18s 15ms/step - loss: 0.5442 - auc: 0.8025 - val_loss: 0.5427 - val_auc: 0.8130\n",
      "Epoch 17/30\n",
      "1265/1265 [==============================] - 19s 15ms/step - loss: 0.5378 - auc: 0.8084 - val_loss: 0.5372 - val_auc: 0.8129\n",
      "Epoch 18/30\n",
      "1265/1265 [==============================] - 19s 15ms/step - loss: 0.5333 - auc: 0.8118 - val_loss: 0.5257 - val_auc: 0.8208\n",
      "Epoch 19/30\n",
      "1265/1265 [==============================] - 19s 15ms/step - loss: 0.5297 - auc: 0.8144 - val_loss: 0.5188 - val_auc: 0.8251\n",
      "Epoch 20/30\n",
      "1265/1265 [==============================] - 19s 15ms/step - loss: 0.5242 - auc: 0.8188 - val_loss: 0.5265 - val_auc: 0.8208\n",
      "Epoch 21/30\n",
      "1265/1265 [==============================] - 19s 15ms/step - loss: 0.5208 - auc: 0.8222 - val_loss: 0.5109 - val_auc: 0.8314\n",
      "Epoch 22/30\n",
      "1265/1265 [==============================] - 19s 15ms/step - loss: 0.5189 - auc: 0.8229 - val_loss: 0.5148 - val_auc: 0.8302\n",
      "Epoch 23/30\n",
      "1265/1265 [==============================] - 19s 15ms/step - loss: 0.5151 - auc: 0.8257 - val_loss: 0.5159 - val_auc: 0.8295\n",
      "Epoch 24/30\n",
      "1265/1265 [==============================] - 19s 15ms/step - loss: 0.5123 - auc: 0.8291 - val_loss: 0.5195 - val_auc: 0.8323\n",
      "Epoch 25/30\n",
      "1265/1265 [==============================] - 19s 15ms/step - loss: 0.5110 - auc: 0.8295 - val_loss: 0.5211 - val_auc: 0.8296\n",
      "Epoch 26/30\n",
      "1265/1265 [==============================] - 18s 15ms/step - loss: 0.5084 - auc: 0.8313 - val_loss: 0.5200 - val_auc: 0.8344\n",
      "Epoch 27/30\n",
      "1265/1265 [==============================] - 17s 14ms/step - loss: 0.5073 - auc: 0.8325 - val_loss: 0.5193 - val_auc: 0.8368\n",
      "Epoch 28/30\n",
      "1265/1265 [==============================] - 18s 14ms/step - loss: 0.5022 - auc: 0.8360 - val_loss: 0.5119 - val_auc: 0.8346\n",
      "Epoch 29/30\n",
      "1265/1265 [==============================] - 22s 17ms/step - loss: 0.5030 - auc: 0.8352 - val_loss: 0.5161 - val_auc: 0.8414\n",
      "Epoch 30/30\n",
      "1265/1265 [==============================] - 22s 18ms/step - loss: 0.5023 - auc: 0.8363 - val_loss: 0.5092 - val_auc: 0.8366\n"
     ]
    }
   ],
   "source": [
    "import math\n",
    "\n",
    "batch_size = 32\n",
    "num_batchs = math.ceil(len(training_set) / batch_size)               # number of batches for training data\n",
    "num_batchs_validation = math.ceil(len(validation_set) / batch_size)  # number of batches for validation data\n",
    "\n",
    "# fit model \n",
    "model4=model_4.fit(gen_batch(training_set, batch_size=batch_size, repeat=True),\n",
    "    steps_per_epoch=num_batchs,\n",
    "    epochs=30,\n",
    "    validation_data=gen_batch(validation_set, batch_size=32, repeat=True),\n",
    "    validation_steps=num_batchs_validation)"
   ]
  },
  {
   "cell_type": "code",
   "execution_count": 46,
   "metadata": {},
   "outputs": [
    {
     "data": {
      "image/png": "[encoded data removed]",
      "text/plain": [
       "<Figure size 432x288 with 1 Axes>"
      ]
     },
     "metadata": {
      "needs_background": "light"
     },
     "output_type": "display_data"
    },
    {
     "data": {
      "image/png": "[encoded data removed]",
      "text/plain": [
       "<Figure size 432x288 with 1 Axes>"
      ]
     },
     "metadata": {
      "needs_background": "light"
     },
     "output_type": "display_data"
    }
   ],
   "source": [
    "plot_graphs(model4, \"loss\")\n",
    "plot_graphs(model4, \"auc\")"
   ]
  },
  {
   "cell_type": "markdown",
   "metadata": {},
   "source": [
    "**Observation**\n",
    "\n",
    "After running the model I observed that the model's performance was good and learned well as there is no overfitting or underfitting according to the plot of (loss & accuracy) which mean using RGAT aggregation mechanisms has a good effect on the model's performance as RGAT focusses on the modelling of undirected and single relational graph data."
   ]
  },
  {
   "cell_type": "code",
   "execution_count": 47,
   "metadata": {},
   "outputs": [
    {
     "data": {
      "text/plain": [
       "array([0.85976195, 0.58689296, 0.01958176, ..., 0.07441568, 0.54966897,\n",
       "       0.25389344], dtype=float32)"
      ]
     },
     "execution_count": 47,
     "metadata": {},
     "output_type": "execute_result"
    }
   ],
   "source": [
    "# get the prediction values from predict model \n",
    "y_pred = model_4.predict(gen_batch(testing_set, batch_size=16, shuffle=False))\n",
    "y_pred = np.reshape(y_pred, -1)\n",
    "y_pred"
   ]
  },
  {
   "cell_type": "code",
   "execution_count": 48,
   "metadata": {},
   "outputs": [],
   "source": [
    "import pandas as pd \n",
    "\n",
    "submission = pd.DataFrame({'label':y_pred})\n",
    "submission.index.name = 'id'\n",
    "submission.to_csv('sample_submission_4.csv') # Score: 0.83770"
   ]
  },
  {
   "cell_type": "markdown",
   "metadata": {},
   "source": [
    "# Trial_5"
   ]
  },
  {
   "cell_type": "markdown",
   "metadata": {},
   "source": [
    "**Thoughts and observations for trial 5, plan for trial 6**\n",
    "\n",
    "**Thoughts**\n",
    "\n",
    "I will build a GNN model to make a prediction based on our data (SDF file) with hyperparamters\n",
    "\n",
    "* params[\"hidden_dim\"] = 32\n",
    "\n",
    "* params[\"message_calculation_class\"] = 'RGIN'\n",
    "\n",
    "* params['num_aggr_MLP_hidden_layers'] = 12 which mean (Number of hidden layers of the MLPs used on the aggregation of messages from neighbouring nodes).\n",
    "\n",
    "I will build the model by adding Embedding layer to enables us to convert each word into a fixed length vector of defined size and adding a GNN input layer to encode data about the graph's structure.then uses this data to update the node and edge representations that were created at the start , adding dense(1,activation='sigmoid') as here we only output 1 probability and it is a binary classification\n",
    "\n",
    "Here I used RGAt as an aggregation mechanisms in the graph convolution layer\n",
    "\n",
    "GIN is a dual representation of convolutional neural network (CNN) in the graph space where the shift operation is defined using the adjacency matrix.[4]\n",
    "\n",
    "**Expectation**\n",
    "\n",
    "The model may perform and learn very well with the GNN with RGIN an aggregation mechanisms models as GIN is a dual representation of convolutional neural network (CNN) in the graph space.\n",
    "\n",
    "**Observation**\n",
    "\n",
    "The model may learn and perform well and may get high accuracy and may not happen overfitting or underfitting.\n",
    "\n",
    "**Plan for Trial_6**\n",
    "\n",
    "I will apply other aggregation mechanisms **GGNN** that used in the graph convolution layer and change haperparameters To find out its effect on the model's performance."
   ]
  },
  {
   "cell_type": "code",
   "execution_count": 49,
   "metadata": {},
   "outputs": [
    {
     "name": "stdout",
     "output_type": "stream",
     "text": [
      "gnn_out KerasTensor(type_spec=TensorSpec(shape=(None, 32), dtype=tf.float32, name=None), name='gnn_4/StatefulPartitionedCall:0', description=\"created by layer 'gnn_4'\")\n",
      "mean: KerasTensor(type_spec=TensorSpec(shape=(None, 32), dtype=tf.float32, name=None), name='tf.math.segment_mean_4/SegmentMean:0', description=\"created by layer 'tf.math.segment_mean_4'\")\n",
      "pred: KerasTensor(type_spec=TensorSpec(shape=(None, 1), dtype=tf.float32, name=None), name='dense_4/Sigmoid:0', description=\"created by layer 'dense_4'\")\n",
      "Model: \"model_4\"\n",
      "__________________________________________________________________________________________________\n",
      " Layer (type)                   Output Shape         Param #     Connected to                     \n",
      "==================================================================================================\n",
      " input_15 (InputLayer)          [(None,)]            0           []                               \n",
      "                                                                                                  \n",
      " input_13 (InputLayer)          [(None,)]            0           []                               \n",
      "                                                                                                  \n",
      " tf.math.reduce_max_4 (TFOpLamb  ()                  0           ['input_15[0][0]']               \n",
      " da)                                                                                              \n",
      "                                                                                                  \n",
      " embedding_4 (Embedding)        (None, 20)           10000       ['input_13[0][0]']               \n",
      "                                                                                                  \n",
      " input_14 (InputLayer)          [(None, 2)]          0           []                               \n",
      "                                                                                                  \n",
      " tf.__operators__.add_4 (TFOpLa  ()                  0           ['tf.math.reduce_max_4[0][0]']   \n",
      " mbda)                                                                                            \n",
      "                                                                                                  \n",
      " gnn_4 (GNN)                    (None, 32)           75712       ['embedding_4[0][0]',            \n",
      "                                                                  'input_14[0][0]',               \n",
      "                                                                  'input_15[0][0]',               \n",
      "                                                                  'tf.__operators__.add_4[0][0]'] \n",
      "                                                                                                  \n",
      " tf.math.segment_mean_4 (TFOpLa  (None, 32)          0           ['gnn_4[0][0]',                  \n",
      " mbda)                                                            'input_15[0][0]']               \n",
      "                                                                                                  \n",
      " dense_4 (Dense)                (None, 1)            33          ['tf.math.segment_mean_4[0][0]'] \n",
      "                                                                                                  \n",
      "==================================================================================================\n",
      "Total params: 85,745\n",
      "Trainable params: 85,745\n",
      "Non-trainable params: 0\n",
      "__________________________________________________________________________________________________\n"
     ]
    }
   ],
   "source": [
    "# import libraries needed to build model \n",
    "import tensorflow as tf\n",
    "from tensorflow import keras\n",
    "from tensorflow.keras import Input, Model\n",
    "from tensorflow.keras.layers import Embedding, Dense\n",
    "from tensorflow.keras.optimizers import Adam\n",
    "from tensorflow.math import segment_mean\n",
    "\n",
    " #Input layer for nodes\n",
    "data = keras.Input(batch_shape=(None,))\n",
    "\n",
    "# the first dim is different to the previous one. it is the total number of edges in this batch\n",
    "edge = keras.Input(batch_shape=(None, 2), dtype=tf.int32)     # Input layer for edge data    # edge is 2D \n",
    "node2graph = keras.Input(batch_shape=(None,), dtype=tf.int32) # Input layer for node2graph\n",
    "embeded = Embedding(tokenizer.num_words, 20)(data)            # define embedding layer\n",
    "\n",
    "# number of graphs (number of samples)\n",
    "num_graph = tf.reduce_max(node2graph)+1\n",
    "\n",
    "# gnn_input layer with inputs as defined above\n",
    "gnn_input = GNNInput(\n",
    "    node_features=embeded,\n",
    "    adjacency_lists=(edge,),\n",
    "    node_to_graph_map=node2graph, \n",
    "    num_graphs=num_graph,)\n",
    "\n",
    "# https://github.com/microsoft/tf2-gnn/blob/master/tf2_gnn/layers/gnn.py\n",
    "params = GNN.get_default_hyperparameters()\n",
    "params['hidden_dim'] = 32    # hidden dimension of gnn layer (embedding layer over data with each token embedded as size vector)\n",
    "params['num_aggr_MLP_hidden_layers'] = 12    \n",
    "params[\"message_calculation_class\"] = 'RGIN' # configures the message passing style using RGIN layer \n",
    "gnn_layer = GNN(params)\n",
    "gnn_out = gnn_layer(gnn_input)  # gnn output layer \n",
    "\n",
    "print('gnn_out', gnn_out)\n",
    "\n",
    "# https://www.tensorflow.org/api_docs/python/tf/math/segment_mean\n",
    "avg = segment_mean(data=gnn_out,segment_ids=node2graph)  #calculating segmented mean based on segment_ids\n",
    "print('mean:', avg)\n",
    "\n",
    "pred = Dense(1, activation='sigmoid')(avg)        #binary classification: Dense(2), but here we only output 1 probability\n",
    "print('pred:', pred)\n",
    "\n",
    "\n",
    "\n",
    "model_5 = Model(\n",
    "    #inputs are data,edges and node2graph\n",
    "    inputs={   \n",
    "        'data': data,\n",
    "        'edges': edge,\n",
    "        'node2grah': node2graph,},\n",
    "    #output: prediction value from dense layer\n",
    "    outputs=pred)\n",
    "# print summary of model \n",
    "model_5.summary()"
   ]
  },
  {
   "cell_type": "code",
   "execution_count": 50,
   "metadata": {},
   "outputs": [],
   "source": [
    "# compile model \n",
    "model_5.compile(loss='BinaryCrossentropy',metrics=['AUC'])"
   ]
  },
  {
   "cell_type": "code",
   "execution_count": 51,
   "metadata": {},
   "outputs": [
    {
     "name": "stdout",
     "output_type": "stream",
     "text": [
      "Epoch 1/30\n",
      "1265/1265 [==============================] - 58s 41ms/step - loss: 0.6408 - auc: 0.6860 - val_loss: 0.6286 - val_auc: 0.7355\n",
      "Epoch 2/30\n",
      "1265/1265 [==============================] - 49s 38ms/step - loss: 0.6165 - auc: 0.7237 - val_loss: 0.6247 - val_auc: 0.7354\n",
      "Epoch 3/30\n",
      "1265/1265 [==============================] - 52s 41ms/step - loss: 0.6101 - auc: 0.7311 - val_loss: 0.5978 - val_auc: 0.7513\n",
      "Epoch 4/30\n",
      "1265/1265 [==============================] - 51s 40ms/step - loss: 0.5999 - auc: 0.7448 - val_loss: 0.5931 - val_auc: 0.7621\n",
      "Epoch 5/30\n",
      "1265/1265 [==============================] - 48s 38ms/step - loss: 0.5952 - auc: 0.7499 - val_loss: 0.5753 - val_auc: 0.7727\n",
      "Epoch 6/30\n",
      "1265/1265 [==============================] - 51s 40ms/step - loss: 0.5864 - auc: 0.7612 - val_loss: 0.6009 - val_auc: 0.7627\n",
      "Epoch 7/30\n",
      "1265/1265 [==============================] - 51s 40ms/step - loss: 0.5853 - auc: 0.7633 - val_loss: 0.5727 - val_auc: 0.7944\n",
      "Epoch 8/30\n",
      "1265/1265 [==============================] - 51s 40ms/step - loss: 0.5669 - auc: 0.7853 - val_loss: 0.6277 - val_auc: 0.7973\n",
      "Epoch 9/30\n",
      "1265/1265 [==============================] - 51s 40ms/step - loss: 0.5571 - auc: 0.7935 - val_loss: 0.5457 - val_auc: 0.8063\n",
      "Epoch 10/30\n",
      "1265/1265 [==============================] - 52s 41ms/step - loss: 0.5637 - auc: 0.7872 - val_loss: 0.6031 - val_auc: 0.8050\n",
      "Epoch 11/30\n",
      "1265/1265 [==============================] - 51s 41ms/step - loss: 0.5533 - auc: 0.7981 - val_loss: 0.5336 - val_auc: 0.8208\n",
      "Epoch 12/30\n",
      "1265/1265 [==============================] - 53s 42ms/step - loss: 0.5439 - auc: 0.8064 - val_loss: 0.5643 - val_auc: 0.7982\n",
      "Epoch 13/30\n",
      "1265/1265 [==============================] - 52s 41ms/step - loss: 0.5389 - auc: 0.8103 - val_loss: 0.5166 - val_auc: 0.8273\n",
      "Epoch 14/30\n",
      "1265/1265 [==============================] - 51s 40ms/step - loss: 0.5397 - auc: 0.8082 - val_loss: 0.5237 - val_auc: 0.8329\n",
      "Epoch 15/30\n",
      "1265/1265 [==============================] - 53s 42ms/step - loss: 0.5330 - auc: 0.8157 - val_loss: 0.6464 - val_auc: 0.6929\n",
      "Epoch 16/30\n",
      "1265/1265 [==============================] - 52s 41ms/step - loss: 0.5311 - auc: 0.8175 - val_loss: 0.5262 - val_auc: 0.8287\n",
      "Epoch 17/30\n",
      "1265/1265 [==============================] - 52s 41ms/step - loss: 0.5291 - auc: 0.8184 - val_loss: 0.6463 - val_auc: 0.7417\n",
      "Epoch 18/30\n",
      "1265/1265 [==============================] - 52s 41ms/step - loss: 0.5476 - auc: 0.8018 - val_loss: 0.5133 - val_auc: 0.8394\n",
      "Epoch 19/30\n",
      "1265/1265 [==============================] - 51s 40ms/step - loss: 0.5423 - auc: 0.8075 - val_loss: 0.5169 - val_auc: 0.8351\n",
      "Epoch 20/30\n",
      "1265/1265 [==============================] - 52s 41ms/step - loss: 0.5179 - auc: 0.8281 - val_loss: 0.5086 - val_auc: 0.8433\n",
      "Epoch 21/30\n",
      "1265/1265 [==============================] - 53s 42ms/step - loss: 0.5151 - auc: 0.8289 - val_loss: 0.5122 - val_auc: 0.8416\n",
      "Epoch 22/30\n",
      "1265/1265 [==============================] - 52s 41ms/step - loss: 0.5178 - auc: 0.8277 - val_loss: 0.4996 - val_auc: 0.8446\n",
      "Epoch 23/30\n",
      "1265/1265 [==============================] - 51s 40ms/step - loss: 0.5208 - auc: 0.8249 - val_loss: 0.5320 - val_auc: 0.8293\n",
      "Epoch 24/30\n",
      "1265/1265 [==============================] - 52s 41ms/step - loss: 0.5348 - auc: 0.8127 - val_loss: 0.5579 - val_auc: 0.8154\n",
      "Epoch 25/30\n",
      "1265/1265 [==============================] - 56s 44ms/step - loss: 0.5907 - auc: 0.7590 - val_loss: 0.6157 - val_auc: 0.7465\n",
      "Epoch 26/30\n",
      "1265/1265 [==============================] - 53s 42ms/step - loss: 0.5833 - auc: 0.7682 - val_loss: 0.5670 - val_auc: 0.7859\n",
      "Epoch 27/30\n",
      "1265/1265 [==============================] - 54s 42ms/step - loss: 0.5606 - auc: 0.7924 - val_loss: 0.5778 - val_auc: 0.8090\n",
      "Epoch 28/30\n",
      "1265/1265 [==============================] - 55s 43ms/step - loss: 0.5423 - auc: 0.8058 - val_loss: 0.5362 - val_auc: 0.8168\n",
      "Epoch 29/30\n",
      "1265/1265 [==============================] - 53s 42ms/step - loss: 0.5688 - auc: 0.7788 - val_loss: 0.5889 - val_auc: 0.7554\n",
      "Epoch 30/30\n",
      "1265/1265 [==============================] - 53s 42ms/step - loss: 0.5694 - auc: 0.7791 - val_loss: 0.5603 - val_auc: 0.7935\n"
     ]
    }
   ],
   "source": [
    "import math\n",
    "\n",
    "batch_size = 32\n",
    "num_batchs = math.ceil(len(training_set) / batch_size)               # number of batches for training data\n",
    "num_batchs_validation = math.ceil(len(validation_set) / batch_size)  # number of batches for validation data\n",
    "\n",
    "# fit model \n",
    "model5=model_5.fit(gen_batch(training_set, batch_size=batch_size, repeat=True),\n",
    "    steps_per_epoch=num_batchs,\n",
    "    epochs=30,\n",
    "    validation_data=gen_batch(validation_set, batch_size=32, repeat=True),\n",
    "    validation_steps=num_batchs_validation)"
   ]
  },
  {
   "cell_type": "code",
   "execution_count": 52,
   "metadata": {},
   "outputs": [
    {
     "data": {
      "image/png": "[encoded data removed]",
      "text/plain": [
       "<Figure size 432x288 with 1 Axes>"
      ]
     },
     "metadata": {
      "needs_background": "light"
     },
     "output_type": "display_data"
    },
    {
     "data": {
      "image/png": "[encoded data removed]",
      "text/plain": [
       "<Figure size 432x288 with 1 Axes>"
      ]
     },
     "metadata": {
      "needs_background": "light"
     },
     "output_type": "display_data"
    }
   ],
   "source": [
    "plot_graphs(model5, \"loss\")\n",
    "plot_graphs(model5, \"auc\")"
   ]
  },
  {
   "cell_type": "markdown",
   "metadata": {},
   "source": [
    "**Observation**\n",
    "\n",
    "After running the model I observed that the model's performance was not very good and didn't learn well as there is a little   underfitting according to the plot of (loss & accuracy) which mean using RGIN aggregation mechanisms has not  good effect on the model's performance."
   ]
  },
  {
   "cell_type": "code",
   "execution_count": 53,
   "metadata": {},
   "outputs": [
    {
     "data": {
      "text/plain": [
       "array([0.9012191 , 0.3040504 , 0.42816985, ..., 0.10967001, 0.32801116,\n",
       "       0.59050024], dtype=float32)"
      ]
     },
     "execution_count": 53,
     "metadata": {},
     "output_type": "execute_result"
    }
   ],
   "source": [
    "# get the prediction values from predict model \n",
    "y_pred = model_5.predict(gen_batch(testing_set, batch_size=16, shuffle=False))\n",
    "y_pred = np.reshape(y_pred, -1)\n",
    "y_pred"
   ]
  },
  {
   "cell_type": "code",
   "execution_count": 54,
   "metadata": {},
   "outputs": [],
   "source": [
    "import pandas as pd \n",
    "\n",
    "submission = pd.DataFrame({'label':y_pred})\n",
    "submission.index.name = 'id'\n",
    "submission.to_csv('sample_submission_5.csv') # Score: 0.80590"
   ]
  },
  {
   "cell_type": "markdown",
   "metadata": {},
   "source": [
    "# Trial_6"
   ]
  },
  {
   "cell_type": "markdown",
   "metadata": {},
   "source": [
    "**Thoughts and observations for trial 6, plan for trial 7**\n",
    "\n",
    "**Thoughts**\n",
    "\n",
    "I will build a GNN model to make a prediction based on our data (SDF file) with hyperparamters\n",
    "\n",
    "* params[\"hidden_dim\"] = 64\n",
    "\n",
    "* params['dense_every_num_layers']=32\n",
    "\n",
    "* params[\"message_calculation_class\"] = 'GGNN'\n",
    "\n",
    "I will build the model by adding Embedding layer to enables us to convert each word into a fixed length vector of defined size and adding a GNN input layer to encode data about the graph's structure.then uses this data to update the node and edge representations that were created at the start , adding dense(1,activation='sigmoid') as here we only output 1 probability and it is a binary classification\n",
    "\n",
    "Here I used GGNN as an aggregation mechanisms  in the graph convolution layer because GGNN perform well on problems with long-term dependencies.The long-term dependencies are encoded by node and edge gates.  Therefore, Gated Graph Neural Networks improve Recurrent Graph Neural Networks by adding gating mechanisms. These gates are responsible for remembering and forgetting information in different states.[1]\n",
    "\n",
    "**Expectation**\n",
    "\n",
    "The model's performance will be very good and the model will learn well as I change [\"hidden_dim\"] = 64 insted of 32 to let size of the output of all message passing layers to be bigger and using ['dense_every_num_layers']=32 and using  the GNN with GGNN as an aggregation mechanisms models are very well suited to the type of data used (SDF) to develop and evaluate the model in order to achieve the best prediction.\n",
    "\n",
    "**Observation**\n",
    "\n",
    "The model's performance will be very good and may not happen overfitting or underfitting.\n",
    "\n",
    "**Plan for Trial_7**\n",
    "\n",
    "I will apply other aggregation mechanisms **GGNN** that used in the graph convolution layer and change hyperparameters and add ['dense_intermediate_layer_activation'] hyperparameter  To find out  its effect on the model performance."
   ]
  },
  {
   "cell_type": "code",
   "execution_count": 55,
   "metadata": {},
   "outputs": [
    {
     "name": "stdout",
     "output_type": "stream",
     "text": [
      "gnn_out KerasTensor(type_spec=TensorSpec(shape=(None, 64), dtype=tf.float32, name=None), name='gnn_5/StatefulPartitionedCall:0', description=\"created by layer 'gnn_5'\")\n",
      "mean: KerasTensor(type_spec=TensorSpec(shape=(None, 64), dtype=tf.float32, name=None), name='tf.math.segment_mean_5/SegmentMean:0', description=\"created by layer 'tf.math.segment_mean_5'\")\n",
      "pred: KerasTensor(type_spec=TensorSpec(shape=(None, 1), dtype=tf.float32, name=None), name='dense_5/Sigmoid:0', description=\"created by layer 'dense_5'\")\n",
      "Model: \"model_5\"\n",
      "__________________________________________________________________________________________________\n",
      " Layer (type)                   Output Shape         Param #     Connected to                     \n",
      "==================================================================================================\n",
      " input_18 (InputLayer)          [(None,)]            0           []                               \n",
      "                                                                                                  \n",
      " input_16 (InputLayer)          [(None,)]            0           []                               \n",
      "                                                                                                  \n",
      " tf.math.reduce_max_5 (TFOpLamb  ()                  0           ['input_18[0][0]']               \n",
      " da)                                                                                              \n",
      "                                                                                                  \n",
      " embedding_5 (Embedding)        (None, 20)           10000       ['input_16[0][0]']               \n",
      "                                                                                                  \n",
      " input_17 (InputLayer)          [(None, 2)]          0           []                               \n",
      "                                                                                                  \n",
      " tf.__operators__.add_5 (TFOpLa  ()                  0           ['tf.math.reduce_max_5[0][0]']   \n",
      " mbda)                                                                                            \n",
      "                                                                                                  \n",
      " gnn_5 (GNN)                    (None, 64)           167296      ['embedding_5[0][0]',            \n",
      "                                                                  'input_17[0][0]',               \n",
      "                                                                  'input_18[0][0]',               \n",
      "                                                                  'tf.__operators__.add_5[0][0]'] \n",
      "                                                                                                  \n",
      " tf.math.segment_mean_5 (TFOpLa  (None, 64)          0           ['gnn_5[0][0]',                  \n",
      " mbda)                                                            'input_18[0][0]']               \n",
      "                                                                                                  \n",
      " dense_5 (Dense)                (None, 1)            65          ['tf.math.segment_mean_5[0][0]'] \n",
      "                                                                                                  \n",
      "==================================================================================================\n",
      "Total params: 177,361\n",
      "Trainable params: 177,361\n",
      "Non-trainable params: 0\n",
      "__________________________________________________________________________________________________\n"
     ]
    }
   ],
   "source": [
    "# import libraries needed to build model \n",
    "import tensorflow as tf\n",
    "from tensorflow import keras\n",
    "from tensorflow.keras import Input, Model\n",
    "from tensorflow.keras.layers import Embedding, Dense\n",
    "from tensorflow.keras.optimizers import Adam\n",
    "from tensorflow.math import segment_mean\n",
    "\n",
    " #Input layer for nodes\n",
    "data = keras.Input(batch_shape=(None,))\n",
    "\n",
    "# the first dim is different to the previous one. it is the total number of edges in this batch\n",
    "edge = keras.Input(batch_shape=(None, 2), dtype=tf.int32)     # Input layer for edge data    # edge is 2D \n",
    "node2graph = keras.Input(batch_shape=(None,), dtype=tf.int32) # Input layer for node2graph\n",
    "embeded = Embedding(tokenizer.num_words, 20)(data)            # define embedding layer\n",
    "\n",
    "# number of graphs (number of samples)\n",
    "num_graph = tf.reduce_max(node2graph)+1\n",
    "\n",
    "# gnn_input layer with inputs as defined above\n",
    "gnn_input = GNNInput(\n",
    "    node_features=embeded,\n",
    "    adjacency_lists=(edge,),\n",
    "    node_to_graph_map=node2graph, \n",
    "    num_graphs=num_graph,)\n",
    "\n",
    "# https://github.com/microsoft/tf2-gnn/blob/master/tf2_gnn/layers/gnn.py\n",
    "params = GNN.get_default_hyperparameters()\n",
    "params['hidden_dim'] = 64                # hidden dimension of gnn layer \n",
    "params['dense_every_num_layers']=32      # configures how often a per-node representation\n",
    "params[\"message_calculation_class\"] = 'GGNN' # configures the message passing style using RGIN layer \n",
    "gnn_layer = GNN(params)\n",
    "gnn_out = gnn_layer(gnn_input)  # gnn output layer \n",
    "\n",
    "print('gnn_out', gnn_out)\n",
    "\n",
    "# https://www.tensorflow.org/api_docs/python/tf/math/segment_mean\n",
    "avg = segment_mean(data=gnn_out,segment_ids=node2graph)  #calculating segmented mean based on segment_ids\n",
    "print('mean:', avg)\n",
    "\n",
    "pred = Dense(1, activation='sigmoid')(avg)        #binary classification: Dense(1), but here we only output 1 probability\n",
    "print('pred:', pred)\n",
    "\n",
    "\n",
    "\n",
    "model_6 = Model(\n",
    "    #inputs are data,edges and node2graph\n",
    "    inputs={   \n",
    "        'data': data,\n",
    "        'edges': edge,\n",
    "        'node2grah': node2graph,},\n",
    "    #output: prediction value from dense layer\n",
    "    outputs=pred)\n",
    "# print summary of model \n",
    "model_6.summary()"
   ]
  },
  {
   "cell_type": "code",
   "execution_count": 56,
   "metadata": {},
   "outputs": [],
   "source": [
    "# compile model \n",
    "model_6.compile(loss='BinaryCrossentropy',metrics=['AUC'])"
   ]
  },
  {
   "cell_type": "code",
   "execution_count": 57,
   "metadata": {},
   "outputs": [
    {
     "name": "stdout",
     "output_type": "stream",
     "text": [
      "Epoch 1/30\n",
      "1265/1265 [==============================] - 97s 74ms/step - loss: 0.6250 - auc: 0.7026 - val_loss: 0.6054 - val_auc: 0.7525\n",
      "Epoch 2/30\n",
      "1265/1265 [==============================] - 94s 74ms/step - loss: 0.5623 - auc: 0.7793 - val_loss: 0.5308 - val_auc: 0.8167\n",
      "Epoch 3/30\n",
      "1265/1265 [==============================] - 95s 75ms/step - loss: 0.5025 - auc: 0.8343 - val_loss: 0.4768 - val_auc: 0.8550\n",
      "Epoch 4/30\n",
      "1265/1265 [==============================] - 94s 75ms/step - loss: 0.4676 - auc: 0.8596 - val_loss: 0.4487 - val_auc: 0.8752\n",
      "Epoch 5/30\n",
      "1265/1265 [==============================] - 95s 75ms/step - loss: 0.4360 - auc: 0.8799 - val_loss: 0.4316 - val_auc: 0.8834\n",
      "Epoch 6/30\n",
      "1265/1265 [==============================] - 96s 76ms/step - loss: 0.4031 - auc: 0.8987 - val_loss: 0.3843 - val_auc: 0.9145\n",
      "Epoch 7/30\n",
      "1265/1265 [==============================] - 95s 75ms/step - loss: 0.3732 - auc: 0.9135 - val_loss: 0.3737 - val_auc: 0.9156\n",
      "Epoch 8/30\n",
      "1265/1265 [==============================] - 95s 75ms/step - loss: 0.3464 - auc: 0.9257 - val_loss: 0.3404 - val_auc: 0.9387\n",
      "Epoch 9/30\n",
      "1265/1265 [==============================] - 92s 72ms/step - loss: 0.3182 - auc: 0.9369 - val_loss: 0.2863 - val_auc: 0.9496\n",
      "Epoch 10/30\n",
      "1265/1265 [==============================] - 96s 76ms/step - loss: 0.2950 - auc: 0.9453 - val_loss: 0.2936 - val_auc: 0.9500\n",
      "Epoch 11/30\n",
      "1265/1265 [==============================] - 98s 77ms/step - loss: 0.2785 - auc: 0.9509 - val_loss: 0.2560 - val_auc: 0.9607\n",
      "Epoch 12/30\n",
      "1265/1265 [==============================] - 96s 76ms/step - loss: 0.2584 - auc: 0.9567 - val_loss: 0.2456 - val_auc: 0.9640\n",
      "Epoch 13/30\n",
      "1265/1265 [==============================] - 107s 85ms/step - loss: 0.2470 - auc: 0.9603 - val_loss: 0.2517 - val_auc: 0.9606\n",
      "Epoch 14/30\n",
      "1265/1265 [==============================] - 106s 84ms/step - loss: 0.2341 - auc: 0.9641 - val_loss: 0.2230 - val_auc: 0.9711\n",
      "Epoch 15/30\n",
      "1265/1265 [==============================] - 102s 81ms/step - loss: 0.2165 - auc: 0.9685 - val_loss: 0.2018 - val_auc: 0.9714\n",
      "Epoch 16/30\n",
      "1265/1265 [==============================] - 99s 78ms/step - loss: 0.2053 - auc: 0.9713 - val_loss: 0.1926 - val_auc: 0.9745\n",
      "Epoch 17/30\n",
      "1265/1265 [==============================] - 100s 79ms/step - loss: 0.1963 - auc: 0.9735 - val_loss: 0.1810 - val_auc: 0.9775\n",
      "Epoch 18/30\n",
      "1265/1265 [==============================] - 102s 81ms/step - loss: 0.1870 - auc: 0.9754 - val_loss: 0.2111 - val_auc: 0.9782\n",
      "Epoch 19/30\n",
      "1265/1265 [==============================] - 113s 90ms/step - loss: 0.1818 - auc: 0.9766 - val_loss: 0.2143 - val_auc: 0.9800\n",
      "Epoch 20/30\n",
      "1265/1265 [==============================] - 104s 82ms/step - loss: 0.1704 - auc: 0.9794 - val_loss: 0.2018 - val_auc: 0.9781\n",
      "Epoch 21/30\n",
      "1265/1265 [==============================] - 106s 84ms/step - loss: 0.1639 - auc: 0.9804 - val_loss: 0.2107 - val_auc: 0.9777\n",
      "Epoch 22/30\n",
      "1265/1265 [==============================] - 134s 106ms/step - loss: 0.1578 - auc: 0.9820 - val_loss: 0.1994 - val_auc: 0.9811\n",
      "Epoch 23/30\n",
      "1265/1265 [==============================] - 130s 103ms/step - loss: 0.1531 - auc: 0.9824 - val_loss: 0.1934 - val_auc: 0.9818\n",
      "Epoch 24/30\n",
      "1265/1265 [==============================] - 122s 97ms/step - loss: 0.1459 - auc: 0.9840 - val_loss: 0.2005 - val_auc: 0.9783\n",
      "Epoch 25/30\n",
      "1265/1265 [==============================] - 99s 78ms/step - loss: 0.1420 - auc: 0.9847 - val_loss: 0.1966 - val_auc: 0.9801\n",
      "Epoch 26/30\n",
      "1265/1265 [==============================] - 101s 80ms/step - loss: 0.1371 - auc: 0.9856 - val_loss: 0.1928 - val_auc: 0.9846\n",
      "Epoch 27/30\n",
      "1265/1265 [==============================] - 98s 78ms/step - loss: 0.1347 - auc: 0.9860 - val_loss: 0.1879 - val_auc: 0.9818\n",
      "Epoch 28/30\n",
      "1265/1265 [==============================] - 101s 80ms/step - loss: 0.1286 - auc: 0.9867 - val_loss: 0.1571 - val_auc: 0.9855\n",
      "Epoch 29/30\n",
      "1265/1265 [==============================] - 102s 80ms/step - loss: 0.1279 - auc: 0.9871 - val_loss: 0.1422 - val_auc: 0.9877\n",
      "Epoch 30/30\n",
      "1265/1265 [==============================] - 98s 77ms/step - loss: 0.1219 - auc: 0.9883 - val_loss: 0.1753 - val_auc: 0.9833\n"
     ]
    }
   ],
   "source": [
    "import math\n",
    "\n",
    "batch_size = 32\n",
    "num_batchs = math.ceil(len(training_set) / batch_size)               # number of batches for training data\n",
    "num_batchs_validation = math.ceil(len(validation_set) / batch_size)  # number of batches for validation data\n",
    "\n",
    "# fit model \n",
    "model6=model_6.fit(gen_batch(training_set, batch_size=batch_size, repeat=True),\n",
    "    steps_per_epoch=num_batchs,\n",
    "    epochs=30,\n",
    "    validation_data=gen_batch(validation_set, batch_size=32, repeat=True),\n",
    "    validation_steps=num_batchs_validation)"
   ]
  },
  {
   "cell_type": "code",
   "execution_count": 58,
   "metadata": {},
   "outputs": [
    {
     "data": {
      "image/png": "[encoded data removed]",
      "text/plain": [
       "<Figure size 432x288 with 1 Axes>"
      ]
     },
     "metadata": {
      "needs_background": "light"
     },
     "output_type": "display_data"
    },
    {
     "data": {
      "image/png": "[encoded data removed]",
      "text/plain": [
       "<Figure size 432x288 with 1 Axes>"
      ]
     },
     "metadata": {
      "needs_background": "light"
     },
     "output_type": "display_data"
    }
   ],
   "source": [
    "plot_graphs(model6, \"loss\")\n",
    "plot_graphs(model6, \"auc\")"
   ]
  },
  {
   "cell_type": "markdown",
   "metadata": {},
   "source": [
    "**Observation**\n",
    "\n",
    "After running the model I observed that the model perform  very good and gave a very high accuracy and the model learnt very well as there is no underfitting or overfitting  according to the plot of (loss & accuracy) which mean using GGNN aggregation mechanisms with ['hidden_dim'] = 64 and ['dense_every_num_layers']=32  has a very good effect on the model's performance."
   ]
  },
  {
   "cell_type": "code",
   "execution_count": 59,
   "metadata": {},
   "outputs": [
    {
     "data": {
      "text/plain": [
       "array([4.2021871e-03, 7.5241923e-04, 7.4345582e-05, ..., 1.9151416e-06,\n",
       "       3.1632112e-07, 9.4939542e-01], dtype=float32)"
      ]
     },
     "execution_count": 59,
     "metadata": {},
     "output_type": "execute_result"
    }
   ],
   "source": [
    "# get the prediction values from predict model \n",
    "y_pred = model_6.predict(gen_batch(testing_set, batch_size=16, shuffle=False))\n",
    "y_pred = np.reshape(y_pred, -1)\n",
    "y_pred"
   ]
  },
  {
   "cell_type": "code",
   "execution_count": 60,
   "metadata": {},
   "outputs": [],
   "source": [
    "import pandas as pd \n",
    "\n",
    "submission = pd.DataFrame({'label':y_pred})\n",
    "submission.index.name = 'id'\n",
    "submission.to_csv('sample_submission_6.csv') # Score: 0.86056"
   ]
  },
  {
   "cell_type": "markdown",
   "metadata": {},
   "source": [
    "# Trial_7"
   ]
  },
  {
   "cell_type": "markdown",
   "metadata": {},
   "source": [
    "**Thoughts and observations for trial 7, plan for trial 8**\n",
    "\n",
    "**Thoughts**\n",
    "\n",
    "I will build a GNN model to make a prediction based on our data (SDF file) with hyperparamters\n",
    "\n",
    "* params[\"hidden_dim\"] = 64\n",
    "\n",
    "* params['dense_every_num_layers']=8\n",
    "\n",
    "* params['dense_intermediate_layer_activation']='tanh'\n",
    "\n",
    "* params[\"message_calculation_class\"] = 'GGNN'\n",
    "\n",
    "I will build the model by adding Embedding layer to enables us to convert each word into a fixed length vector of defined size and adding a GNN input layer to encode data about the graph's structure.then uses this data to update the node and edge representations that were created at the start , adding dense(1,activation='sigmoid') as here we only output 1 probability and it is a binary classification\n",
    "\n",
    "Here I used GGNN as an aggregation mechanisms in the graph convolution layer because GGNN perform well on problems with long-term dependencies.The long-term dependencies are encoded by node and edge gates. Therefore, Gated Graph Neural Networks improve Recurrent Graph Neural Networks by adding gating mechanisms. These gates are responsible for remembering and forgetting information in different states.[1]\n",
    "\n",
    "**Expectation**\n",
    "\n",
    "The model's performance will be very good and the model will learn well as I change [\"hidden_dim\"] = 64 insted of 32 to let size of the output of all message passing layers to be bigger and using ['dense_every_num_layers']=8 and params['dense_intermediate_layer_activation']='tanh'and using the GNN with GGNN as an aggregation mechanisms models are very well suited to the type of data used (SDF) to develop and evaluate the model in order to achieve the best prediction.\n",
    "\n",
    "my expectation that the model performance may affect as I change the hyperparamets and add avtivation function\n",
    "\n",
    "**Observation**\n",
    "\n",
    "The model's performance will be very good and may not happen overfitting or underfitting.\n",
    "\n",
    "**Plan for Trial_8**\n",
    "\n",
    "I will apply other aggregation mechanisms GGNN that used in the graph convolution layer and change hyperparameters to be ['hidden_dim'] = 64  and remove ['dense_every_num_layers'] To find out if there is  effect on the model performance or not."
   ]
  },
  {
   "cell_type": "code",
   "execution_count": 64,
   "metadata": {},
   "outputs": [
    {
     "name": "stdout",
     "output_type": "stream",
     "text": [
      "gnn_out KerasTensor(type_spec=TensorSpec(shape=(None, 64), dtype=tf.float32, name=None), name='gnn_7/StatefulPartitionedCall:0', description=\"created by layer 'gnn_7'\")\n",
      "mean: KerasTensor(type_spec=TensorSpec(shape=(None, 64), dtype=tf.float32, name=None), name='tf.math.segment_mean_7/SegmentMean:0', description=\"created by layer 'tf.math.segment_mean_7'\")\n",
      "pred: KerasTensor(type_spec=TensorSpec(shape=(None, 1), dtype=tf.float32, name=None), name='dense_7/Sigmoid:0', description=\"created by layer 'dense_7'\")\n",
      "Model: \"model_7\"\n",
      "__________________________________________________________________________________________________\n",
      " Layer (type)                   Output Shape         Param #     Connected to                     \n",
      "==================================================================================================\n",
      " input_24 (InputLayer)          [(None,)]            0           []                               \n",
      "                                                                                                  \n",
      " input_22 (InputLayer)          [(None,)]            0           []                               \n",
      "                                                                                                  \n",
      " tf.math.reduce_max_7 (TFOpLamb  ()                  0           ['input_24[0][0]']               \n",
      " da)                                                                                              \n",
      "                                                                                                  \n",
      " embedding_7 (Embedding)        (None, 20)           10000       ['input_22[0][0]']               \n",
      "                                                                                                  \n",
      " input_23 (InputLayer)          [(None, 2)]          0           []                               \n",
      "                                                                                                  \n",
      " tf.__operators__.add_7 (TFOpLa  ()                  0           ['tf.math.reduce_max_7[0][0]']   \n",
      " mbda)                                                                                            \n",
      "                                                                                                  \n",
      " gnn_7 (GNN)                    (None, 64)           167296      ['embedding_7[0][0]',            \n",
      "                                                                  'input_23[0][0]',               \n",
      "                                                                  'input_24[0][0]',               \n",
      "                                                                  'tf.__operators__.add_7[0][0]'] \n",
      "                                                                                                  \n",
      " tf.math.segment_mean_7 (TFOpLa  (None, 64)          0           ['gnn_7[0][0]',                  \n",
      " mbda)                                                            'input_24[0][0]']               \n",
      "                                                                                                  \n",
      " dense_7 (Dense)                (None, 1)            65          ['tf.math.segment_mean_7[0][0]'] \n",
      "                                                                                                  \n",
      "==================================================================================================\n",
      "Total params: 177,361\n",
      "Trainable params: 177,361\n",
      "Non-trainable params: 0\n",
      "__________________________________________________________________________________________________\n"
     ]
    }
   ],
   "source": [
    "# import libraries needed to build model \n",
    "import tensorflow as tf\n",
    "from tensorflow import keras\n",
    "from tensorflow.keras import Input, Model\n",
    "from tensorflow.keras.layers import Embedding, Dense\n",
    "from tensorflow.keras.optimizers import Adam\n",
    "from tensorflow.math import segment_mean\n",
    "\n",
    " #Input layer for nodes\n",
    "data = keras.Input(batch_shape=(None,))\n",
    "\n",
    "# the first dim is different to the previous one. it is the total number of edges in this batch\n",
    "edge = keras.Input(batch_shape=(None, 2), dtype=tf.int32)     # Input layer for edge data    # edge is 2D \n",
    "node2graph = keras.Input(batch_shape=(None,), dtype=tf.int32) # Input layer for node2graph\n",
    "embeded = Embedding(tokenizer.num_words, 20)(data)            # define embedding layer\n",
    "\n",
    "# number of graphs (number of samples)\n",
    "num_graph = tf.reduce_max(node2graph)+1\n",
    "\n",
    "# gnn_input layer with inputs as defined above\n",
    "gnn_input = GNNInput(\n",
    "    node_features=embeded,\n",
    "    adjacency_lists=(edge,),\n",
    "    node_to_graph_map=node2graph, \n",
    "    num_graphs=num_graph,)\n",
    "\n",
    "# https://github.com/microsoft/tf2-gnn/blob/master/tf2_gnn/layers/gnn.py\n",
    "params = GNN.get_default_hyperparameters()\n",
    "params['hidden_dim'] = 64          # hidden dimension of gnn layer(sets the size of the output of all message passing layers)\n",
    "params['dense_every_num_layers'] = 8                 #  configures how often a per-node \n",
    "params['dense_intermediate_layer_activation']='tanh' # configures the activation \n",
    "params[\"message_calculation_class\"] = 'GGNN' # configures the message passing style using RGCN layer \n",
    "gnn_layer = GNN(params)\n",
    "gnn_out = gnn_layer(gnn_input)  # gnn output layer \n",
    "\n",
    "print('gnn_out', gnn_out)\n",
    "\n",
    "# https://www.tensorflow.org/api_docs/python/tf/math/segment_mean\n",
    "avg = segment_mean(data=gnn_out,segment_ids=node2graph)  #calculating segmented mean based on segment_ids\n",
    "print('mean:', avg)\n",
    "\n",
    "pred = Dense(1, activation='sigmoid')(avg)        #binary classification: Dense(1), but here we only output 1 probability\n",
    "print('pred:', pred)\n",
    "\n",
    "\n",
    "\n",
    "model_7 = Model(\n",
    "    #inputs are data,edges and node2graph\n",
    "    inputs={   \n",
    "        'data': data,\n",
    "        'edges': edge,\n",
    "        'node2grah': node2graph,},\n",
    "    #output: prediction value from dense layer\n",
    "    outputs=pred)\n",
    "# print summary of model \n",
    "model_7.summary()"
   ]
  },
  {
   "cell_type": "code",
   "execution_count": 65,
   "metadata": {},
   "outputs": [],
   "source": [
    "# compile model \n",
    "model_7.compile(loss='BinaryCrossentropy',metrics=['AUC'])"
   ]
  },
  {
   "cell_type": "code",
   "execution_count": 66,
   "metadata": {},
   "outputs": [
    {
     "name": "stdout",
     "output_type": "stream",
     "text": [
      "Epoch 1/30\n",
      "1265/1265 [==============================] - 110s 84ms/step - loss: 0.6147 - auc: 0.7152 - val_loss: 0.5826 - val_auc: 0.7657\n",
      "Epoch 2/30\n",
      "1265/1265 [==============================] - 103s 81ms/step - loss: 0.5563 - auc: 0.7847 - val_loss: 0.5110 - val_auc: 0.8297\n",
      "Epoch 3/30\n",
      "1265/1265 [==============================] - 103s 81ms/step - loss: 0.4929 - auc: 0.8426 - val_loss: 0.4664 - val_auc: 0.8639\n",
      "Epoch 4/30\n",
      "1265/1265 [==============================] - 107s 85ms/step - loss: 0.4542 - auc: 0.8688 - val_loss: 0.4311 - val_auc: 0.8835\n",
      "Epoch 5/30\n",
      "1265/1265 [==============================] - 105s 83ms/step - loss: 0.4192 - auc: 0.8897 - val_loss: 0.3789 - val_auc: 0.9116\n",
      "Epoch 6/30\n",
      "1265/1265 [==============================] - 105s 83ms/step - loss: 0.3900 - auc: 0.9051 - val_loss: 0.3481 - val_auc: 0.9249\n",
      "Epoch 7/30\n",
      "1265/1265 [==============================] - 104s 82ms/step - loss: 0.3647 - auc: 0.9169 - val_loss: 0.3467 - val_auc: 0.9257\n",
      "Epoch 8/30\n",
      "1265/1265 [==============================] - 105s 83ms/step - loss: 0.3403 - auc: 0.9279 - val_loss: 0.3153 - val_auc: 0.9394\n",
      "Epoch 9/30\n",
      "1265/1265 [==============================] - 105s 83ms/step - loss: 0.3238 - auc: 0.9345 - val_loss: 0.2982 - val_auc: 0.9439\n",
      "Epoch 10/30\n",
      "1265/1265 [==============================] - 105s 83ms/step - loss: 0.3005 - auc: 0.9434 - val_loss: 0.2877 - val_auc: 0.9502\n",
      "Epoch 11/30\n",
      "1265/1265 [==============================] - 105s 83ms/step - loss: 0.2860 - auc: 0.9485 - val_loss: 0.2623 - val_auc: 0.9560\n",
      "Epoch 12/30\n",
      "1265/1265 [==============================] - 104s 82ms/step - loss: 0.2699 - auc: 0.9537 - val_loss: 0.2883 - val_auc: 0.9499\n",
      "Epoch 13/30\n",
      "1265/1265 [==============================] - 103s 81ms/step - loss: 0.2583 - auc: 0.9573 - val_loss: 0.2423 - val_auc: 0.9622\n",
      "Epoch 14/30\n",
      "1265/1265 [==============================] - 104s 82ms/step - loss: 0.2474 - auc: 0.9604 - val_loss: 0.2353 - val_auc: 0.9636\n",
      "Epoch 15/30\n",
      "1265/1265 [==============================] - 104s 83ms/step - loss: 0.2372 - auc: 0.9629 - val_loss: 0.2155 - val_auc: 0.9679\n",
      "Epoch 16/30\n",
      "1265/1265 [==============================] - 105s 83ms/step - loss: 0.2226 - auc: 0.9671 - val_loss: 0.2503 - val_auc: 0.9653\n",
      "Epoch 17/30\n",
      "1265/1265 [==============================] - 106s 84ms/step - loss: 0.2133 - auc: 0.9699 - val_loss: 0.2201 - val_auc: 0.9715\n",
      "Epoch 18/30\n",
      "1265/1265 [==============================] - 106s 84ms/step - loss: 0.2036 - auc: 0.9719 - val_loss: 0.2074 - val_auc: 0.9696\n",
      "Epoch 19/30\n",
      "1265/1265 [==============================] - 106s 84ms/step - loss: 0.1957 - auc: 0.9736 - val_loss: 0.1965 - val_auc: 0.9744\n",
      "Epoch 20/30\n",
      "1265/1265 [==============================] - 105s 83ms/step - loss: 0.1877 - auc: 0.9753 - val_loss: 0.1951 - val_auc: 0.9749\n",
      "Epoch 21/30\n",
      "1265/1265 [==============================] - 103s 81ms/step - loss: 0.1803 - auc: 0.9768 - val_loss: 0.1990 - val_auc: 0.9783\n",
      "Epoch 22/30\n",
      "1265/1265 [==============================] - 102s 81ms/step - loss: 0.1737 - auc: 0.9784 - val_loss: 0.2299 - val_auc: 0.9745\n",
      "Epoch 23/30\n",
      "1265/1265 [==============================] - 103s 81ms/step - loss: 0.1702 - auc: 0.9791 - val_loss: 0.1791 - val_auc: 0.9795\n",
      "Epoch 24/30\n",
      "1265/1265 [==============================] - 105s 83ms/step - loss: 0.1611 - auc: 0.9810 - val_loss: 0.2016 - val_auc: 0.9789\n",
      "Epoch 25/30\n",
      "1265/1265 [==============================] - 103s 81ms/step - loss: 0.1571 - auc: 0.9818 - val_loss: 0.2137 - val_auc: 0.9771\n",
      "Epoch 26/30\n",
      "1265/1265 [==============================] - 108s 85ms/step - loss: 0.1507 - auc: 0.9830 - val_loss: 0.1895 - val_auc: 0.9817\n",
      "Epoch 27/30\n",
      "1265/1265 [==============================] - 100s 79ms/step - loss: 0.1489 - auc: 0.9831 - val_loss: 0.1650 - val_auc: 0.9798\n",
      "Epoch 28/30\n",
      "1265/1265 [==============================] - 103s 82ms/step - loss: 0.1461 - auc: 0.9837 - val_loss: 0.1838 - val_auc: 0.9812\n",
      "Epoch 29/30\n",
      "1265/1265 [==============================] - 103s 81ms/step - loss: 0.1392 - auc: 0.9853 - val_loss: 0.1822 - val_auc: 0.9788\n",
      "Epoch 30/30\n",
      "1265/1265 [==============================] - 102s 81ms/step - loss: 0.1362 - auc: 0.9852 - val_loss: 0.1751 - val_auc: 0.9834\n"
     ]
    }
   ],
   "source": [
    "import math\n",
    "\n",
    "batch_size = 32\n",
    "num_batchs = math.ceil(len(training_set) / batch_size)               # number of batches for training data\n",
    "num_batchs_validation = math.ceil(len(validation_set) / batch_size)  # number of batches for validation data\n",
    "\n",
    "# fit model \n",
    "model7=model_7.fit(gen_batch(training_set, batch_size=batch_size, repeat=True),\n",
    "    steps_per_epoch=num_batchs,\n",
    "    epochs=30,\n",
    "    validation_data=gen_batch(validation_set, batch_size=32, repeat=True),\n",
    "    validation_steps=num_batchs_validation)"
   ]
  },
  {
   "cell_type": "code",
   "execution_count": 67,
   "metadata": {},
   "outputs": [
    {
     "data": {
      "image/png": "[encoded data removed]",
      "text/plain": [
       "<Figure size 432x288 with 1 Axes>"
      ]
     },
     "metadata": {
      "needs_background": "light"
     },
     "output_type": "display_data"
    },
    {
     "data": {
      "image/png": "[encoded data removed]",
      "text/plain": [
       "<Figure size 432x288 with 1 Axes>"
      ]
     },
     "metadata": {
      "needs_background": "light"
     },
     "output_type": "display_data"
    }
   ],
   "source": [
    "plot_graphs(model7, \"loss\")\n",
    "plot_graphs(model7, \"auc\")"
   ]
  },
  {
   "cell_type": "markdown",
   "metadata": {},
   "source": [
    "**Observation**\n",
    "\n",
    "After running the model I observed that the model's performanc almost the same as in Trail_6. The model perform very good and gave a very high accuracy and the model learnt very well as there is no underfitting or overfitting according to the plot of (loss & accuracy) which mean using GGNN aggregation mechanisms with ['hidden_dim'] = 64 and ['dense_every_num_layers']=8 and ['dense_intermediate_layer_activation'] ='tanh'  has a very good effect on the model's performance."
   ]
  },
  {
   "cell_type": "code",
   "execution_count": 68,
   "metadata": {},
   "outputs": [
    {
     "data": {
      "text/plain": [
       "array([4.6380481e-01, 2.0950422e-07, 4.5973522e-07, ..., 5.2161813e-03,\n",
       "       1.5485287e-04, 9.9925542e-01], dtype=float32)"
      ]
     },
     "execution_count": 68,
     "metadata": {},
     "output_type": "execute_result"
    }
   ],
   "source": [
    "# get the prediction values from predict model \n",
    "y_pred = model_7.predict(gen_batch(testing_set, batch_size=16, shuffle=False))\n",
    "y_pred = np.reshape(y_pred, -1)\n",
    "y_pred"
   ]
  },
  {
   "cell_type": "code",
   "execution_count": 69,
   "metadata": {},
   "outputs": [],
   "source": [
    "import pandas as pd \n",
    "\n",
    "submission = pd.DataFrame({'label':y_pred})\n",
    "submission.index.name = 'id'\n",
    "submission.to_csv('sample_submission_7.csv')"
   ]
  },
  {
   "cell_type": "markdown",
   "metadata": {},
   "source": [
    "# Trial_8"
   ]
  },
  {
   "cell_type": "markdown",
   "metadata": {},
   "source": [
    "**Thoughts and observations for trial 8, plan for trial 9**\n",
    "\n",
    "**Thoughts**\n",
    "\n",
    "I will build a GNN model to make a prediction based on our data (SDF file) with hyperparamters\n",
    "\n",
    "* params[\"hidden_dim\"] = 64\n",
    "\n",
    "* params[\"message_calculation_class\"] = 'GGNN'\n",
    "\n",
    "I will build the model by adding Embedding layer to enables us to convert each word into a fixed length vector of defined size and adding a GNN input layer to encode data about the graph's structure.then uses this data to update the node and edge representations that were created at the start , adding dense(1,activation='sigmoid') as here we only output 1 probability and it is a binary classification\n",
    "\n",
    "Here I used GGNN as an aggregation mechanisms in the graph convolution layer because GGNN perform well on problems with long-term dependencies.The long-term dependencies are encoded by node and edge gates. Therefore, Gated Graph Neural Networks improve Recurrent Graph Neural Networks by adding gating mechanisms. These gates are responsible for remembering and forgetting information in different states.[1]\n",
    "\n",
    "**Expectation**\n",
    "\n",
    "The model's performance will be very good and the model will learn well as I change [\"hidden_dim\"] = 64 and using the GNN with GGNN as an aggregation mechanisms models are very well suited to the type of data used (SDF) to develop and evaluate the model in order to achieve the best prediction.\n",
    "\n",
    "my expectation that the model performance may affect as I change the hyperparamets and add avtivation function\n",
    "\n",
    "**Observation**\n",
    "\n",
    "The model's performance will be good but less than the previous trial as I remove [\"dense_every_num_layers\"] and may not happen overfitting or underfitting.\n",
    "\n",
    "**Plan for Trial_9**\n",
    "\n",
    "I will apply other aggregation mechanisms GGNN that used in the graph convolution layer and change hyperparameters to be ['hidden_dim'] = 64 and remove ['dense_every_num_layers'] To find out if there is effect on the model performance or not."
   ]
  },
  {
   "cell_type": "code",
   "execution_count": 81,
   "metadata": {},
   "outputs": [
    {
     "name": "stdout",
     "output_type": "stream",
     "text": [
      "gnn_out KerasTensor(type_spec=TensorSpec(shape=(None, 64), dtype=tf.float32, name=None), name='gnn_11/StatefulPartitionedCall:0', description=\"created by layer 'gnn_11'\")\n",
      "mean: KerasTensor(type_spec=TensorSpec(shape=(None, 64), dtype=tf.float32, name=None), name='tf.math.segment_mean_11/SegmentMean:0', description=\"created by layer 'tf.math.segment_mean_11'\")\n",
      "pred: KerasTensor(type_spec=TensorSpec(shape=(None, 1), dtype=tf.float32, name=None), name='dense_11/Sigmoid:0', description=\"created by layer 'dense_11'\")\n",
      "Model: \"model_11\"\n",
      "__________________________________________________________________________________________________\n",
      " Layer (type)                   Output Shape         Param #     Connected to                     \n",
      "==================================================================================================\n",
      " input_36 (InputLayer)          [(None,)]            0           []                               \n",
      "                                                                                                  \n",
      " input_34 (InputLayer)          [(None,)]            0           []                               \n",
      "                                                                                                  \n",
      " tf.math.reduce_max_11 (TFOpLam  ()                  0           ['input_36[0][0]']               \n",
      " bda)                                                                                             \n",
      "                                                                                                  \n",
      " embedding_11 (Embedding)       (None, 20)           10000       ['input_34[0][0]']               \n",
      "                                                                                                  \n",
      " input_35 (InputLayer)          [(None, 2)]          0           []                               \n",
      "                                                                                                  \n",
      " tf.__operators__.add_11 (TFOpL  ()                  0           ['tf.math.reduce_max_11[0][0]']  \n",
      " ambda)                                                                                           \n",
      "                                                                                                  \n",
      " gnn_11 (GNN)                   (None, 64)           171392      ['embedding_11[0][0]',           \n",
      "                                                                  'input_35[0][0]',               \n",
      "                                                                  'input_36[0][0]',               \n",
      "                                                                  'tf.__operators__.add_11[0][0]']\n",
      "                                                                                                  \n",
      " tf.math.segment_mean_11 (TFOpL  (None, 64)          0           ['gnn_11[0][0]',                 \n",
      " ambda)                                                           'input_36[0][0]']               \n",
      "                                                                                                  \n",
      " dense_11 (Dense)               (None, 1)            65          ['tf.math.segment_mean_11[0][0]']\n",
      "                                                                                                  \n",
      "==================================================================================================\n",
      "Total params: 181,457\n",
      "Trainable params: 181,457\n",
      "Non-trainable params: 0\n",
      "__________________________________________________________________________________________________\n"
     ]
    }
   ],
   "source": [
    "# import libraries needed to build model \n",
    "import tensorflow as tf\n",
    "from tensorflow import keras\n",
    "from tensorflow.keras import Input, Model\n",
    "from tensorflow.keras.layers import Embedding, Dense\n",
    "from tensorflow.keras.optimizers import Adam\n",
    "from tensorflow.math import segment_mean\n",
    "\n",
    " #Input layer for nodes\n",
    "data = keras.Input(batch_shape=(None,))\n",
    "\n",
    "# the first dim is different to the previous one. it is the total number of edges in this batch\n",
    "edge = keras.Input(batch_shape=(None, 2), dtype=tf.int32)     # Input layer for edge data    # edge is 2D \n",
    "node2graph = keras.Input(batch_shape=(None,), dtype=tf.int32) # Input layer for node2graph\n",
    "embeded = Embedding(tokenizer.num_words, 20)(data)            # define embedding layer\n",
    "\n",
    "# number of graphs (number of samples)\n",
    "num_graph = tf.reduce_max(node2graph)+1\n",
    "\n",
    "# gnn_input layer with inputs as defined above\n",
    "gnn_input = GNNInput(\n",
    "    node_features=embeded,\n",
    "    adjacency_lists=(edge,),\n",
    "    node_to_graph_map=node2graph, \n",
    "    num_graphs=num_graph,)\n",
    "\n",
    "# https://github.com/microsoft/tf2-gnn/blob/master/tf2_gnn/layers/gnn.py\n",
    "params = GNN.get_default_hyperparameters()\n",
    "params['hidden_dim'] = 64   # hidden dimension of gnn layer \n",
    "params[\"message_calculation_class\"] = 'GGNN' # configures the message passing style using RGCN layer \n",
    "gnn_layer = GNN(params)\n",
    "gnn_out = gnn_layer(gnn_input)  # gnn output layer \n",
    "\n",
    "print('gnn_out', gnn_out)\n",
    "\n",
    "# https://www.tensorflow.org/api_docs/python/tf/math/segment_mean\n",
    "avg = segment_mean(data=gnn_out,segment_ids=node2graph)  #calculating segmented mean based on segment_ids\n",
    "print('mean:', avg)\n",
    "\n",
    "pred = Dense(1, activation='sigmoid')(avg)        #binary classification: Dense(1), but here we only output 1 probability\n",
    "print('pred:', pred)\n",
    "\n",
    "\n",
    "\n",
    "model_8 = Model(\n",
    "    #inputs are data,edges and node2graph\n",
    "    inputs={   \n",
    "        'data': data,\n",
    "        'edges': edge,\n",
    "        'node2grah': node2graph,},\n",
    "    #output: prediction value from dense layer\n",
    "    outputs=pred)\n",
    "# print summary of model \n",
    "model_8.summary()"
   ]
  },
  {
   "cell_type": "code",
   "execution_count": 82,
   "metadata": {},
   "outputs": [],
   "source": [
    "# compile model \n",
    "model_8.compile(loss='BinaryCrossentropy',metrics=['AUC'])"
   ]
  },
  {
   "cell_type": "code",
   "execution_count": 83,
   "metadata": {},
   "outputs": [
    {
     "name": "stdout",
     "output_type": "stream",
     "text": [
      "Epoch 1/30\n",
      "1265/1265 [==============================] - 115s 89ms/step - loss: 0.6098 - auc: 0.7267 - val_loss: 0.5630 - val_auc: 0.7826\n",
      "Epoch 2/30\n",
      "1265/1265 [==============================] - 111s 87ms/step - loss: 0.5527 - auc: 0.7926 - val_loss: 0.5245 - val_auc: 0.8191\n",
      "Epoch 3/30\n",
      "1265/1265 [==============================] - 113s 89ms/step - loss: 0.5204 - auc: 0.8210 - val_loss: 0.5014 - val_auc: 0.8370\n",
      "Epoch 4/30\n",
      "1265/1265 [==============================] - 128s 101ms/step - loss: 0.4836 - auc: 0.8490 - val_loss: 0.4739 - val_auc: 0.8618\n",
      "Epoch 5/30\n",
      "1265/1265 [==============================] - 110s 87ms/step - loss: 0.4491 - auc: 0.8719 - val_loss: 0.4298 - val_auc: 0.8860\n",
      "Epoch 6/30\n",
      "1265/1265 [==============================] - 111s 88ms/step - loss: 0.4217 - auc: 0.8880 - val_loss: 0.4000 - val_auc: 0.9020\n",
      "Epoch 7/30\n",
      "1265/1265 [==============================] - 114s 90ms/step - loss: 0.3950 - auc: 0.9023 - val_loss: 0.3763 - val_auc: 0.9152\n",
      "Epoch 8/30\n",
      "1265/1265 [==============================] - 111s 87ms/step - loss: 0.3629 - auc: 0.9179 - val_loss: 0.3397 - val_auc: 0.9281\n",
      "Epoch 9/30\n",
      "1265/1265 [==============================] - 119s 94ms/step - loss: 0.3347 - auc: 0.9301 - val_loss: 0.3191 - val_auc: 0.9367\n",
      "Epoch 10/30\n",
      "1265/1265 [==============================] - 111s 87ms/step - loss: 0.3063 - auc: 0.9406 - val_loss: 0.2813 - val_auc: 0.9475\n",
      "Epoch 11/30\n",
      "1265/1265 [==============================] - 111s 88ms/step - loss: 0.2788 - auc: 0.9501 - val_loss: 0.2719 - val_auc: 0.9514\n",
      "Epoch 12/30\n",
      "1265/1265 [==============================] - 109s 86ms/step - loss: 0.2570 - auc: 0.9573 - val_loss: 0.2395 - val_auc: 0.9602\n",
      "Epoch 13/30\n",
      "1265/1265 [==============================] - 108s 85ms/step - loss: 0.2344 - auc: 0.9635 - val_loss: 0.2446 - val_auc: 0.9608\n",
      "Epoch 14/30\n",
      "1265/1265 [==============================] - 107s 84ms/step - loss: 0.2174 - auc: 0.9682 - val_loss: 0.2501 - val_auc: 0.9659\n",
      "Epoch 15/30\n",
      "1265/1265 [==============================] - 113s 89ms/step - loss: 0.2040 - auc: 0.9714 - val_loss: 0.1996 - val_auc: 0.9714\n",
      "Epoch 16/30\n",
      "1265/1265 [==============================] - 115s 91ms/step - loss: 0.1888 - auc: 0.9748 - val_loss: 0.2168 - val_auc: 0.9751\n",
      "Epoch 17/30\n",
      "1265/1265 [==============================] - 116s 92ms/step - loss: 0.1779 - auc: 0.9774 - val_loss: 0.2497 - val_auc: 0.9716\n",
      "Epoch 18/30\n",
      "1265/1265 [==============================] - 112s 89ms/step - loss: 0.1712 - auc: 0.9787 - val_loss: 0.2168 - val_auc: 0.9729\n",
      "Epoch 19/30\n",
      "1265/1265 [==============================] - 114s 90ms/step - loss: 0.1626 - auc: 0.9806 - val_loss: 0.2016 - val_auc: 0.9738\n",
      "Epoch 20/30\n",
      "1265/1265 [==============================] - 112s 89ms/step - loss: 0.1544 - auc: 0.9819 - val_loss: 0.1982 - val_auc: 0.9774\n",
      "Epoch 21/30\n",
      "1265/1265 [==============================] - 112s 89ms/step - loss: 0.1494 - auc: 0.9828 - val_loss: 0.2134 - val_auc: 0.9773\n",
      "Epoch 22/30\n",
      "1265/1265 [==============================] - 114s 90ms/step - loss: 0.1414 - auc: 0.9841 - val_loss: 0.1947 - val_auc: 0.9794\n",
      "Epoch 23/30\n",
      "1265/1265 [==============================] - 113s 89ms/step - loss: 0.1367 - auc: 0.9853 - val_loss: 0.1983 - val_auc: 0.9804\n",
      "Epoch 24/30\n",
      "1265/1265 [==============================] - 113s 89ms/step - loss: 0.1301 - auc: 0.9863 - val_loss: 0.2124 - val_auc: 0.9806\n",
      "Epoch 25/30\n",
      "1265/1265 [==============================] - 113s 89ms/step - loss: 0.1275 - auc: 0.9868 - val_loss: 0.1612 - val_auc: 0.9824\n",
      "Epoch 26/30\n",
      "1265/1265 [==============================] - 113s 89ms/step - loss: 0.1254 - auc: 0.9872 - val_loss: 0.1973 - val_auc: 0.9807\n",
      "Epoch 27/30\n",
      "1265/1265 [==============================] - 113s 89ms/step - loss: 0.1166 - auc: 0.9886 - val_loss: 0.1825 - val_auc: 0.9795\n",
      "Epoch 28/30\n",
      "1265/1265 [==============================] - 116s 92ms/step - loss: 0.1159 - auc: 0.9885 - val_loss: 0.2002 - val_auc: 0.9791\n",
      "Epoch 29/30\n",
      "1265/1265 [==============================] - 113s 90ms/step - loss: 0.1152 - auc: 0.9893 - val_loss: 0.1971 - val_auc: 0.9807\n",
      "Epoch 30/30\n",
      "1265/1265 [==============================] - 119s 94ms/step - loss: 0.1113 - auc: 0.9894 - val_loss: 0.2062 - val_auc: 0.9815\n"
     ]
    }
   ],
   "source": [
    "import math\n",
    "\n",
    "batch_size = 32\n",
    "num_batchs = math.ceil(len(training_set) / batch_size)               # number of batches for training data\n",
    "num_batchs_validation = math.ceil(len(validation_set) / batch_size)  # number of batches for validation data\n",
    "\n",
    "# fit model \n",
    "model8=model_8.fit(gen_batch(training_set, batch_size=batch_size, repeat=True),\n",
    "    steps_per_epoch=num_batchs,\n",
    "    epochs=30,\n",
    "    validation_data=gen_batch(validation_set, batch_size=32, repeat=True),\n",
    "    validation_steps=num_batchs_validation)"
   ]
  },
  {
   "cell_type": "code",
   "execution_count": 93,
   "metadata": {},
   "outputs": [
    {
     "data": {
      "image/png": "[encoded data removed]",
      "text/plain": [
       "<Figure size 432x288 with 1 Axes>"
      ]
     },
     "metadata": {
      "needs_background": "light"
     },
     "output_type": "display_data"
    },
    {
     "data": {
      "image/png": "[encoded data removed]",
      "text/plain": [
       "<Figure size 432x288 with 1 Axes>"
      ]
     },
     "metadata": {
      "needs_background": "light"
     },
     "output_type": "display_data"
    }
   ],
   "source": [
    "# recall fuction for plotting\n",
    "plot_graphs(model8, \"loss\")\n",
    "plot_graphs(model8, \"auc\")"
   ]
  },
  {
   "cell_type": "markdown",
   "metadata": {},
   "source": [
    "**Observation**\n",
    "\n",
    "After running the model I observed that the model perform very good and gave a very high accuracy and the model learnt very well as there is a small overfitting according to the plot of (loss & accuracy) which mean using GGNN aggregation mechanisms with ['hidden_dim'] = 64 has a very good effect on the model's performance."
   ]
  },
  {
   "cell_type": "code",
   "execution_count": 94,
   "metadata": {},
   "outputs": [
    {
     "data": {
      "text/plain": [
       "array([2.3299754e-02, 1.9168216e-01, 9.6782798e-01, ..., 3.1421066e-06,\n",
       "       2.7560698e-05, 9.9730313e-01], dtype=float32)"
      ]
     },
     "execution_count": 94,
     "metadata": {},
     "output_type": "execute_result"
    }
   ],
   "source": [
    "# get the prediction values from predict model \n",
    "y_pred = model_8.predict(gen_batch(testing_set, batch_size=16, shuffle=False))\n",
    "y_pred = np.reshape(y_pred, -1)\n",
    "y_pred"
   ]
  },
  {
   "cell_type": "code",
   "execution_count": 95,
   "metadata": {},
   "outputs": [],
   "source": [
    "import pandas as pd \n",
    "\n",
    "submission = pd.DataFrame({'label':y_pred})\n",
    "submission.index.name = 'id'\n",
    "submission.to_csv('sample_submission_8.csv')"
   ]
  },
  {
   "cell_type": "markdown",
   "metadata": {},
   "source": [
    "# Trial_9"
   ]
  },
  {
   "cell_type": "markdown",
   "metadata": {},
   "source": [
    "**Thoughts and observations for trial 9, plan for trial 10**\n",
    "\n",
    "**Thoughts**\n",
    "\n",
    "I will build a GNN model to make a prediction based on our data (SDF file) with hyperparamters\n",
    "\n",
    "* params[\"hidden_dim\"] = 64\n",
    "\n",
    "* params['dense_every_num_layers']=16\n",
    "\n",
    "* params[\"message_calculation_class\"] = 'RGCN'\n",
    "\n",
    "I will build the model by adding Embedding layer to enables us to convert each word into a fixed length vector of defined size and adding a GNN input layer to encode data about the graph's structure.then uses this data to update the node and edge representations that were created at the start , adding dense(1,activation='sigmoid') as here we only output 1 probability and it is a binary classification\n",
    "\n",
    "Here I used RGCN as an aggregation mechanisms in the graph convolution layer\n",
    "\n",
    "R-GCN has been proposed as a multi-relational version of the GCN architecture and has shown state-of-the-art performance on standard knowledge graph completion tasks including entity classification and link prediction.[2]\n",
    "\n",
    "**Expectation**\n",
    "\n",
    "The model's performance will be very good and the model will learn well as using hyperparameters [\"hidden_dim\"] = 64, ['dense_every_num_layers']=16 and use the GNN with RGCN as an aggregation mechanisms models are very well suited to the type of data as R-GCN is defined over the multimodal graphs and it will appropiate to develop and evaluate the model in order to achieve the best prediction.\n",
    "\n",
    "**Observation**\n",
    "\n",
    "The model will learn and perform well and get high accuracy and may not happen overfitting or underfitting.\n",
    "\n",
    "**Plan for Trial_10**\n",
    "\n",
    "I will don't use any aggregation mechanisms that used in the graph convolution layer but use only hyperparameters  To find out its effect of didn't use any of aggregation mechanisms on the model performance."
   ]
  },
  {
   "cell_type": "code",
   "execution_count": 84,
   "metadata": {},
   "outputs": [
    {
     "name": "stdout",
     "output_type": "stream",
     "text": [
      "gnn_out KerasTensor(type_spec=TensorSpec(shape=(None, 64), dtype=tf.float32, name=None), name='gnn_12/StatefulPartitionedCall:0', description=\"created by layer 'gnn_12'\")\n",
      "mean: KerasTensor(type_spec=TensorSpec(shape=(None, 64), dtype=tf.float32, name=None), name='tf.math.segment_mean_12/SegmentMean:0', description=\"created by layer 'tf.math.segment_mean_12'\")\n",
      "pred: KerasTensor(type_spec=TensorSpec(shape=(None, 1), dtype=tf.float32, name=None), name='dense_12/Sigmoid:0', description=\"created by layer 'dense_12'\")\n",
      "Model: \"model_12\"\n",
      "__________________________________________________________________________________________________\n",
      " Layer (type)                   Output Shape         Param #     Connected to                     \n",
      "==================================================================================================\n",
      " input_39 (InputLayer)          [(None,)]            0           []                               \n",
      "                                                                                                  \n",
      " input_37 (InputLayer)          [(None,)]            0           []                               \n",
      "                                                                                                  \n",
      " tf.math.reduce_max_12 (TFOpLam  ()                  0           ['input_39[0][0]']               \n",
      " bda)                                                                                             \n",
      "                                                                                                  \n",
      " embedding_12 (Embedding)       (None, 20)           10000       ['input_37[0][0]']               \n",
      "                                                                                                  \n",
      " input_38 (InputLayer)          [(None, 2)]          0           []                               \n",
      "                                                                                                  \n",
      " tf.__operators__.add_12 (TFOpL  ()                  0           ['tf.math.reduce_max_12[0][0]']  \n",
      " ambda)                                                                                           \n",
      "                                                                                                  \n",
      " gnn_12 (GNN)                   (None, 64)           67456       ['embedding_12[0][0]',           \n",
      "                                                                  'input_38[0][0]',               \n",
      "                                                                  'input_39[0][0]',               \n",
      "                                                                  'tf.__operators__.add_12[0][0]']\n",
      "                                                                                                  \n",
      " tf.math.segment_mean_12 (TFOpL  (None, 64)          0           ['gnn_12[0][0]',                 \n",
      " ambda)                                                           'input_39[0][0]']               \n",
      "                                                                                                  \n",
      " dense_12 (Dense)               (None, 1)            65          ['tf.math.segment_mean_12[0][0]']\n",
      "                                                                                                  \n",
      "==================================================================================================\n",
      "Total params: 77,521\n",
      "Trainable params: 77,521\n",
      "Non-trainable params: 0\n",
      "__________________________________________________________________________________________________\n"
     ]
    }
   ],
   "source": [
    "# import libraries needed to build model \n",
    "import tensorflow as tf\n",
    "from tensorflow import keras\n",
    "from tensorflow.keras import Input, Model\n",
    "from tensorflow.keras.layers import Embedding, Dense\n",
    "from tensorflow.keras.optimizers import Adam\n",
    "from tensorflow.math import segment_mean\n",
    "\n",
    " #Input layer for nodes\n",
    "data = keras.Input(batch_shape=(None,))\n",
    "\n",
    "# the first dim is different to the previous one. it is the total number of edges in this batch\n",
    "edge = keras.Input(batch_shape=(None, 2), dtype=tf.int32)     # Input layer for edge data    # edge is 2D \n",
    "node2graph = keras.Input(batch_shape=(None,), dtype=tf.int32) # Input layer for node2graph\n",
    "embeded = Embedding(tokenizer.num_words, 20)(data)            # define embedding layer with each token embedded as size vector\n",
    "\n",
    "# number of graphs (number of samples)\n",
    "num_graph = tf.reduce_max(node2graph)+1\n",
    "\n",
    "# gnn_input layer with inputs as defined above\n",
    "gnn_input = GNNInput(\n",
    "    node_features=embeded,\n",
    "    adjacency_lists=(edge,),\n",
    "    node_to_graph_map=node2graph, \n",
    "    num_graphs=num_graph,)\n",
    "\n",
    "# https://github.com/microsoft/tf2-gnn/blob/master/tf2_gnn/layers/gnn.py\n",
    "params = GNN.get_default_hyperparameters()\n",
    "params['hidden_dim'] = 64   # hidden dimension of gnn layer \n",
    "params['dense_every_num_layers']=16\n",
    "params[\"message_calculation_class\"] = 'RGCN' # configures the message passing style using RGCN layer \n",
    "gnn_layer = GNN(params)\n",
    "gnn_out = gnn_layer(gnn_input)  # gnn output layer \n",
    "\n",
    "print('gnn_out', gnn_out)\n",
    "\n",
    "# https://www.tensorflow.org/api_docs/python/tf/math/segment_mean\n",
    "avg = segment_mean(data=gnn_out,segment_ids=node2graph)  #calculating segmented mean based on segment_ids\n",
    "print('mean:', avg)\n",
    "\n",
    "pred = Dense(1, activation='sigmoid')(avg)        #binary classification: Dense(1), but here we only output 1 probability\n",
    "print('pred:', pred)\n",
    "\n",
    "\n",
    "\n",
    "model_9 = Model(\n",
    "    #inputs are data,edges and node2graph\n",
    "    inputs={   \n",
    "        'data': data,\n",
    "        'edges': edge,\n",
    "        'node2grah': node2graph,},\n",
    "    #output: prediction value from dense layer\n",
    "    outputs=pred)\n",
    "# print summary of model \n",
    "model_9.summary()"
   ]
  },
  {
   "cell_type": "code",
   "execution_count": 85,
   "metadata": {},
   "outputs": [],
   "source": [
    "# compile model \n",
    "model_9.compile(loss='BinaryCrossentropy',metrics=['AUC'])"
   ]
  },
  {
   "cell_type": "code",
   "execution_count": 86,
   "metadata": {},
   "outputs": [
    {
     "name": "stdout",
     "output_type": "stream",
     "text": [
      "Epoch 1/20\n",
      "1265/1265 [==============================] - 57s 43ms/step - loss: 0.6258 - auc: 0.7072 - val_loss: 0.6068 - val_auc: 0.7415\n",
      "Epoch 2/20\n",
      "1265/1265 [==============================] - 54s 43ms/step - loss: 0.5946 - auc: 0.7468 - val_loss: 0.5962 - val_auc: 0.7559\n",
      "Epoch 3/20\n",
      "1265/1265 [==============================] - 52s 41ms/step - loss: 0.5803 - auc: 0.7643 - val_loss: 0.5688 - val_auc: 0.7806\n",
      "Epoch 4/20\n",
      "1265/1265 [==============================] - 53s 42ms/step - loss: 0.5627 - auc: 0.7826 - val_loss: 0.5608 - val_auc: 0.7999\n",
      "Epoch 5/20\n",
      "1265/1265 [==============================] - 51s 41ms/step - loss: 0.5426 - auc: 0.8023 - val_loss: 0.5224 - val_auc: 0.8233\n",
      "Epoch 6/20\n",
      "1265/1265 [==============================] - 53s 42ms/step - loss: 0.5253 - auc: 0.8168 - val_loss: 0.5257 - val_auc: 0.8228\n",
      "Epoch 7/20\n",
      "1265/1265 [==============================] - 55s 44ms/step - loss: 0.5148 - auc: 0.8256 - val_loss: 0.4979 - val_auc: 0.8396\n",
      "Epoch 8/20\n",
      "1265/1265 [==============================] - 52s 41ms/step - loss: 0.5011 - auc: 0.8366 - val_loss: 0.4872 - val_auc: 0.8478\n",
      "Epoch 9/20\n",
      "1265/1265 [==============================] - 52s 41ms/step - loss: 0.4915 - auc: 0.8433 - val_loss: 0.5421 - val_auc: 0.8341\n",
      "Epoch 10/20\n",
      "1265/1265 [==============================] - 51s 40ms/step - loss: 0.4836 - auc: 0.8494 - val_loss: 0.4703 - val_auc: 0.8615\n",
      "Epoch 11/20\n",
      "1265/1265 [==============================] - 55s 44ms/step - loss: 0.4728 - auc: 0.8573 - val_loss: 0.4732 - val_auc: 0.8659\n",
      "Epoch 12/20\n",
      "1265/1265 [==============================] - 50s 40ms/step - loss: 0.4677 - auc: 0.8604 - val_loss: 0.4726 - val_auc: 0.8665\n",
      "Epoch 13/20\n",
      "1265/1265 [==============================] - 52s 41ms/step - loss: 0.4619 - auc: 0.8646 - val_loss: 0.4505 - val_auc: 0.8707\n",
      "Epoch 14/20\n",
      "1265/1265 [==============================] - 49s 39ms/step - loss: 0.4547 - auc: 0.8691 - val_loss: 0.4361 - val_auc: 0.8829\n",
      "Epoch 15/20\n",
      "1265/1265 [==============================] - 48s 38ms/step - loss: 0.4493 - auc: 0.8727 - val_loss: 0.4364 - val_auc: 0.8835\n",
      "Epoch 16/20\n",
      "1265/1265 [==============================] - 49s 39ms/step - loss: 0.4437 - auc: 0.8760 - val_loss: 0.4533 - val_auc: 0.8802\n",
      "Epoch 17/20\n",
      "1265/1265 [==============================] - 48s 38ms/step - loss: 0.4433 - auc: 0.8771 - val_loss: 0.4318 - val_auc: 0.8842\n",
      "Epoch 18/20\n",
      "1265/1265 [==============================] - 48s 38ms/step - loss: 0.4400 - auc: 0.8785 - val_loss: 0.4464 - val_auc: 0.8811\n",
      "Epoch 19/20\n",
      "1265/1265 [==============================] - 48s 38ms/step - loss: 0.4329 - auc: 0.8828 - val_loss: 0.4190 - val_auc: 0.8933\n",
      "Epoch 20/20\n",
      "1265/1265 [==============================] - 49s 39ms/step - loss: 0.4336 - auc: 0.8834 - val_loss: 0.4221 - val_auc: 0.8916\n"
     ]
    }
   ],
   "source": [
    "import math\n",
    "\n",
    "batch_size = 32\n",
    "num_batchs = math.ceil(len(training_set) / batch_size)               # number of batches for training data\n",
    "num_batchs_validation = math.ceil(len(validation_set) / batch_size)  # number of batches for validation data\n",
    "\n",
    "# fit model \n",
    "model9=model_9.fit(gen_batch(training_set, batch_size=batch_size, repeat=True),\n",
    "    steps_per_epoch=num_batchs,\n",
    "    epochs=20,\n",
    "    validation_data=gen_batch(validation_set, batch_size=32, repeat=True),\n",
    "    validation_steps=num_batchs_validation)"
   ]
  },
  {
   "cell_type": "code",
   "execution_count": 87,
   "metadata": {},
   "outputs": [
    {
     "data": {
      "image/png": "[encoded data removed]",
      "text/plain": [
       "<Figure size 432x288 with 1 Axes>"
      ]
     },
     "metadata": {
      "needs_background": "light"
     },
     "output_type": "display_data"
    },
    {
     "data": {
      "image/png": "[encoded data removed]",
      "text/plain": [
       "<Figure size 432x288 with 1 Axes>"
      ]
     },
     "metadata": {
      "needs_background": "light"
     },
     "output_type": "display_data"
    }
   ],
   "source": [
    "# recall function for plotting \n",
    "plot_graphs(model9, \"loss\")\n",
    "plot_graphs(model9, \"auc\")"
   ]
  },
  {
   "cell_type": "markdown",
   "metadata": {},
   "source": [
    "Observation\n",
    "\n",
    "After running the model I observed that the model's performance was good as I expected the the model learned well as there is a little overfitting according to the plot of (loss & accuracy) which mean using RGCN aggregation mechanisms has a good effect on the model's performance because R-GCN is defined over the multimodal graphs and our data is (SDF) and we use graghical dataset consist of nodes and links."
   ]
  },
  {
   "cell_type": "code",
   "execution_count": 96,
   "metadata": {},
   "outputs": [
    {
     "data": {
      "text/plain": [
       "array([0.9130295 , 0.14476168, 0.07798484, ..., 0.07032657, 0.65957457,\n",
       "       0.43607056], dtype=float32)"
      ]
     },
     "execution_count": 96,
     "metadata": {},
     "output_type": "execute_result"
    }
   ],
   "source": [
    "# get the prediction values from predict model \n",
    "y_pred = model_9.predict(gen_batch(testing_set, batch_size=16, shuffle=False))\n",
    "y_pred = np.reshape(y_pred, -1)\n",
    "y_pred"
   ]
  },
  {
   "cell_type": "code",
   "execution_count": 97,
   "metadata": {},
   "outputs": [],
   "source": [
    "import pandas as pd \n",
    "\n",
    "submission = pd.DataFrame({'label':y_pred})\n",
    "submission.index.name = 'id'\n",
    "submission.to_csv('sample_submission_9.csv')"
   ]
  },
  {
   "cell_type": "markdown",
   "metadata": {},
   "source": [
    "# Trial_10"
   ]
  },
  {
   "cell_type": "markdown",
   "metadata": {},
   "source": [
    "**Thoughts and observations for trial 10**\n",
    "\n",
    "**Thoughts**\n",
    "\n",
    "I will build a GNN model to make a prediction based on our data (SDF file) with hyperparamters\n",
    "\n",
    "* params[\"hidden_dim\"] = 64\n",
    "\n",
    "* params['dense_every_num_layers']=16\n",
    "\n",
    "I will build the model by adding Embedding layer to enables us to convert each word into a fixed length vector of defined size and adding a GNN input layer to encode data about the graph's structure. then uses this data to update the node and edge representations that were created at the start , adding dense(1,activation='sigmoid') as here we only output 1 probability and it is a binary classification\n",
    "\n",
    "**Expectation**\n",
    "\n",
    "The model's performance will be good and the model will learn well as using hyperparameters [\"hidden_dim\"] = 64, ['dense_every_num_layers']=16 and using the GNN models which are very well suited to the type of data used (SDF) to develop and evaluate the model in order to achieve the best prediction.\n",
    "\n",
    "**Observation**\n",
    "\n",
    "The model's performance will be good and may not happen overfitting or underfitting."
   ]
  },
  {
   "cell_type": "code",
   "execution_count": 88,
   "metadata": {},
   "outputs": [
    {
     "name": "stdout",
     "output_type": "stream",
     "text": [
      "gnn_out KerasTensor(type_spec=TensorSpec(shape=(None, 64), dtype=tf.float32, name=None), name='gnn_13/StatefulPartitionedCall:0', description=\"created by layer 'gnn_13'\")\n",
      "mean: KerasTensor(type_spec=TensorSpec(shape=(None, 64), dtype=tf.float32, name=None), name='tf.math.segment_mean_13/SegmentMean:0', description=\"created by layer 'tf.math.segment_mean_13'\")\n",
      "pred: KerasTensor(type_spec=TensorSpec(shape=(None, 1), dtype=tf.float32, name=None), name='dense_13/Sigmoid:0', description=\"created by layer 'dense_13'\")\n",
      "Model: \"model_13\"\n",
      "__________________________________________________________________________________________________\n",
      " Layer (type)                   Output Shape         Param #     Connected to                     \n",
      "==================================================================================================\n",
      " input_42 (InputLayer)          [(None,)]            0           []                               \n",
      "                                                                                                  \n",
      " input_40 (InputLayer)          [(None,)]            0           []                               \n",
      "                                                                                                  \n",
      " tf.math.reduce_max_13 (TFOpLam  ()                  0           ['input_42[0][0]']               \n",
      " bda)                                                                                             \n",
      "                                                                                                  \n",
      " embedding_13 (Embedding)       (None, 20)           10000       ['input_40[0][0]']               \n",
      "                                                                                                  \n",
      " input_41 (InputLayer)          [(None, 2)]          0           []                               \n",
      "                                                                                                  \n",
      " tf.__operators__.add_13 (TFOpL  ()                  0           ['tf.math.reduce_max_13[0][0]']  \n",
      " ambda)                                                                                           \n",
      "                                                                                                  \n",
      " gnn_13 (GNN)                   (None, 64)           67456       ['embedding_13[0][0]',           \n",
      "                                                                  'input_41[0][0]',               \n",
      "                                                                  'input_42[0][0]',               \n",
      "                                                                  'tf.__operators__.add_13[0][0]']\n",
      "                                                                                                  \n",
      " tf.math.segment_mean_13 (TFOpL  (None, 64)          0           ['gnn_13[0][0]',                 \n",
      " ambda)                                                           'input_42[0][0]']               \n",
      "                                                                                                  \n",
      " dense_13 (Dense)               (None, 1)            65          ['tf.math.segment_mean_13[0][0]']\n",
      "                                                                                                  \n",
      "==================================================================================================\n",
      "Total params: 77,521\n",
      "Trainable params: 77,521\n",
      "Non-trainable params: 0\n",
      "__________________________________________________________________________________________________\n"
     ]
    }
   ],
   "source": [
    "# import libraries needed to build model \n",
    "import tensorflow as tf\n",
    "from tensorflow import keras\n",
    "from tensorflow.keras import Input, Model\n",
    "from tensorflow.keras.layers import Embedding, Dense\n",
    "from tensorflow.keras.optimizers import Adam\n",
    "from tensorflow.math import segment_mean\n",
    "\n",
    " #Input layer for nodes\n",
    "data = keras.Input(batch_shape=(None,))\n",
    "\n",
    "# the first dim is different to the previous one. it is the total number of edges in this batch\n",
    "edge = keras.Input(batch_shape=(None, 2), dtype=tf.int32)     # Input layer for edge data    # edge is 2D \n",
    "node2graph = keras.Input(batch_shape=(None,), dtype=tf.int32) # Input layer for node2graph\n",
    "embeded = Embedding(tokenizer.num_words, 20)(data)            # define embedding layer\n",
    "\n",
    "# number of graphs (number of samples)\n",
    "num_graph = tf.reduce_max(node2graph)+1\n",
    "\n",
    "# gnn_input layer with inputs as defined above\n",
    "gnn_input = GNNInput(\n",
    "    node_features=embeded,\n",
    "    adjacency_lists=(edge,),\n",
    "    node_to_graph_map=node2graph, \n",
    "    num_graphs=num_graph,)\n",
    "\n",
    "# https://github.com/microsoft/tf2-gnn/blob/master/tf2_gnn/layers/gnn.py\n",
    "params = GNN.get_default_hyperparameters()\n",
    "params[\"hidden_dim\"] = 64   # hidden dimension of gnn layer\n",
    "params['dense_every_num_layers']=16\n",
    "gnn_layer = GNN(params)\n",
    "gnn_out = gnn_layer(gnn_input)  # gnn output layer \n",
    "\n",
    "print('gnn_out', gnn_out)\n",
    "\n",
    "# https://www.tensorflow.org/api_docs/python/tf/math/segment_mean\n",
    "avg = segment_mean(data=gnn_out,segment_ids=node2graph)  #calculating segmented mean based on segment_ids\n",
    "print('mean:', avg)\n",
    "\n",
    "pred = Dense(1, activation='sigmoid')(avg)        #binary classification: Dense(1), here we only output 1 probability\n",
    "print('pred:', pred)\n",
    "\n",
    "\n",
    "\n",
    "model_10 = Model(\n",
    "    #inputs are data,edges and node2graph\n",
    "    inputs={   \n",
    "        'data': data,\n",
    "        'edges': edge,\n",
    "        'node2grah': node2graph,},\n",
    "    #output: prediction value from dense layer\n",
    "    outputs=pred)\n",
    "# print summary of model \n",
    "model_10.summary()"
   ]
  },
  {
   "cell_type": "code",
   "execution_count": 89,
   "metadata": {},
   "outputs": [],
   "source": [
    "# compile model \n",
    "model_10.compile(loss='BinaryCrossentropy',metrics=['AUC'])"
   ]
  },
  {
   "cell_type": "code",
   "execution_count": 90,
   "metadata": {},
   "outputs": [
    {
     "name": "stdout",
     "output_type": "stream",
     "text": [
      "Epoch 1/20\n",
      "1265/1265 [==============================] - 55s 42ms/step - loss: 0.6230 - auc: 0.7074 - val_loss: 0.6093 - val_auc: 0.7363\n",
      "Epoch 2/20\n",
      "1265/1265 [==============================] - 56s 44ms/step - loss: 0.5937 - auc: 0.7468 - val_loss: 0.5831 - val_auc: 0.7608\n",
      "Epoch 3/20\n",
      "1265/1265 [==============================] - 56s 44ms/step - loss: 0.5797 - auc: 0.7639 - val_loss: 0.5766 - val_auc: 0.7765\n",
      "Epoch 4/20\n",
      "1265/1265 [==============================] - 53s 42ms/step - loss: 0.5652 - auc: 0.7807 - val_loss: 0.5555 - val_auc: 0.8007\n",
      "Epoch 5/20\n",
      "1265/1265 [==============================] - 52s 41ms/step - loss: 0.5468 - auc: 0.7999 - val_loss: 0.5381 - val_auc: 0.8173\n",
      "Epoch 6/20\n",
      "1265/1265 [==============================] - 52s 41ms/step - loss: 0.5278 - auc: 0.8158 - val_loss: 0.5132 - val_auc: 0.8307\n",
      "Epoch 7/20\n",
      "1265/1265 [==============================] - 53s 42ms/step - loss: 0.5122 - auc: 0.8285 - val_loss: 0.5234 - val_auc: 0.8346\n",
      "Epoch 8/20\n",
      "1265/1265 [==============================] - 53s 42ms/step - loss: 0.4970 - auc: 0.8409 - val_loss: 0.5139 - val_auc: 0.8449\n",
      "Epoch 9/20\n",
      "1265/1265 [==============================] - 54s 42ms/step - loss: 0.4848 - auc: 0.8495 - val_loss: 0.4945 - val_auc: 0.8549\n",
      "Epoch 10/20\n",
      "1265/1265 [==============================] - 53s 42ms/step - loss: 0.4721 - auc: 0.8582 - val_loss: 0.4716 - val_auc: 0.8601\n",
      "Epoch 11/20\n",
      "1265/1265 [==============================] - 52s 41ms/step - loss: 0.4636 - auc: 0.8637 - val_loss: 0.4708 - val_auc: 0.8675\n",
      "Epoch 12/20\n",
      "1265/1265 [==============================] - 53s 42ms/step - loss: 0.4561 - auc: 0.8683 - val_loss: 0.4405 - val_auc: 0.8785\n",
      "Epoch 13/20\n",
      "1265/1265 [==============================] - 53s 42ms/step - loss: 0.4486 - auc: 0.8730 - val_loss: 0.4343 - val_auc: 0.8830\n",
      "Epoch 14/20\n",
      "1265/1265 [==============================] - 55s 43ms/step - loss: 0.4384 - auc: 0.8795 - val_loss: 0.4242 - val_auc: 0.8891\n",
      "Epoch 15/20\n",
      "1265/1265 [==============================] - 56s 44ms/step - loss: 0.4314 - auc: 0.8834 - val_loss: 0.4254 - val_auc: 0.8918\n",
      "Epoch 16/20\n",
      "1265/1265 [==============================] - 55s 43ms/step - loss: 0.4269 - auc: 0.8862 - val_loss: 0.4170 - val_auc: 0.8965\n",
      "Epoch 17/20\n",
      "1265/1265 [==============================] - 56s 44ms/step - loss: 0.4170 - auc: 0.8914 - val_loss: 0.4122 - val_auc: 0.8962\n",
      "Epoch 18/20\n",
      "1265/1265 [==============================] - 52s 41ms/step - loss: 0.4134 - auc: 0.8933 - val_loss: 0.4088 - val_auc: 0.9003\n",
      "Epoch 19/20\n",
      "1265/1265 [==============================] - 54s 43ms/step - loss: 0.4062 - auc: 0.8974 - val_loss: 0.3957 - val_auc: 0.9043\n",
      "Epoch 20/20\n",
      "1265/1265 [==============================] - 54s 43ms/step - loss: 0.4010 - auc: 0.9003 - val_loss: 0.3956 - val_auc: 0.9056\n"
     ]
    }
   ],
   "source": [
    "import math\n",
    "\n",
    "batch_size = 32\n",
    "num_batchs = math.ceil(len(training_set) / batch_size)               # number of batches for training data\n",
    "num_batchs_validation = math.ceil(len(validation_set) / batch_size)  # number of batches for validation data\n",
    "\n",
    "# fit model \n",
    "model10=model_10.fit(gen_batch(training_set, batch_size=batch_size, repeat=True),\n",
    "    steps_per_epoch=num_batchs,\n",
    "    epochs=20,\n",
    "    validation_data=gen_batch(validation_set, batch_size=32, repeat=True),\n",
    "    validation_steps=num_batchs_validation)"
   ]
  },
  {
   "cell_type": "code",
   "execution_count": 91,
   "metadata": {},
   "outputs": [
    {
     "data": {
      "image/png": "[encoded data removed]",
      "text/plain": [
       "<Figure size 432x288 with 1 Axes>"
      ]
     },
     "metadata": {
      "needs_background": "light"
     },
     "output_type": "display_data"
    },
    {
     "data": {
      "image/png": "[encoded data removed]",
      "text/plain": [
       "<Figure size 432x288 with 1 Axes>"
      ]
     },
     "metadata": {
      "needs_background": "light"
     },
     "output_type": "display_data"
    }
   ],
   "source": [
    "# recall function for plotting \n",
    "plot_graphs(model10, \"loss\")\n",
    "plot_graphs(model10, \"auc\")"
   ]
  },
  {
   "cell_type": "markdown",
   "metadata": {},
   "source": [
    "**Observation**\n",
    "\n",
    "After running the model I observed that the model's performance was good as I expected the the model learned well as there is no overfitting or underfitting according to the plot of (loss & accuracy) and I observed that the model perform better when using GCN aggregation mechanisms as the model gives higher accuracy."
   ]
  },
  {
   "cell_type": "code",
   "execution_count": 98,
   "metadata": {},
   "outputs": [
    {
     "data": {
      "text/plain": [
       "array([0.8815256 , 0.01402819, 0.09774867, ..., 0.03693816, 0.9062484 ,\n",
       "       0.48329243], dtype=float32)"
      ]
     },
     "execution_count": 98,
     "metadata": {},
     "output_type": "execute_result"
    }
   ],
   "source": [
    "# get the prediction values from predict model \n",
    "y_pred = model_10.predict(gen_batch(testing_set, batch_size=16, shuffle=False))\n",
    "y_pred = np.reshape(y_pred, -1)\n",
    "y_pred"
   ]
  },
  {
   "cell_type": "code",
   "execution_count": 92,
   "metadata": {},
   "outputs": [],
   "source": [
    "import pandas as pd \n",
    "\n",
    "submission = pd.DataFrame({'label':y_pred})\n",
    "submission.index.name = 'id'\n",
    "submission.to_csv('sample_submission_10.csv')"
   ]
  },
  {
   "cell_type": "markdown",
   "metadata": {},
   "source": [
    "# Problem Formulation:"
   ]
  },
  {
   "cell_type": "markdown",
   "metadata": {},
   "source": [
    "**Define the problem**\n",
    "\n",
    "The problem is to predict a chemical compound's anticancer activity based on its chemical structure by using graph data.\n",
    "which consist of chemical compound can be either positive or negative in its effects on lung cancer cells, and thus be labelled as 0 or 1 so it is a binary classification problem.\n",
    "\n",
    "**What is the input?**\n",
    "\n",
    "The input is a graph data (SDF file) which consist of chemical structure of the compound. Each sample of data contains atoms(nodes) and the connections between atoms of the molecule(linkes).\n",
    "\n",
    "**What is the output?** \n",
    "\n",
    "The output is 0, 1 (0: has negative negative effects on lung cancer cells)(1:has positive effect on lung cancer cells.\n",
    "\n",
    "**What data mining function is required?** \n",
    "\n",
    "Data mining function is a binary classification function.\n",
    "\n",
    "**What could be the challenges?**\n",
    "\n",
    "The challenges are\n",
    "\n",
    "* We need to read dataset which is in (SDF) format and need a special way to read it (creating function from scratch) \n",
    "\n",
    "* The data was very unbalanced dataset and need to resample this data using (Up-sampling)\n",
    "\n",
    "* Need to Build GNN model that can able to predict if the chemical compound has  positive or negative effect on lung cancer cells. \n",
    "\n",
    "* Try to improve the model's performance by applying GCN aggregation mechanisms and tuning the hyperparameters.\n",
    "\n",
    "**What is the impact?**\n",
    "\n",
    "The impact is when building the model that can be able to predict the  anticancer activity based on chemical compound this will be very usful for peaple's health (which mean peaple can able to predict if their lung cell is anticancer activity or not).\n",
    "\n",
    "**What is an ideal solution?**\n",
    "\n",
    "The ideal solution is when building the GNN model and using GGNN aggregation mechanisms. The model perform very well and gave very accuracy."
   ]
  },
  {
   "cell_type": "markdown",
   "metadata": {},
   "source": [
    "### What is the experimental protocol used and how was it carried out?\n",
    "    \n",
    "* Reading  the sdf file to get the information about the atoms and their connectivity in the compound. The atoms are represent nodes and connections represent  edges.  The read_sdf method is used to read sdf file\n",
    "\n",
    "\n",
    "* The nodes(atoms) are given as characters (such as  ['H','O','N'....]). So we deal with it as sequence of text data and best way to describe the text data sequence to tokenize the data and then adding the embeddig layer.\n",
    "\n",
    "\n",
    "* Graph convolutional network is used in this assignment to calculate the probability of the output class. We use different  message passing methods as:\n",
    "\n",
    " * GGNN: Gated Graph Neural Networks\n",
    "\n",
    " * RGCN: Relational Graph Convolutional Networks\n",
    "\n",
    " * RGAT: Relational Graph Attention Networks\n",
    "\n",
    " * RGIN: Relational Graph Isomorphism Networks\n",
    " \n",
    "---\n",
    "\n",
    "### How did we tune hyper-parameters in the template?\n",
    "\n",
    "The Hyperparameters that are tuned in this template are \"hidden_dim\" , \"dense_every_num_layers\",  number of epochs, batch size, and size of the hold-out set for validation\n",
    "\n",
    "---\n",
    "\n",
    "### What is the search space and what is the criteria to determine good/bad hyper-parameters?\n",
    "\n",
    "When solving a problem, we usually look for the best solution, among others. The space of all feasible solutions (the set of solutions in which the desired solution is located) is called the search space (also known as the state space).\n",
    "\n",
    "The criteria to determine good/bad hyper-parametersis that the good hyperparameter will deliver the best performance metric or loss as measured on a validation set."
   ]
  },
  {
   "cell_type": "markdown",
   "metadata": {},
   "source": [
    "# The Questions: "
   ]
  },
  {
   "cell_type": "markdown",
   "metadata": {},
   "source": [
    "**1- Based on the provided template, describe the format of the input file (sdf file)**\n",
    "\n",
    "The input file is structure data file (SDF).It contains information on a molecule's chemical composition.\n",
    "\n",
    "SDF files include information about the positions of individual atoms in a chemical molecule as well as the connections between them. \n",
    "The expression 'dolar sign' separates between different compounds.\n",
    "\n",
    "Each molecule begins with a header that contains the compound's name. Other sections include details on the amount of Atoms, the version number, and connections, among other things. The constituents of the compound are described in the atom block. The bond block block describes the compound's bonding structure. Both of these blocks are utilised in this assignment to obtain information about the compound and save it as edges and nodes. Each node represents an atom in a chemical compound.\n",
    "\n",
    "---\n",
    "\n",
    "**2- What are the input tensors to the neural network model (their meaning, not just symbol)? What is each of their dims and their meaning (e.g. batch_size)?**\n",
    "\n",
    "The input tensors to the neural network model are **data, edge and node2graph**\n",
    "\n",
    "**data** The data contains the chemical compound's nodes, each node for the compound are extracted, then tokenized  with tokenizer and padded with the pad sequence method.\n",
    "\n",
    "**data dims** The shape for each batch is **[batch_size*max_len_nodes]** where batch_size is the number of samples in the batch and max_len_nodes is the length of tokenized nodes after apply padding.\n",
    "\n",
    "**edges** Which carries information about atom connections (links between atoms).\n",
    "\n",
    "**edges dims** The shape of edge is **[sum_of_all_edges,2]** which mean number of edges of each sample of the batch_size. \n",
    "\n",
    "**node2graph** This input contains information about segmented ids and is used for segmented mean.\n",
    "\n",
    "**node2graph dims** The shape for each batch is **[batch_size*max_len_nodes]** where batch_size is the number of samples in the batch and max_len_nodes is the length of tokenized nodes after apply padding \n",
    "\n",
    "---\n",
    "\n",
    "**3- For each dim of gnn_out, what does it symbolize? For each dim of avg, what does it symbolize?**\n",
    "\n",
    "**gnn_out dims** The shape of gnn_out is **[batch_size_node_dimension,hidden layers]** where batch_size_node_dimension is the dimension of the input data (node) vector (dimension of tokenized vector for the complete batch).\n",
    "\n",
    "It symbolize the aggregation output of the model for each hidden layer.\n",
    "\n",
    "**avg** The shape of avg is **[batch_size, hidden_layer]**  it is for the final output of the avg\n",
    "\n",
    "**avg** It is a way of collecting information for each sample and representing it in the form of mean data,and it takes the segmented mean of the gnn_out based on the segmented ids\n",
    "\n",
    "---\n",
    "**4- What is the difference between segment_mean and tf.reduce_mean? For each dim of pred, what does it symbolize?**\n",
    "\n",
    "**The difference between segment_mean and tf.reduce_mean is that**\n",
    "**segment_mean** calculate mean of the data which have same segmented ids and **reduce_mean** calculate  mean of elements across dimensions of a given the arguments.\n",
    "\n",
    "**pred** Is the output (pred) which explain the probability of a chemical compound to be active for the cancer cell or not.\n",
    "\n",
    "The shape of pred is [batch_size,1]. for each sample, the output is  number which represents the probability of each chemical compound.\n",
    "\n",
    "---\n",
    "\n",
    "**5- What is the motivation/theory/idea to use multiple gcn layers comparing to just one? How many layers were used in the template?** \n",
    "\n",
    "**The idea to use multiple gcn layers** helps to properly incorporate all graph complexity, resulting in a better model.\n",
    "\n",
    "**The layers were used in the template** The default layer are 4 as given in the documentaion. The default message passing method is rgcn (Graph convolution layers)\n",
    "\n"
   ]
  },
  {
   "cell_type": "markdown",
   "metadata": {},
   "source": [
    "# References"
   ]
  },
  {
   "cell_type": "markdown",
   "metadata": {},
   "source": [
    "[1] https://cnvrg.io/graph-neural-networks/\n",
    "\n",
    "[2] http://snap.stanford.edu/class/cs224w-2019/project/26223353.pdf\n",
    "\n",
    "[3] https://arxiv.org/abs/2109.05922#:~:text=Graph%20Attention%20Network%20(GAT)%20focuses,(e.g.%2C%20knowledge%20graphs).\n",
    "\n",
    "[4] https://www.researchgate.net/publication/342573754_Understanding_Graph_Isomorphism_Network_for_rs-fMRI_Functional_Connectivity_Analysis"
   ]
  }
 ],
 "metadata": {
  "colab": {
   "name": "gcnn-template_edited.ipynb",
   "provenance": []
  },
  "kernelspec": {
   "display_name": "Python 3 (ipykernel)",
   "language": "python",
   "name": "python3"
  },
  "language_info": {
   "codemirror_mode": {
    "name": "ipython",
    "version": 3
   },
   "file_extension": ".py",
   "mimetype": "text/x-python",
   "name": "python",
   "nbconvert_exporter": "python",
   "pygments_lexer": "ipython3",
   "version": "3.9.7"
  },
  "widgets": {
   "application/vnd.jupyter.widget-state+json": {
    "13e879f1b22643299f085e50ff8cadaf": {
     "model_module": "@jupyter-widgets/base",
     "model_module_version": "1.2.0",
     "model_name": "LayoutModel",
     "state": {
      "_model_module": "@jupyter-widgets/base",
      "_model_module_version": "1.2.0",
      "_model_name": "LayoutModel",
      "_view_count": null,
      "_view_module": "@jupyter-widgets/base",
      "_view_module_version": "1.2.0",
      "_view_name": "LayoutView",
      "align_content": null,
      "align_items": null,
      "align_self": null,
      "border": null,
      "bottom": null,
      "display": null,
      "flex": null,
      "flex_flow": null,
      "grid_area": null,
      "grid_auto_columns": null,
      "grid_auto_flow": null,
      "grid_auto_rows": null,
      "grid_column": null,
      "grid_gap": null,
      "grid_row": null,
      "grid_template_areas": null,
      "grid_template_columns": null,
      "grid_template_rows": null,
      "height": null,
      "justify_content": null,
      "justify_items": null,
      "left": null,
      "margin": null,
      "max_height": null,
      "max_width": null,
      "min_height": null,
      "min_width": null,
      "object_fit": null,
      "object_position": null,
      "order": null,
      "overflow": null,
      "overflow_x": null,
      "overflow_y": null,
      "padding": null,
      "right": null,
      "top": null,
      "visibility": null,
      "width": null
     }
    },
    "21325a895b3f4200badd677bba01dbc3": {
     "model_module": "@jupyter-widgets/controls",
     "model_module_version": "1.5.0",
     "model_name": "DescriptionStyleModel",
     "state": {
      "_model_module": "@jupyter-widgets/controls",
      "_model_module_version": "1.5.0",
      "_model_name": "DescriptionStyleModel",
      "_view_count": null,
      "_view_module": "@jupyter-widgets/base",
      "_view_module_version": "1.2.0",
      "_view_name": "StyleView",
      "description_width": ""
     }
    },
    "2f078ccd51f9483699ac1934d735b94c": {
     "model_module": "@jupyter-widgets/controls",
     "model_module_version": "1.5.0",
     "model_name": "FloatProgressModel",
     "state": {
      "_dom_classes": [],
      "_model_module": "@jupyter-widgets/controls",
      "_model_module_version": "1.5.0",
      "_model_name": "FloatProgressModel",
      "_view_count": null,
      "_view_module": "@jupyter-widgets/controls",
      "_view_module_version": "1.5.0",
      "_view_name": "ProgressView",
      "bar_style": "success",
      "description": "",
      "description_tooltip": null,
      "layout": "IPY_MODEL_eb6430813e844894b8ed770ae91a29cd",
      "max": 12326,
      "min": 0,
      "orientation": "horizontal",
      "style": "IPY_MODEL_ddefafb6d61b415686eaadbc97cfe3ef",
      "value": 12326
     }
    },
    "345b51b4c898477b9108c54b388cd30a": {
     "model_module": "@jupyter-widgets/base",
     "model_module_version": "1.2.0",
     "model_name": "LayoutModel",
     "state": {
      "_model_module": "@jupyter-widgets/base",
      "_model_module_version": "1.2.0",
      "_model_name": "LayoutModel",
      "_view_count": null,
      "_view_module": "@jupyter-widgets/base",
      "_view_module_version": "1.2.0",
      "_view_name": "LayoutView",
      "align_content": null,
      "align_items": null,
      "align_self": null,
      "border": null,
      "bottom": null,
      "display": null,
      "flex": null,
      "flex_flow": null,
      "grid_area": null,
      "grid_auto_columns": null,
      "grid_auto_flow": null,
      "grid_auto_rows": null,
      "grid_column": null,
      "grid_gap": null,
      "grid_row": null,
      "grid_template_areas": null,
      "grid_template_columns": null,
      "grid_template_rows": null,
      "height": null,
      "justify_content": null,
      "justify_items": null,
      "left": null,
      "margin": null,
      "max_height": null,
      "max_width": null,
      "min_height": null,
      "min_width": null,
      "object_fit": null,
      "object_position": null,
      "order": null,
      "overflow": null,
      "overflow_x": null,
      "overflow_y": null,
      "padding": null,
      "right": null,
      "top": null,
      "visibility": null,
      "width": null
     }
    },
    "69ea041ebe464ca8ab7700e3a3f9b1cd": {
     "model_module": "@jupyter-widgets/controls",
     "model_module_version": "1.5.0",
     "model_name": "ProgressStyleModel",
     "state": {
      "_model_module": "@jupyter-widgets/controls",
      "_model_module_version": "1.5.0",
      "_model_name": "ProgressStyleModel",
      "_view_count": null,
      "_view_module": "@jupyter-widgets/base",
      "_view_module_version": "1.2.0",
      "_view_name": "StyleView",
      "bar_color": null,
      "description_width": ""
     }
    },
    "7d7ec5e2e2884c06a0a23039ff2bbf07": {
     "model_module": "@jupyter-widgets/controls",
     "model_module_version": "1.5.0",
     "model_name": "HTMLModel",
     "state": {
      "_dom_classes": [],
      "_model_module": "@jupyter-widgets/controls",
      "_model_module_version": "1.5.0",
      "_model_name": "HTMLModel",
      "_view_count": null,
      "_view_module": "@jupyter-widgets/controls",
      "_view_module_version": "1.5.0",
      "_view_name": "HTMLView",
      "description": "",
      "description_tooltip": null,
      "layout": "IPY_MODEL_fb3d162a33bc4eccb0fdf1c49e8131ef",
      "placeholder": "​",
      "style": "IPY_MODEL_eb4e9e4aeddc41f4b83718f7d32ff505",
      "value": "100%"
     }
    },
    "84e92dd8efea4bb188544d49a0398eec": {
     "model_module": "@jupyter-widgets/controls",
     "model_module_version": "1.5.0",
     "model_name": "HBoxModel",
     "state": {
      "_dom_classes": [],
      "_model_module": "@jupyter-widgets/controls",
      "_model_module_version": "1.5.0",
      "_model_name": "HBoxModel",
      "_view_count": null,
      "_view_module": "@jupyter-widgets/controls",
      "_view_module_version": "1.5.0",
      "_view_name": "HBoxView",
      "box_style": "",
      "children": [
       "IPY_MODEL_98803d5c496c411a9f49fdc5ff749140",
       "IPY_MODEL_2f078ccd51f9483699ac1934d735b94c",
       "IPY_MODEL_c2b4e234c14c40378f2e5327eb20269f"
      ],
      "layout": "IPY_MODEL_8a9e7ec2462b4a27b23f6c5391edc166"
     }
    },
    "8a9e7ec2462b4a27b23f6c5391edc166": {
     "model_module": "@jupyter-widgets/base",
     "model_module_version": "1.2.0",
     "model_name": "LayoutModel",
     "state": {
      "_model_module": "@jupyter-widgets/base",
      "_model_module_version": "1.2.0",
      "_model_name": "LayoutModel",
      "_view_count": null,
      "_view_module": "@jupyter-widgets/base",
      "_view_module_version": "1.2.0",
      "_view_name": "LayoutView",
      "align_content": null,
      "align_items": null,
      "align_self": null,
      "border": null,
      "bottom": null,
      "display": null,
      "flex": null,
      "flex_flow": null,
      "grid_area": null,
      "grid_auto_columns": null,
      "grid_auto_flow": null,
      "grid_auto_rows": null,
      "grid_column": null,
      "grid_gap": null,
      "grid_row": null,
      "grid_template_areas": null,
      "grid_template_columns": null,
      "grid_template_rows": null,
      "height": null,
      "justify_content": null,
      "justify_items": null,
      "left": null,
      "margin": null,
      "max_height": null,
      "max_width": null,
      "min_height": null,
      "min_width": null,
      "object_fit": null,
      "object_position": null,
      "order": null,
      "overflow": null,
      "overflow_x": null,
      "overflow_y": null,
      "padding": null,
      "right": null,
      "top": null,
      "visibility": null,
      "width": null
     }
    },
    "98803d5c496c411a9f49fdc5ff749140": {
     "model_module": "@jupyter-widgets/controls",
     "model_module_version": "1.5.0",
     "model_name": "HTMLModel",
     "state": {
      "_dom_classes": [],
      "_model_module": "@jupyter-widgets/controls",
      "_model_module_version": "1.5.0",
      "_model_name": "HTMLModel",
      "_view_count": null,
      "_view_module": "@jupyter-widgets/controls",
      "_view_module_version": "1.5.0",
      "_view_name": "HTMLView",
      "description": "",
      "description_tooltip": null,
      "layout": "IPY_MODEL_cb32c707f6fa4e5b8553392ee3ab10a2",
      "placeholder": "​",
      "style": "IPY_MODEL_21325a895b3f4200badd677bba01dbc3",
      "value": "100%"
     }
    },
    "be4b129e72fe48b896f91e0947b73429": {
     "model_module": "@jupyter-widgets/controls",
     "model_module_version": "1.5.0",
     "model_name": "DescriptionStyleModel",
     "state": {
      "_model_module": "@jupyter-widgets/controls",
      "_model_module_version": "1.5.0",
      "_model_name": "DescriptionStyleModel",
      "_view_count": null,
      "_view_module": "@jupyter-widgets/base",
      "_view_module_version": "1.2.0",
      "_view_name": "StyleView",
      "description_width": ""
     }
    },
    "c2b4e234c14c40378f2e5327eb20269f": {
     "model_module": "@jupyter-widgets/controls",
     "model_module_version": "1.5.0",
     "model_name": "HTMLModel",
     "state": {
      "_dom_classes": [],
      "_model_module": "@jupyter-widgets/controls",
      "_model_module_version": "1.5.0",
      "_model_name": "HTMLModel",
      "_view_count": null,
      "_view_module": "@jupyter-widgets/controls",
      "_view_module_version": "1.5.0",
      "_view_name": "HTMLView",
      "description": "",
      "description_tooltip": null,
      "layout": "IPY_MODEL_d06ecadd8cf1407eaa853f66eb880fed",
      "placeholder": "​",
      "style": "IPY_MODEL_be4b129e72fe48b896f91e0947b73429",
      "value": " 12326/12326 [00:01&lt;00:00, 8750.75it/s]"
     }
    },
    "c59e9b98caf54a25b057544e2cc46c91": {
     "model_module": "@jupyter-widgets/controls",
     "model_module_version": "1.5.0",
     "model_name": "HTMLModel",
     "state": {
      "_dom_classes": [],
      "_model_module": "@jupyter-widgets/controls",
      "_model_module_version": "1.5.0",
      "_model_name": "HTMLModel",
      "_view_count": null,
      "_view_module": "@jupyter-widgets/controls",
      "_view_module_version": "1.5.0",
      "_view_name": "HTMLView",
      "description": "",
      "description_tooltip": null,
      "layout": "IPY_MODEL_d0835e7ab889467ab43d455a544ce38a",
      "placeholder": "​",
      "style": "IPY_MODEL_ebd6ecfd76e24c08af04e4c7517a27bf",
      "value": " 25024/25024 [00:07&lt;00:00, 7256.17it/s]"
     }
    },
    "c5a1d3019ce94c5b8397b416921e08a9": {
     "model_module": "@jupyter-widgets/controls",
     "model_module_version": "1.5.0",
     "model_name": "FloatProgressModel",
     "state": {
      "_dom_classes": [],
      "_model_module": "@jupyter-widgets/controls",
      "_model_module_version": "1.5.0",
      "_model_name": "FloatProgressModel",
      "_view_count": null,
      "_view_module": "@jupyter-widgets/controls",
      "_view_module_version": "1.5.0",
      "_view_name": "ProgressView",
      "bar_style": "success",
      "description": "",
      "description_tooltip": null,
      "layout": "IPY_MODEL_345b51b4c898477b9108c54b388cd30a",
      "max": 25024,
      "min": 0,
      "orientation": "horizontal",
      "style": "IPY_MODEL_69ea041ebe464ca8ab7700e3a3f9b1cd",
      "value": 25024
     }
    },
    "cb32c707f6fa4e5b8553392ee3ab10a2": {
     "model_module": "@jupyter-widgets/base",
     "model_module_version": "1.2.0",
     "model_name": "LayoutModel",
     "state": {
      "_model_module": "@jupyter-widgets/base",
      "_model_module_version": "1.2.0",
      "_model_name": "LayoutModel",
      "_view_count": null,
      "_view_module": "@jupyter-widgets/base",
      "_view_module_version": "1.2.0",
      "_view_name": "LayoutView",
      "align_content": null,
      "align_items": null,
      "align_self": null,
      "border": null,
      "bottom": null,
      "display": null,
      "flex": null,
      "flex_flow": null,
      "grid_area": null,
      "grid_auto_columns": null,
      "grid_auto_flow": null,
      "grid_auto_rows": null,
      "grid_column": null,
      "grid_gap": null,
      "grid_row": null,
      "grid_template_areas": null,
      "grid_template_columns": null,
      "grid_template_rows": null,
      "height": null,
      "justify_content": null,
      "justify_items": null,
      "left": null,
      "margin": null,
      "max_height": null,
      "max_width": null,
      "min_height": null,
      "min_width": null,
      "object_fit": null,
      "object_position": null,
      "order": null,
      "overflow": null,
      "overflow_x": null,
      "overflow_y": null,
      "padding": null,
      "right": null,
      "top": null,
      "visibility": null,
      "width": null
     }
    },
    "d06ecadd8cf1407eaa853f66eb880fed": {
     "model_module": "@jupyter-widgets/base",
     "model_module_version": "1.2.0",
     "model_name": "LayoutModel",
     "state": {
      "_model_module": "@jupyter-widgets/base",
      "_model_module_version": "1.2.0",
      "_model_name": "LayoutModel",
      "_view_count": null,
      "_view_module": "@jupyter-widgets/base",
      "_view_module_version": "1.2.0",
      "_view_name": "LayoutView",
      "align_content": null,
      "align_items": null,
      "align_self": null,
      "border": null,
      "bottom": null,
      "display": null,
      "flex": null,
      "flex_flow": null,
      "grid_area": null,
      "grid_auto_columns": null,
      "grid_auto_flow": null,
      "grid_auto_rows": null,
      "grid_column": null,
      "grid_gap": null,
      "grid_row": null,
      "grid_template_areas": null,
      "grid_template_columns": null,
      "grid_template_rows": null,
      "height": null,
      "justify_content": null,
      "justify_items": null,
      "left": null,
      "margin": null,
      "max_height": null,
      "max_width": null,
      "min_height": null,
      "min_width": null,
      "object_fit": null,
      "object_position": null,
      "order": null,
      "overflow": null,
      "overflow_x": null,
      "overflow_y": null,
      "padding": null,
      "right": null,
      "top": null,
      "visibility": null,
      "width": null
     }
    },
    "d0835e7ab889467ab43d455a544ce38a": {
     "model_module": "@jupyter-widgets/base",
     "model_module_version": "1.2.0",
     "model_name": "LayoutModel",
     "state": {
      "_model_module": "@jupyter-widgets/base",
      "_model_module_version": "1.2.0",
      "_model_name": "LayoutModel",
      "_view_count": null,
      "_view_module": "@jupyter-widgets/base",
      "_view_module_version": "1.2.0",
      "_view_name": "LayoutView",
      "align_content": null,
      "align_items": null,
      "align_self": null,
      "border": null,
      "bottom": null,
      "display": null,
      "flex": null,
      "flex_flow": null,
      "grid_area": null,
      "grid_auto_columns": null,
      "grid_auto_flow": null,
      "grid_auto_rows": null,
      "grid_column": null,
      "grid_gap": null,
      "grid_row": null,
      "grid_template_areas": null,
      "grid_template_columns": null,
      "grid_template_rows": null,
      "height": null,
      "justify_content": null,
      "justify_items": null,
      "left": null,
      "margin": null,
      "max_height": null,
      "max_width": null,
      "min_height": null,
      "min_width": null,
      "object_fit": null,
      "object_position": null,
      "order": null,
      "overflow": null,
      "overflow_x": null,
      "overflow_y": null,
      "padding": null,
      "right": null,
      "top": null,
      "visibility": null,
      "width": null
     }
    },
    "ddefafb6d61b415686eaadbc97cfe3ef": {
     "model_module": "@jupyter-widgets/controls",
     "model_module_version": "1.5.0",
     "model_name": "ProgressStyleModel",
     "state": {
      "_model_module": "@jupyter-widgets/controls",
      "_model_module_version": "1.5.0",
      "_model_name": "ProgressStyleModel",
      "_view_count": null,
      "_view_module": "@jupyter-widgets/base",
      "_view_module_version": "1.2.0",
      "_view_name": "StyleView",
      "bar_color": null,
      "description_width": ""
     }
    },
    "e1e657115b424f7a9f9c45dace7ed644": {
     "model_module": "@jupyter-widgets/controls",
     "model_module_version": "1.5.0",
     "model_name": "HBoxModel",
     "state": {
      "_dom_classes": [],
      "_model_module": "@jupyter-widgets/controls",
      "_model_module_version": "1.5.0",
      "_model_name": "HBoxModel",
      "_view_count": null,
      "_view_module": "@jupyter-widgets/controls",
      "_view_module_version": "1.5.0",
      "_view_name": "HBoxView",
      "box_style": "",
      "children": [
       "IPY_MODEL_7d7ec5e2e2884c06a0a23039ff2bbf07",
       "IPY_MODEL_c5a1d3019ce94c5b8397b416921e08a9",
       "IPY_MODEL_c59e9b98caf54a25b057544e2cc46c91"
      ],
      "layout": "IPY_MODEL_13e879f1b22643299f085e50ff8cadaf"
     }
    },
    "eb4e9e4aeddc41f4b83718f7d32ff505": {
     "model_module": "@jupyter-widgets/controls",
     "model_module_version": "1.5.0",
     "model_name": "DescriptionStyleModel",
     "state": {
      "_model_module": "@jupyter-widgets/controls",
      "_model_module_version": "1.5.0",
      "_model_name": "DescriptionStyleModel",
      "_view_count": null,
      "_view_module": "@jupyter-widgets/base",
      "_view_module_version": "1.2.0",
      "_view_name": "StyleView",
      "description_width": ""
     }
    },
    "eb6430813e844894b8ed770ae91a29cd": {
     "model_module": "@jupyter-widgets/base",
     "model_module_version": "1.2.0",
     "model_name": "LayoutModel",
     "state": {
      "_model_module": "@jupyter-widgets/base",
      "_model_module_version": "1.2.0",
      "_model_name": "LayoutModel",
      "_view_count": null,
      "_view_module": "@jupyter-widgets/base",
      "_view_module_version": "1.2.0",
      "_view_name": "LayoutView",
      "align_content": null,
      "align_items": null,
      "align_self": null,
      "border": null,
      "bottom": null,
      "display": null,
      "flex": null,
      "flex_flow": null,
      "grid_area": null,
      "grid_auto_columns": null,
      "grid_auto_flow": null,
      "grid_auto_rows": null,
      "grid_column": null,
      "grid_gap": null,
      "grid_row": null,
      "grid_template_areas": null,
      "grid_template_columns": null,
      "grid_template_rows": null,
      "height": null,
      "justify_content": null,
      "justify_items": null,
      "left": null,
      "margin": null,
      "max_height": null,
      "max_width": null,
      "min_height": null,
      "min_width": null,
      "object_fit": null,
      "object_position": null,
      "order": null,
      "overflow": null,
      "overflow_x": null,
      "overflow_y": null,
      "padding": null,
      "right": null,
      "top": null,
      "visibility": null,
      "width": null
     }
    },
    "ebd6ecfd76e24c08af04e4c7517a27bf": {
     "model_module": "@jupyter-widgets/controls",
     "model_module_version": "1.5.0",
     "model_name": "DescriptionStyleModel",
     "state": {
      "_model_module": "@jupyter-widgets/controls",
      "_model_module_version": "1.5.0",
      "_model_name": "DescriptionStyleModel",
      "_view_count": null,
      "_view_module": "@jupyter-widgets/base",
      "_view_module_version": "1.2.0",
      "_view_name": "StyleView",
      "description_width": ""
     }
    },
    "fb3d162a33bc4eccb0fdf1c49e8131ef": {
     "model_module": "@jupyter-widgets/base",
     "model_module_version": "1.2.0",
     "model_name": "LayoutModel",
     "state": {
      "_model_module": "@jupyter-widgets/base",
      "_model_module_version": "1.2.0",
      "_model_name": "LayoutModel",
      "_view_count": null,
      "_view_module": "@jupyter-widgets/base",
      "_view_module_version": "1.2.0",
      "_view_name": "LayoutView",
      "align_content": null,
      "align_items": null,
      "align_self": null,
      "border": null,
      "bottom": null,
      "display": null,
      "flex": null,
      "flex_flow": null,
      "grid_area": null,
      "grid_auto_columns": null,
      "grid_auto_flow": null,
      "grid_auto_rows": null,
      "grid_column": null,
      "grid_gap": null,
      "grid_row": null,
      "grid_template_areas": null,
      "grid_template_columns": null,
      "grid_template_rows": null,
      "height": null,
      "justify_content": null,
      "justify_items": null,
      "left": null,
      "margin": null,
      "max_height": null,
      "max_width": null,
      "min_height": null,
      "min_width": null,
      "object_fit": null,
      "object_position": null,
      "order": null,
      "overflow": null,
      "overflow_x": null,
      "overflow_y": null,
      "padding": null,
      "right": null,
      "top": null,
      "visibility": null,
      "width": null
     }
    }
   }
  }
 },
 "nbformat": 4,
 "nbformat_minor": 1
}
